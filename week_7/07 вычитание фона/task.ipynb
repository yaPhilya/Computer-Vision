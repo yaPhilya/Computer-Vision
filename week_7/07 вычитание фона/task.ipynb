{
 "cells": [
  {
   "cell_type": "markdown",
   "metadata": {},
   "source": [
    "# Практическое задание\n",
    "\n",
    "## Вычитание фона\n",
    "\n",
    "### О задании\n",
    "\n",
    "В данном задании вам предлагается самостоятельно реализовать алгоритм вычитания фона ViBe. Протестировать этот алгорит на датасете ChangeDetection 2014 года, а также сравнить качество его работы с алгоритмом, основанным на смеси гауссиан. \n",
    "\n",
    "### Инструменты\n",
    "\n",
    "Задание предполагает использование `python3`, не ниже версии `3.5`. Необходимо установить следующие пакеты: `numpy`, `skimage`, `opencv`. "
   ]
  },
  {
   "cell_type": "code",
   "execution_count": 1,
   "metadata": {
    "ExecuteTime": {
     "end_time": "2018-04-05T12:54:38.344834Z",
     "start_time": "2018-04-05T12:54:38.339967Z"
    }
   },
   "outputs": [
    {
     "name": "stdout",
     "output_type": "stream",
     "text": [
      "Requirement already satisfied: numpy in /Users/ya-philya/anaconda3/lib/python3.6/site-packages (1.15.4)\n",
      "Requirement already satisfied: scikit-image in /Users/ya-philya/anaconda3/lib/python3.6/site-packages (0.14.0)\n",
      "Collecting opencv-python\n",
      "\u001b[?25l  Downloading https://files.pythonhosted.org/packages/20/67/150d84f30a8cc6e2af20bc06d5db156ccde03e0922196383086cceaa253b/opencv_python-3.4.3.18-cp36-cp36m-macosx_10_6_x86_64.macosx_10_9_intel.macosx_10_9_x86_64.macosx_10_10_intel.macosx_10_10_x86_64.whl (42.3MB)\n",
      "\u001b[K    100% |████████████████████████████████| 42.3MB 1.1MB/s ta 0:00:011\n",
      "\u001b[?25hRequirement already satisfied: matplotlib>=2.0.0 in /Users/ya-philya/anaconda3/lib/python3.6/site-packages (from scikit-image) (3.0.0)\n",
      "Requirement already satisfied: networkx>=1.8 in /Users/ya-philya/anaconda3/lib/python3.6/site-packages (from scikit-image) (2.2)\n",
      "Requirement already satisfied: six>=1.10.0 in /Users/ya-philya/anaconda3/lib/python3.6/site-packages (from scikit-image) (1.11.0)\n",
      "Requirement already satisfied: pillow>=4.3.0 in /Users/ya-philya/anaconda3/lib/python3.6/site-packages (from scikit-image) (5.3.0)\n",
      "Requirement already satisfied: PyWavelets>=0.4.0 in /Users/ya-philya/anaconda3/lib/python3.6/site-packages (from scikit-image) (1.0.1)\n",
      "Requirement already satisfied: dask[array]>=0.9.0 in /Users/ya-philya/anaconda3/lib/python3.6/site-packages (from scikit-image) (0.20.0)\n",
      "Requirement already satisfied: cloudpickle>=0.2.1 in /Users/ya-philya/anaconda3/lib/python3.6/site-packages (from scikit-image) (0.6.1)\n",
      "Requirement already satisfied: cycler>=0.10 in /Users/ya-philya/anaconda3/lib/python3.6/site-packages (from matplotlib>=2.0.0->scikit-image) (0.10.0)\n",
      "Requirement already satisfied: kiwisolver>=1.0.1 in /Users/ya-philya/anaconda3/lib/python3.6/site-packages (from matplotlib>=2.0.0->scikit-image) (1.0.1)\n",
      "Requirement already satisfied: pyparsing!=2.0.4,!=2.1.2,!=2.1.6,>=2.0.1 in /Users/ya-philya/anaconda3/lib/python3.6/site-packages (from matplotlib>=2.0.0->scikit-image) (2.3.0)\n",
      "Requirement already satisfied: python-dateutil>=2.1 in /Users/ya-philya/anaconda3/lib/python3.6/site-packages (from matplotlib>=2.0.0->scikit-image) (2.7.5)\n",
      "Requirement already satisfied: decorator>=4.3.0 in /Users/ya-philya/anaconda3/lib/python3.6/site-packages (from networkx>=1.8->scikit-image) (4.3.0)\n",
      "Requirement already satisfied: toolz>=0.7.3; extra == \"array\" in /Users/ya-philya/anaconda3/lib/python3.6/site-packages (from dask[array]>=0.9.0->scikit-image) (0.9.0)\n",
      "Requirement already satisfied: setuptools in /Users/ya-philya/anaconda3/lib/python3.6/site-packages (from kiwisolver>=1.0.1->matplotlib>=2.0.0->scikit-image) (40.5.0)\n",
      "Installing collected packages: opencv-python\n",
      "Successfully installed opencv-python-3.4.3.18\n"
     ]
    }
   ],
   "source": [
    "!pip install numpy scikit-image opencv-python\n"
   ]
  },
  {
   "cell_type": "markdown",
   "metadata": {},
   "source": [
    "##  Часть 1\n",
    "\n",
    "В этой части задания вам предстоит реализовать алгоритм вычитания фона *ViBe* и протестировать его качество работы на датасете *Change Detection 2014*.\n",
    "\n",
    "\n",
    "**1. (3 балла)**\n",
    "\n",
    "Прочитайте статью, выданную вам совместно с ноутбуком, описывающую алгоритм *ViBe* и реализуйте следующие его ключевые особенности: \n",
    "1. *Цветовая модель пикселей.* Для каждого пикселя хранится набор $\\{p_1, ..., p_N\\}$ - значений цвета данного пикселя в предыдущие моменты времени. \n",
    "2. *Классификация пикселей.* Для каждого нового кадра пиксель считается пикселем фона, если среди значений  $\\{p_1, ..., p_N\\}$ его цветовой модели содержится не менее K значений, расстояние до которых меньше радиуса R по евклидовой метрике.\n",
    "3. *Обновления цветовой модели.* Если пиксель был классифицирован как пиксель фона, его цветовая модель обновляется следущий образом: случайно выбранная точка цветовой модели данного пикселя заменяется на новое значения. \n",
    "4. *Модель инициализации.* Иницилизируйте цветовую модель для каждого пикселя значением цвета пикселя на первом кадре, а также значениями цвета случайно выбранных соседей(используйте 4'x или 8'ми-связную модель соседства);\n",
    "\n",
    "Дополните реализуйте следущую модификацию, предложенную этими же авторами позднее:\n",
    "* \"Random time subsampling\". Во многих практических ситуациях нет необходимости обновлять фоновую модель каждого пикселя для каждого нового кадра. Если сделать фоновое обновление менее частым, мы искусственно продлеваем средний срок службы фоновых образцов и таким образом боремся со случайными движениями возникающими в кадре. \"Random time subsampling\" заключается в том что бы не обновлять фоновую модель для каждого пикселя после каждого кадра. А для каждому пикселю сопоставить случаюную величину, которая будет отвечать за то, чтобы обновлять модель данного пикселя или нет, так чтобы обновление произодило в среднем раз в `subsampling_time` кадров (т.е обновлять фоновую модель каждого пикселя с вероятностью `1 / subsampling_time`).\n",
    "\n",
    "*Замечание*:\n",
    "\n",
    "Для реализации модели Vibe используйте предоставленный шаблон. Реализация алгоритма на питоне будет работать медленно, поэтому старайтесь выполнять как можно больше вычислений матрично."
   ]
  },
  {
   "cell_type": "code",
   "execution_count": 2,
   "metadata": {
    "ExecuteTime": {
     "end_time": "2018-04-05T13:46:59.498926Z",
     "start_time": "2018-04-05T13:46:58.431161Z"
    }
   },
   "outputs": [],
   "source": [
    "import os\n",
    "from IPython import display\n",
    "\n",
    "import cv2\n",
    "import numpy as np\n",
    "import matplotlib.pyplot as plt\n",
    "import skimage.io\n",
    "from tqdm import tqdm"
   ]
  },
  {
   "cell_type": "code",
   "execution_count": 68,
   "metadata": {
    "ExecuteTime": {
     "end_time": "2018-04-06T14:15:05.777064Z",
     "start_time": "2018-04-06T14:15:05.756112Z"
    }
   },
   "outputs": [],
   "source": [
    "class Vibe:\n",
    "    def __init__(self, sample_amount, radius, K, subsampling_time):\n",
    "        \"\"\"\n",
    "        'Visual Background Extractor' algorithm of background subtraction\n",
    "\n",
    "        :param sample_amount: number of samples per pixel\n",
    "        :param radius: radius of the sphere\n",
    "        :param K: number of close samples for being part of background\n",
    "        :param subsampling_time: amount of random subsampling\n",
    "        \"\"\"\n",
    "\n",
    "        self.sample_amount = sample_amount\n",
    "        self.radius = radius\n",
    "        self.K = K\n",
    "        self.subsampling_time = subsampling_time\n",
    "        self.samples = None\n",
    "\n",
    "\n",
    "    def initialize(self, image):\n",
    "        \"\"\"\n",
    "        Initialize the model with frame of video sequence.\n",
    "\n",
    "        :param image: initializining frame\n",
    "        \"\"\"\n",
    "        h, w, c = image.shape\n",
    "        self.samples = np.zeros((h, w, self.sample_amount, c))\n",
    "        for i in range(h):\n",
    "            for j in range(w):\n",
    "                neib = np.random.randint(-1, 2, (self.sample_amount, 2))\n",
    "                for k, n in enumerate(neib):\n",
    "                    self.samples[i, j, k] = image[min(max(i + n[0], 0), h - 1), min(max(j + n[1], 0), w - 1)]\n",
    "                \n",
    "\n",
    "\n",
    "    def apply(self, image):\n",
    "        \"\"\"\n",
    "        Apply background subtraction algorithm to the next image,\n",
    "        update internal parameters and return foreground mask.\n",
    "        If model is not yet initialized, model must be initialized with this image.\n",
    "\n",
    "        :param image: next image in video sequence\n",
    "        :return: foreground mask\n",
    "        \"\"\"\n",
    "        if self.samples is None:\n",
    "            self.initialize(image)\n",
    "        \n",
    "        mask = np.zeros_like(image)\n",
    "        h, w, c = image.shape\n",
    "        mask = (np.sqrt(((self.samples - image[:,:,np.newaxis,:]) ** 2).sum(axis=-1)) < self.radius).sum(axis=(-1)) > self.K\n",
    "        \n",
    "        ind = np.random.randint(0, self.sample_amount, (h, w))\n",
    "        sec_mask = np.random.binomial(1, 1 / self.subsampling_time, size=(h, w)) > 0\n",
    "        true_mask = sec_mask * mask\n",
    "        self.samples[true_mask][:,ind[true_mask]] = image[true_mask]\n",
    "        return mask"
   ]
  },
  {
   "cell_type": "markdown",
   "metadata": {},
   "source": [
    "**2. (1 балл)**\n",
    "\n",
    "Посмотрите как работает алгоритм на различных фрагментах видео из категориии Baseline датасета ChangeDetection2014, выданного вам совместно с ноутбуком. Поиграйтесь с параметрами и сделайте выводы.\n",
    "\n",
    "Для визуализации покадрового применения алгоритма можете использовать код, написанный ниже.\n",
    "\n",
    "*Замечание: *  \n",
    "Полную версию датасета можно найти [здесь](http://changedetection.net/)"
   ]
  },
  {
   "cell_type": "code",
   "execution_count": 69,
   "metadata": {
    "ExecuteTime": {
     "end_time": "2018-04-05T13:47:00.091518Z",
     "start_time": "2018-04-05T13:47:00.023200Z"
    }
   },
   "outputs": [],
   "source": [
    "def image_generator(dirpath, first_frame=1, last_frame=None):\n",
    "    \"\"\"\n",
    "    Generator of (frame_number, image, groundtruth) tuples.\n",
    "\n",
    "    :param dirpath: Path to dir contained 'input' and 'groundtruth' subdirs\n",
    "    :param first_frame: int, optional. Frame number from which the generator starts (inclusive)\n",
    "    :param last_frame: int, optional. If provide, frame number  where the generator stops (inclusive)\n",
    "    :return: (frame_number, image, groundtruth) tuples\n",
    "    \"\"\"\n",
    "\n",
    "    input_format_name = 'input/in{:06d}.jpg'\n",
    "    gt_format_name = 'groundtruth/gt{:06d}.png'\n",
    "\n",
    "    numb = first_frame\n",
    "    while (last_frame is None) or numb <= last_frame:\n",
    "        input_path = os.path.join(dirpath, input_format_name.format(numb))\n",
    "        gt_path = os.path.join(dirpath, gt_format_name.format(numb))\n",
    "\n",
    "        if os.path.exists(input_path):\n",
    "            input_image = skimage.io.imread(input_path)\n",
    "            gt_image = skimage.io.imread(gt_path)\n",
    "            if len(input_image.shape) == 2:\n",
    "                input_image = input_image[..., np.newaxis]\n",
    "            yield numb, input_image, gt_image\n",
    "        else:\n",
    "            break\n",
    "        numb += 1\n",
    "        \n",
    "        \n",
    "def apply_bg_substractor(bg_substractor, image_generator):\n",
    "    \"\"\"\n",
    "    Apply background substruction algorithm for each frame of image_generator consistently\n",
    "\n",
    "    :return: generator of (frame_number, frame, bg_substructor_mask, groundtruth) tuples\n",
    "    \"\"\"\n",
    "\n",
    "    for numb, frame, gt in image_generator:\n",
    "        mask = bg_substractor.apply(frame)\n",
    "        yield numb, frame, mask, gt\n",
    "\n",
    "\n",
    "def plot_bg_result(frame_number, frame, mask, gt, axs=None):\n",
    "    \"\"\"\n",
    "    Draw frame, foreground mask, groundtruth mask images on axes.\n",
    "    \"\"\"\n",
    "    if axs is None:\n",
    "        _, axs = plt.subplots(1, 3, figsize=(15, 5))\n",
    "\n",
    "    axs[0].imshow(frame)\n",
    "    axs[0].set_title(\"Frame: {}\".format(frame_number))\n",
    "\n",
    "    axs[1].imshow(mask, cmap='gray')\n",
    "    axs[1].set_title(\"BG result\")\n",
    "\n",
    "    axs[2].imshow(gt, cmap='gray')\n",
    "    axs[2].set_title(\"Ground truth\")"
   ]
  },
  {
   "cell_type": "code",
   "execution_count": 86,
   "metadata": {
    "ExecuteTime": {
     "end_time": "2018-04-06T14:16:07.627652Z",
     "start_time": "2018-04-06T14:16:07.623441Z"
    }
   },
   "outputs": [],
   "source": [
    "image_gen = image_generator(dirpath='dataset/baseline/office', first_frame=600, last_frame=615)\n",
    "bg_substractor = Vibe(sample_amount=20, K=2, radius=30, subsampling_time=10)"
   ]
  },
  {
   "cell_type": "code",
   "execution_count": 87,
   "metadata": {
    "ExecuteTime": {
     "end_time": "2018-04-05T12:55:24.411318Z",
     "start_time": "2018-04-05T12:54:46.708276Z"
    }
   },
   "outputs": [
    {
     "data": {
      "image/png": "[encoded data removed]",
      "text/plain": [
       "<Figure size 1080x360 with 3 Axes>"
      ]
     },
     "metadata": {},
     "output_type": "display_data"
    },
    {
     "name": "stderr",
     "output_type": "stream",
     "text": [
      "\n",
      "\n",
      "\n",
      "\n",
      "\n",
      "\n",
      "\n",
      "\n",
      "\n",
      "\n",
      "\n",
      "\n",
      "\n",
      "\n",
      "\n",
      "\n",
      "\n",
      "\n",
      "16it [00:18,  1.09it/s]\u001b[A\u001b[A\u001b[A\u001b[A\u001b[A\u001b[A\u001b[A\u001b[A\u001b[A\u001b[A\u001b[A\u001b[A\u001b[A\u001b[A\u001b[A\u001b[A\u001b[A\u001b[A\n",
      "\n",
      "\n",
      "\n",
      "\n",
      "\n",
      "\n",
      "\n",
      "\n",
      "\n",
      "\n",
      "\n",
      "\n",
      "\n",
      "\n",
      "\n",
      "\n",
      "\n",
      "\u001b[A\u001b[A\u001b[A\u001b[A\u001b[A\u001b[A\u001b[A\u001b[A\u001b[A\u001b[A\u001b[A\u001b[A\u001b[A\u001b[A\u001b[A\u001b[A\u001b[A\u001b[A"
     ]
    }
   ],
   "source": [
    "_, axs = plt.subplots(1, 3, figsize=(15, 5))\n",
    "\n",
    "for numb, frame, mask, gt in tqdm(apply_bg_substractor(bg_substractor, image_gen)):\n",
    "    for ax in axs:\n",
    "        ax.cla()\n",
    "    plot_bg_result(numb, frame, mask, gt, axs)\n",
    "    display.clear_output(wait=True)\n",
    "    display.display(plt.gcf())\n",
    "plt.close()"
   ]
  },
  {
   "cell_type": "code",
   "execution_count": null,
   "metadata": {},
   "outputs": [],
   "source": []
  },
  {
   "cell_type": "markdown",
   "metadata": {},
   "source": [
    "**3. (1 балл)**\n",
    "\n",
    "Визуально протестируйте алгоритм на видео из категории Baseline.  Покажите ключевые кадры и проанализируйте результаты.  Сделайте выводы о плюсах и минусах алгоритма. "
   ]
  },
  {
   "cell_type": "code",
   "execution_count": null,
   "metadata": {
    "ExecuteTime": {
     "end_time": "2018-04-06T14:16:45.762802Z",
     "start_time": "2018-04-06T14:16:45.760211Z"
    }
   },
   "outputs": [],
   "source": [
    "# your code here"
   ]
  },
  {
   "cell_type": "markdown",
   "metadata": {},
   "source": [
    "**Выводы:**\n",
    "..."
   ]
  },
  {
   "cell_type": "markdown",
   "metadata": {},
   "source": [
    "## Часть 2"
   ]
  },
  {
   "cell_type": "markdown",
   "metadata": {},
   "source": [
    "В этой части задания вам необходимо реализовать метрики оценки качества вычитания фона, протестировать реализованый вами алгоритм Vibe на категории Baseline датасета ChangeDetection2014.\n",
    "\n",
    "\n",
    "**4. (0.5 балла)**\n",
    "\n",
    "Реализуйте следущие метрики:\n",
    "\\begin{equation*}\n",
    "\\begin{array}{l}\n",
    "Precision = \\frac{TP}{TP + FP} \\\\\n",
    "Recall = \\frac{TP}{TP + FN} \\\\\n",
    "F_1{\\text -}score = 2 \\cdot \\frac{Precision \\cdot Recall}{Precision + Recall}\n",
    "\\end{array}\n",
    "\\end{equation*}"
   ]
  },
  {
   "cell_type": "code",
   "execution_count": null,
   "metadata": {
    "ExecuteTime": {
     "end_time": "2018-04-05T13:47:05.409557Z",
     "start_time": "2018-04-05T13:47:05.374472Z"
    }
   },
   "outputs": [],
   "source": [
    "def precision(confusion_matrix):\n",
    "    \"\"\"\n",
    "    Compute the precision\n",
    "\n",
    "    :param confusion_matrix: [tn, fp, fn, tp] list\n",
    "    \"\"\"\n",
    "    \n",
    "    # your code here\n",
    "    return 0\n",
    "\n",
    "\n",
    "def recall(confusion_matrix):\n",
    "    \"\"\"\n",
    "    Compute the recall\n",
    "\n",
    "    :param confusion_matrix: [tn, fp, fn, tp] list\n",
    "    \"\"\"\n",
    "    \n",
    "    # your code here\n",
    "    return 0\n",
    "\n",
    "\n",
    "def f1_score(confusion_matrix):\n",
    "    \"\"\"\n",
    "    Compute the f1_score\n",
    "\n",
    "    :param confusion_matrix: [tn, fp, fn, tp] list\n",
    "    \"\"\"\n",
    "    \n",
    "    # your code here\n",
    "    return 0"
   ]
  },
  {
   "cell_type": "markdown",
   "metadata": {},
   "source": [
    "**5. (2 балла) **\n",
    "\n",
    "Посчитайте значение метрик качества $precision$, $recall$, $f_1{\\text -}score$ для всех видео из категории Baseline. Также посчитайте среднее значение этих метрик по категории. Вам необходимо достичь среднего значения $f_1{\\text -}score$ более 0.8 для категории Baseline.\n",
    "\n",
    "*Замечание 1:*  \n",
    "$TP$, $FP$, $FN$, $TP$ надо аккумулировать для всего видео, после чего надо вычислить значение метрик для каждого видео по описанным выше формулам и усреднить по всем видео из категории.\n",
    "\n",
    "*Замечание 2:*  \n",
    "В разметке встречаются следующие метки:\n",
    "* 0 : Static\n",
    "* 50 : Hard shadow\n",
    "* 85 : Outside region of interest\n",
    "* 170 : Unknown motion (usually around moving objects, due to semi-transparency and motion blur)\n",
    "* 255 : Motion\n",
    "\n",
    "При подсчет метрик качества вам необходимо учитывать только метки: 0 и 50 - это пиксели фона, и 255 - это пиксели переднего плана. Пиксели, содержащие метки 85 и 170 надо не учитывать при подсчете метрик качества."
   ]
  },
  {
   "cell_type": "code",
   "execution_count": null,
   "metadata": {
    "ExecuteTime": {
     "end_time": "2018-04-05T13:47:08.780910Z",
     "start_time": "2018-04-05T13:47:08.392619Z"
    }
   },
   "outputs": [],
   "source": [
    "# your code here"
   ]
  },
  {
   "cell_type": "markdown",
   "metadata": {
    "ExecuteTime": {
     "end_time": "2018-04-04T16:15:19.114218Z",
     "start_time": "2018-04-04T16:15:19.092726Z"
    }
   },
   "source": [
    "## Часть 3\n",
    "\n",
    "В этой части задания вам предстоит протестировать алгоритм, основанный на смеси гауссиан из библиотеки `opencv`. Сравнить работу этого алгоритма с алгоритмом Vibe, а также посмотреть как ведут себя алгоритмы при добавление шума различной степени на изображение.\n",
    "\n",
    "\n",
    "**6. (0.5 балл)**\n",
    "\n",
    "Посмотрите как ведет себя алгоритм `MOG2` из библиотеки `opencv`. Аналогично как из с алгоритмом Vibe провизиализируйте покадровую работу алгоритма на какой-нибудь части видео и визуально оцените качество работы взависимости от параметров `history` и `varThreshhold`, параметр `detectShadows` установите равным False. Какие выводы вы можете сделать?"
   ]
  },
  {
   "cell_type": "code",
   "execution_count": null,
   "metadata": {
    "ExecuteTime": {
     "end_time": "2018-04-05T13:47:13.495390Z",
     "start_time": "2018-04-05T13:47:13.489472Z"
    }
   },
   "outputs": [],
   "source": [
    "from cv2 import createBackgroundSubtractorMOG2\n",
    "\n",
    "mog2 =  # your code parameters here\n",
    "image_gen = # your code parameters here"
   ]
  },
  {
   "cell_type": "code",
   "execution_count": null,
   "metadata": {
    "ExecuteTime": {
     "end_time": "2018-04-05T13:47:41.060667Z",
     "start_time": "2018-04-05T13:47:13.767222Z"
    }
   },
   "outputs": [],
   "source": [
    "_, axs = plt.subplots(1, 3, figsize=(15, 5))\n",
    "\n",
    "for numb, frame, mask, gt in tqdm(apply_bg_substractor(mog2, image_gen)):\n",
    "    for ax in axs:\n",
    "        ax.cla()\n",
    "    plot_bg_result(numb, frame, mask, gt, axs)\n",
    "    display.clear_output(wait=True)\n",
    "    display.display(plt.gcf())\n",
    "plt.close()"
   ]
  },
  {
   "cell_type": "markdown",
   "metadata": {},
   "source": [
    "**Выводы:**\n",
    "\n",
    "..."
   ]
  },
  {
   "cell_type": "markdown",
   "metadata": {},
   "source": [
    "**7. (1 балл)**\n",
    "\n",
    "Выберите один кадр из набора ключевых кадров, отобранных ключевых кадрах в пункте 3 и добавляйте к\n",
    "нему попиксельно независимый гауссовский шум. Проанализируйте результаты вычитания фона обоими методами для шума различной интенсивности. Подберите параметры алгоритмов для работы с зашумленными изображениями.  Визуализируйте результаты работы обоих алгоритмов а также вычислите $f_1{\\text -}score$ для всех экспрериментов. Сделайте выводы.\n",
    "\n",
    "*Замечание 1:*  \n",
    "Сравнение проводите честно, подавайте в алгоритм одинаковое кол-во впереди идущих кадров, необходимых для настройки внутренних параметров алгоритма.\n",
    "\n",
    "*Замечание 2:*  \n",
    "Ко всем кадрам, подаваемым в модель, необходимо также добавлять гауссовский шум."
   ]
  },
  {
   "cell_type": "code",
   "execution_count": null,
   "metadata": {
    "ExecuteTime": {
     "end_time": "2018-04-05T13:48:08.957305Z",
     "start_time": "2018-04-05T13:48:08.926351Z"
    }
   },
   "outputs": [],
   "source": [
    "def get_mog2_result(sigma):\n",
    "    \"\"\"\n",
    "    Apply MOG2 algorithm for sequence of frames and return foreground mask for key frame\n",
    "\n",
    "    :param sigma: Standard deviation of normal (Gaussian) distribution of noise\n",
    "    :return: Foreground mask of key frame\n",
    "    \"\"\"\n",
    "    return None\n",
    "    \n",
    "\n",
    "def get_vibe_result(sigma):\n",
    "    \"\"\"\n",
    "    Apply ViBe algorithm for sequence of frames and return foreground mask for key frame\n",
    "\n",
    "    :param sigma: Standard deviation of normal (Gaussian) distribution of noise\n",
    "    :return: Foreground mask of key frame\n",
    "    \"\"\"\n",
    "    return None\n",
    "    "
   ]
  },
  {
   "cell_type": "code",
   "execution_count": null,
   "metadata": {
    "ExecuteTime": {
     "end_time": "2018-04-05T13:46:18.560062Z",
     "start_time": "2018-04-05T13:45:21.893991Z"
    }
   },
   "outputs": [],
   "source": [
    "sigmas = [0, 5, 10, 20]\n",
    "\n",
    "_, axs = plt.subplots(len(sigmas), 3, figsize=(18, len(sigmas) * 4), squeeze=False)\n",
    "\n",
    "for i, sigma in enumerate(sigmas):\n",
    "    frame, vibe_mask, gt = get_vibe_result(sigma)\n",
    "    frame, mog2_mask, gt = get_mog2_result(sigma)\n",
    "    axs[i][0].imshow(frame)\n",
    "    \n",
    "    axs[i][1].imshow(vibe_mask, cmap='gray')\n",
    "    axs[i][1].set_title(\"ViBe, f1_score: {:.3f}\".format(f1_score(get_confusion_matrix(vibe_mask, gt))))\n",
    "    \n",
    "    axs[i][2].imshow(mog2_mask, cmap='gray')\n",
    "    axs[i][2].set_title(\"MOG2, f1_score: {:.3f}\".format(f1_score(get_confusion_matrix(mog2_mask, gt))))"
   ]
  },
  {
   "cell_type": "markdown",
   "metadata": {},
   "source": [
    "**Выводы:**\n",
    "\n",
    "..."
   ]
  },
  {
   "cell_type": "markdown",
   "metadata": {},
   "source": [
    "**8. (1 балл)**\n",
    "\n",
    "Предложите метод борьбы с шумом на карте \"фон-объект\" и проанализируйте его эффективность. Сравнивайте результаты по какой-нибудь метрики качества, например $f_1{\\text -}score$.\n",
    "\n",
    "*Замечание:*\n",
    "\n",
    "Можно использовать любые функции обработки изображений из библиотек `opencv` и `skimage`."
   ]
  },
  {
   "cell_type": "code",
   "execution_count": null,
   "metadata": {
    "ExecuteTime": {
     "end_time": "2018-04-05T13:47:41.069374Z",
     "start_time": "2018-04-05T13:47:41.062978Z"
    }
   },
   "outputs": [],
   "source": [
    "def postprocess(mask):\n",
    "    \"\"\"\n",
    "    Postprocessing foreground mask\n",
    "    \"\"\"\n",
    "    return mask"
   ]
  },
  {
   "cell_type": "code",
   "execution_count": null,
   "metadata": {
    "ExecuteTime": {
     "end_time": "2018-04-05T13:48:58.892703Z",
     "start_time": "2018-04-05T13:48:11.983687Z"
    }
   },
   "outputs": [],
   "source": [
    "sigmas = [0, 5, 10, 20]\n",
    "\n",
    "_, axs = plt.subplots(len(sigmas), 3, figsize=(18, len(sigmas) * 4), squeeze=False)\n",
    "\n",
    "for i, sigma in enumerate(sigmas):\n",
    "    frame, vibe_mask, gt = get_vibe_result(sigma)\n",
    "    process_mask = post_process(vibe_mask)\n",
    "    axs[i][0].imshow(frame)\n",
    "    \n",
    "    axs[i][1].imshow(vibe_mask, cmap='gray')\n",
    "    axs[i][1].set_title(\"Before, f1_score: {:.3f}\".format(f1_score(get_confusion_matrix(vibe_mask, gt))))\n",
    "    \n",
    "    axs[i][2].imshow(process_mask, cmap='gray')\n",
    "    axs[i][2].set_title(\"After, f1_score: {:.3f}\".format(f1_score(get_confusion_matrix(process_mask, gt))))"
   ]
  },
  {
   "cell_type": "markdown",
   "metadata": {},
   "source": [
    "**Выводы:**\n",
    "\n",
    "..."
   ]
  },
  {
   "cell_type": "code",
   "execution_count": null,
   "metadata": {},
   "outputs": [],
   "source": []
  }
 ],
 "metadata": {
  "kernelspec": {
   "display_name": "Python 3",
   "language": "python",
   "name": "python3"
  },
  "language_info": {
   "codemirror_mode": {
    "name": "ipython",
    "version": 3
   },
   "file_extension": ".py",
   "mimetype": "text/x-python",
   "name": "python",
   "nbconvert_exporter": "python",
   "pygments_lexer": "ipython3",
   "version": "3.6.6"
  }
 },
 "nbformat": 4,
 "nbformat_minor": 2
}
