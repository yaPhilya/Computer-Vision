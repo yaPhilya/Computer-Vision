{
 "cells": [
  {
   "cell_type": "code",
   "execution_count": 1,
   "metadata": {},
   "outputs": [
    {
     "name": "stderr",
     "output_type": "stream",
     "text": [
      "Using TensorFlow backend.\n"
     ]
    }
   ],
   "source": [
    "import numpy as np\n",
    "import matplotlib.pyplot as plt\n",
    "import tensorflow as tf\n",
    "import keras\n",
    "import keras.layers as L\n",
    "import pandas as pd\n",
    "import cv2\n",
    "from tqdm import tqdm, tqdm_notebook\n",
    "import os\n",
    "\n",
    "%matplotlib inline"
   ]
  },
  {
   "cell_type": "code",
   "execution_count": 2,
   "metadata": {},
   "outputs": [
    {
     "data": {
      "application/vnd.jupyter.widget-view+json": {
       "model_id": "38b763e97b9c42f7a745bbb590e59357",
       "version_major": 2,
       "version_minor": 0
      },
      "text/plain": [
       "HBox(children=(IntProgress(value=0, max=3729), HTML(value='')))"
      ]
     },
     "metadata": {},
     "output_type": "display_data"
    },
    {
     "name": "stderr",
     "output_type": "stream",
     "text": [
      "IOPub message rate exceeded.\n",
      "The notebook server will temporarily stop sending output\n",
      "to the client in order to avoid crashing it.\n",
      "To change this limit, set the config variable\n",
      "`--NotebookApp.iopub_msg_rate_limit`.\n",
      "\n",
      "Current values:\n",
      "NotebookApp.iopub_msg_rate_limit=1000.0 (msgs/sec)\n",
      "NotebookApp.rate_limit_window=3.0 (secs)\n",
      "\n"
     ]
    },
    {
     "name": "stdout",
     "output_type": "stream",
     "text": [
      "\n"
     ]
    }
   ],
   "source": [
    "PATH = 'data/action-recognition-test/'\n",
    "CONV_PATH = 'data/test_converted/imgs/'\n",
    "FLOW_PATH = 'data/test_converted/flow/'\n",
    "with open('log_test.txt', 'w') as log:\n",
    "    for vid_name in tqdm_notebook(os.listdir(PATH)):\n",
    "        log.write('Processing video {}\\n'.format(vid_name))\n",
    "        prev_frame = None\n",
    "        idx = vid_name.split('.')[0]\n",
    "        vidcap = cv2.VideoCapture(PATH + vid_name)\n",
    "        succ, image = vidcap.read()\n",
    "        image = cv2.resize(image, dsize=(320, 240))\n",
    "        prev_frame = image\n",
    "        ind = 0\n",
    "        os.mkdir(CONV_PATH + idx)\n",
    "        os.mkdir(FLOW_PATH + idx)\n",
    "        cv2.imwrite(CONV_PATH + idx + '/' + str(ind) + '.jpg', image)\n",
    "        while succ:\n",
    "            succ, image = vidcap.read()\n",
    "            if not succ:\n",
    "                break\n",
    "            ind += 1\n",
    "            image = cv2.resize(image, dsize=(320, 240))\n",
    "            cv2.imwrite(CONV_PATH + idx + '/' + str(ind) + '.jpg', image)\n",
    "            prvs = cv2.cvtColor(prev_frame, cv2.COLOR_BGR2GRAY)\n",
    "            hsv = np.zeros_like(image)\n",
    "            hsv[...,1] = 255\n",
    "            nxt = cv2.cvtColor(image, cv2.COLOR_BGR2GRAY)\n",
    "            flow = cv2.calcOpticalFlowFarneback(prvs, nxt, None, 0.5, 3, 15, 3, 5, 1.2, 0)\n",
    "            mag, ang = cv2.cartToPolar(flow[...,0], flow[...,1])\n",
    "            hsv[...,0] = ang * 180 / np.pi / 2\n",
    "            hsv[...,2] = cv2.normalize(mag, None, 0, 255, cv2.NORM_MINMAX)\n",
    "            bgr = cv2.cvtColor(hsv, cv2.COLOR_HSV2BGR)\n",
    "            cv2.imwrite(FLOW_PATH + idx + '/' + str(ind) + '.jpg', bgr)\n",
    "        log.write('Video {} processed\\n'.format(vid_name))"
   ]
  }
 ],
 "metadata": {
  "kernelspec": {
   "display_name": "Python 3",
   "language": "python",
   "name": "python3"
  },
  "language_info": {
   "codemirror_mode": {
    "name": "ipython",
    "version": 3
   },
   "file_extension": ".py",
   "mimetype": "text/x-python",
   "name": "python",
   "nbconvert_exporter": "python",
   "pygments_lexer": "ipython3",
   "version": "3.6.6"
  }
 },
 "nbformat": 4,
 "nbformat_minor": 2
}
