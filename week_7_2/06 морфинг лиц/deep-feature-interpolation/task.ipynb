{
  "nbformat": 4,
  "nbformat_minor": 0,
  "metadata": {
    "colab": {
      "name": "task.ipynb",
      "version": "0.3.2",
      "provenance": []
    },
    "kernelspec": {
      "name": "python3",
      "display_name": "Python 3"
    },
    "accelerator": "GPU"
  },
  "cells": [
    {
      "metadata": {
        "id": "Gpi0OXwvrjM-",
        "colab_type": "text"
      },
      "cell_type": "markdown",
      "source": [
        "# Deep Feature Interpolation\n",
        "\n",
        "## Описание задания\n",
        "\n",
        "В этом задании вы ознакомитесь с довольно простым, но очень интересным подходом для семантической модификации (морфирования) изображений. От вас потребуется реализовать основные компоненты этого алгоритма с использованием библиотеки TensorFlow. В качестве логического завершения задания, вы напишете свой мини-аналог приложения FaceApp. Вам будут даны все  необходимые данные. Предполагается, что для выполнения задания не потребуется GPU.\n",
        "\n",
        "### Ожидаемые результаты\n",
        "\n",
        "В этом задании (как и в оригинальной статье) мы будем проводить эксперименты с лицами людей. При корректном выполнении задания, вы сможете генерировать похожие изображения:\n",
        "\n",
        "![female](https://github.com/yaPhilya/Computer-Vision/blob/master/week_7_2/06%20%D0%BC%D0%BE%D1%80%D1%84%D0%B8%D0%BD%D0%B3%20%D0%BB%D0%B8%D1%86/deep-feature-interpolation/example-results/female.png?raw=1)\n",
        "![g&m](https://github.com/yaPhilya/Computer-Vision/blob/master/week_7_2/06%20%D0%BC%D0%BE%D1%80%D1%84%D0%B8%D0%BD%D0%B3%20%D0%BB%D0%B8%D1%86/deep-feature-interpolation/example-results/g&m.png?raw=1)\n",
        "![old](https://github.com/yaPhilya/Computer-Vision/blob/master/week_7_2/06%20%D0%BC%D0%BE%D1%80%D1%84%D0%B8%D0%BD%D0%B3%20%D0%BB%D0%B8%D1%86/deep-feature-interpolation/example-results/old.png?raw=1)"
      ]
    },
    {
      "metadata": {
        "id": "z56fMQ7CrjNA",
        "colab_type": "text"
      },
      "cell_type": "markdown",
      "source": [
        "## Шаг 0: изучение статьи\n",
        "\n",
        "Как и при решении любой другой задачи, связанной с обучением глубоких сетей, первым делом стоит разобраться в деталях реализуемого алгоритма. По этой [ссылке](https://arxiv.org/abs/1611.05507) вы найдете статью, которую нужно изучить. После изучения  вы должны иметь возможность ответить себе на следующие вопросы:\n",
        "\n",
        "1. Какая задача решается? Какие данные для этого нужны? Какие требования к модели?\n",
        "2. Каким образом получается векторное представление нашего изображения?\n",
        "3. Как получить вектор сдвига, удовлетворяющий нашим требованиям?\n",
        "4. Как лучше всего подбирать изображения-кандидаты?\n",
        "5. Какой функционал мы минимизируем? Каким образом?\n",
        "6. Как можно улучшить качество результата (убрать артефакты)?"
      ]
    },
    {
      "metadata": {
        "id": "Gqz21mfcrjNC",
        "colab_type": "code",
        "colab": {}
      },
      "cell_type": "code",
      "source": [
        "# Install these packages:\n",
        "\n",
        "# conda create -n dfi python=3.5\n",
        "# conda install jupyter\n",
        "# source activate dfi\n",
        "# jupyter notebook\n",
        "\n",
        "import tensorflow as tf      # conda install tensorflow[-gpu]\n",
        "from PIL import Image        # conda install pillow\n",
        "from tqdm import tqdm        # conda install tqdm\n",
        "import numpy as np           # conda install numpy\n",
        "import cv2                   # conda install -c menpo opencv\n",
        "import os\n",
        "\n",
        "import matplotlib.pyplot as plt # conda install matplotlib\n",
        "%matplotlib inline"
      ],
      "execution_count": 0,
      "outputs": []
    },
    {
      "metadata": {
        "id": "lA5Yczv2tfz1",
        "colab_type": "code",
        "colab": {
          "base_uri": "https://localhost:8080/",
          "height": 150
        },
        "outputId": "16d50a53-631c-439d-8698-141cd63d5bf2"
      },
      "cell_type": "code",
      "source": [
        "!pip install wldhx.yadisk-direct"
      ],
      "execution_count": 41,
      "outputs": [
        {
          "output_type": "stream",
          "text": [
            "Requirement already satisfied: wldhx.yadisk-direct in /usr/local/lib/python3.6/dist-packages (0.0.6)\n",
            "Requirement already satisfied: requests in /usr/local/lib/python3.6/dist-packages (from wldhx.yadisk-direct) (2.18.4)\n",
            "Requirement already satisfied: idna<2.7,>=2.5 in /usr/local/lib/python3.6/dist-packages (from requests->wldhx.yadisk-direct) (2.6)\n",
            "Requirement already satisfied: urllib3<1.23,>=1.21.1 in /usr/local/lib/python3.6/dist-packages (from requests->wldhx.yadisk-direct) (1.22)\n",
            "Requirement already satisfied: certifi>=2017.4.17 in /usr/local/lib/python3.6/dist-packages (from requests->wldhx.yadisk-direct) (2018.10.15)\n",
            "Requirement already satisfied: chardet<3.1.0,>=3.0.2 in /usr/local/lib/python3.6/dist-packages (from requests->wldhx.yadisk-direct) (3.0.4)\n"
          ],
          "name": "stdout"
        }
      ]
    },
    {
      "metadata": {
        "id": "cPf2ZgpStioy",
        "colab_type": "code",
        "colab": {
          "base_uri": "https://localhost:8080/",
          "height": 116
        },
        "outputId": "8be943fb-81d7-486a-868f-daef63735ba8"
      },
      "cell_type": "code",
      "source": [
        "!curl -L $(yadisk-direct https://yadi.sk/d/aOSyOoKgGGbpUQ) -o task.zip"
      ],
      "execution_count": 42,
      "outputs": [
        {
          "output_type": "stream",
          "text": [
            "  % Total    % Received % Xferd  Average Speed   Time    Time     Time  Current\n",
            "                                 Dload  Upload   Total   Spent    Left  Speed\n",
            "  0     0    0     0    0     0      0      0 --:--:--  0:00:02 --:--:--     0\n",
            "100 1595M    0 1595M    0     0   866k      0 --:--:--  0:31:24 --:--:--  645k\n"
          ],
          "name": "stdout"
        }
      ]
    },
    {
      "metadata": {
        "id": "tJN3DJPDux7m",
        "colab_type": "code",
        "colab": {
          "base_uri": "https://localhost:8080/",
          "height": 997
        },
        "outputId": "ca4ad956-f233-422e-85e9-c33167b8eb49"
      },
      "cell_type": "code",
      "source": [
        "!unzip task.zip"
      ],
      "execution_count": 43,
      "outputs": [
        {
          "output_type": "stream",
          "text": [
            "Archive:  task.zip\n",
            "replace 06 морфинг лиц/deep-feature-interpolation-task.tar? [y]es, [n]o, [A]ll, [N]one, [r]ename: "
          ],
          "name": "stdout"
        },
        {
          "output_type": "error",
          "ename": "KeyboardInterrupt",
          "evalue": "ignored",
          "traceback": [
            "\u001b[0;31m---------------------------------------------------------------------------\u001b[0m",
            "\u001b[0;31mKeyboardInterrupt\u001b[0m                         Traceback (most recent call last)",
            "\u001b[0;32m<ipython-input-43-68941b72525a>\u001b[0m in \u001b[0;36m<module>\u001b[0;34m()\u001b[0m\n\u001b[0;32m----> 1\u001b[0;31m \u001b[0mget_ipython\u001b[0m\u001b[0;34m(\u001b[0m\u001b[0;34m)\u001b[0m\u001b[0;34m.\u001b[0m\u001b[0msystem\u001b[0m\u001b[0;34m(\u001b[0m\u001b[0;34m'unzip task.zip'\u001b[0m\u001b[0;34m)\u001b[0m\u001b[0;34m\u001b[0m\u001b[0;34m\u001b[0m\u001b[0m\n\u001b[0m",
            "\u001b[0;32m/usr/local/lib/python3.6/dist-packages/google/colab/_shell.py\u001b[0m in \u001b[0;36msystem\u001b[0;34m(self, *args, **kwargs)\u001b[0m\n\u001b[1;32m     42\u001b[0m       \u001b[0;32mreturn\u001b[0m \u001b[0msuper\u001b[0m\u001b[0;34m(\u001b[0m\u001b[0mShell\u001b[0m\u001b[0;34m,\u001b[0m \u001b[0mself\u001b[0m\u001b[0;34m)\u001b[0m\u001b[0;34m.\u001b[0m\u001b[0msystem\u001b[0m\u001b[0;34m(\u001b[0m\u001b[0;34m*\u001b[0m\u001b[0margs\u001b[0m\u001b[0;34m,\u001b[0m \u001b[0;34m**\u001b[0m\u001b[0mkwargs\u001b[0m\u001b[0;34m)\u001b[0m\u001b[0;34m\u001b[0m\u001b[0;34m\u001b[0m\u001b[0m\n\u001b[1;32m     43\u001b[0m \u001b[0;34m\u001b[0m\u001b[0m\n\u001b[0;32m---> 44\u001b[0;31m     \u001b[0;32mreturn\u001b[0m \u001b[0m_system_commands\u001b[0m\u001b[0;34m.\u001b[0m\u001b[0m_system_compat\u001b[0m\u001b[0;34m(\u001b[0m\u001b[0mself\u001b[0m\u001b[0;34m,\u001b[0m \u001b[0;34m*\u001b[0m\u001b[0margs\u001b[0m\u001b[0;34m,\u001b[0m \u001b[0;34m**\u001b[0m\u001b[0mkwargs\u001b[0m\u001b[0;34m)\u001b[0m  \u001b[0;31m# pylint:disable=protected-access\u001b[0m\u001b[0;34m\u001b[0m\u001b[0;34m\u001b[0m\u001b[0m\n\u001b[0m\u001b[1;32m     45\u001b[0m \u001b[0;34m\u001b[0m\u001b[0m\n\u001b[1;32m     46\u001b[0m   \u001b[0;32mdef\u001b[0m \u001b[0m_send_error\u001b[0m\u001b[0;34m(\u001b[0m\u001b[0mself\u001b[0m\u001b[0;34m,\u001b[0m \u001b[0mexc_content\u001b[0m\u001b[0;34m)\u001b[0m\u001b[0;34m:\u001b[0m\u001b[0;34m\u001b[0m\u001b[0;34m\u001b[0m\u001b[0m\n",
            "\u001b[0;32m/usr/local/lib/python3.6/dist-packages/google/colab/_system_commands.py\u001b[0m in \u001b[0;36m_system_compat\u001b[0;34m(shell, cmd)\u001b[0m\n\u001b[1;32m    434\u001b[0m   \u001b[0;31m# stack.\u001b[0m\u001b[0;34m\u001b[0m\u001b[0;34m\u001b[0m\u001b[0;34m\u001b[0m\u001b[0m\n\u001b[1;32m    435\u001b[0m   result = _run_command(\n\u001b[0;32m--> 436\u001b[0;31m       shell.var_expand(cmd, depth=2), clear_streamed_output=False)\n\u001b[0m\u001b[1;32m    437\u001b[0m   \u001b[0mshell\u001b[0m\u001b[0;34m.\u001b[0m\u001b[0muser_ns\u001b[0m\u001b[0;34m[\u001b[0m\u001b[0;34m'_exit_code'\u001b[0m\u001b[0;34m]\u001b[0m \u001b[0;34m=\u001b[0m \u001b[0mresult\u001b[0m\u001b[0;34m.\u001b[0m\u001b[0mreturncode\u001b[0m\u001b[0;34m\u001b[0m\u001b[0;34m\u001b[0m\u001b[0m\n\u001b[1;32m    438\u001b[0m   \u001b[0;32mif\u001b[0m \u001b[0;34m-\u001b[0m\u001b[0mresult\u001b[0m\u001b[0;34m.\u001b[0m\u001b[0mreturncode\u001b[0m \u001b[0;32min\u001b[0m \u001b[0m_INTERRUPTED_SIGNALS\u001b[0m\u001b[0;34m:\u001b[0m\u001b[0;34m\u001b[0m\u001b[0;34m\u001b[0m\u001b[0m\n",
            "\u001b[0;32m/usr/local/lib/python3.6/dist-packages/google/colab/_system_commands.py\u001b[0m in \u001b[0;36m_run_command\u001b[0;34m(cmd, clear_streamed_output)\u001b[0m\n\u001b[1;32m    193\u001b[0m       \u001b[0mos\u001b[0m\u001b[0;34m.\u001b[0m\u001b[0mclose\u001b[0m\u001b[0;34m(\u001b[0m\u001b[0mchild_pty\u001b[0m\u001b[0;34m)\u001b[0m\u001b[0;34m\u001b[0m\u001b[0;34m\u001b[0m\u001b[0m\n\u001b[1;32m    194\u001b[0m \u001b[0;34m\u001b[0m\u001b[0m\n\u001b[0;32m--> 195\u001b[0;31m       \u001b[0;32mreturn\u001b[0m \u001b[0m_monitor_process\u001b[0m\u001b[0;34m(\u001b[0m\u001b[0mparent_pty\u001b[0m\u001b[0;34m,\u001b[0m \u001b[0mepoll\u001b[0m\u001b[0;34m,\u001b[0m \u001b[0mp\u001b[0m\u001b[0;34m,\u001b[0m \u001b[0mcmd\u001b[0m\u001b[0;34m,\u001b[0m \u001b[0mupdate_stdin_widget\u001b[0m\u001b[0;34m)\u001b[0m\u001b[0;34m\u001b[0m\u001b[0;34m\u001b[0m\u001b[0m\n\u001b[0m\u001b[1;32m    196\u001b[0m   \u001b[0;32mfinally\u001b[0m\u001b[0;34m:\u001b[0m\u001b[0;34m\u001b[0m\u001b[0;34m\u001b[0m\u001b[0m\n\u001b[1;32m    197\u001b[0m     \u001b[0mepoll\u001b[0m\u001b[0;34m.\u001b[0m\u001b[0mclose\u001b[0m\u001b[0;34m(\u001b[0m\u001b[0;34m)\u001b[0m\u001b[0;34m\u001b[0m\u001b[0;34m\u001b[0m\u001b[0m\n",
            "\u001b[0;32m/usr/lib/python3.6/contextlib.py\u001b[0m in \u001b[0;36m__exit__\u001b[0;34m(self, type, value, traceback)\u001b[0m\n\u001b[1;32m     86\u001b[0m         \u001b[0;32mif\u001b[0m \u001b[0mtype\u001b[0m \u001b[0;32mis\u001b[0m \u001b[0;32mNone\u001b[0m\u001b[0;34m:\u001b[0m\u001b[0;34m\u001b[0m\u001b[0;34m\u001b[0m\u001b[0m\n\u001b[1;32m     87\u001b[0m             \u001b[0;32mtry\u001b[0m\u001b[0;34m:\u001b[0m\u001b[0;34m\u001b[0m\u001b[0;34m\u001b[0m\u001b[0m\n\u001b[0;32m---> 88\u001b[0;31m                 \u001b[0mnext\u001b[0m\u001b[0;34m(\u001b[0m\u001b[0mself\u001b[0m\u001b[0;34m.\u001b[0m\u001b[0mgen\u001b[0m\u001b[0;34m)\u001b[0m\u001b[0;34m\u001b[0m\u001b[0;34m\u001b[0m\u001b[0m\n\u001b[0m\u001b[1;32m     89\u001b[0m             \u001b[0;32mexcept\u001b[0m \u001b[0mStopIteration\u001b[0m\u001b[0;34m:\u001b[0m\u001b[0;34m\u001b[0m\u001b[0;34m\u001b[0m\u001b[0m\n\u001b[1;32m     90\u001b[0m                 \u001b[0;32mreturn\u001b[0m \u001b[0;32mFalse\u001b[0m\u001b[0;34m\u001b[0m\u001b[0;34m\u001b[0m\u001b[0m\n",
            "\u001b[0;32m/usr/local/lib/python3.6/dist-packages/google/colab/_system_commands.py\u001b[0m in \u001b[0;36m_display_stdin_widget\u001b[0;34m(delay_millis)\u001b[0m\n\u001b[1;32m    353\u001b[0m \u001b[0;34m\u001b[0m\u001b[0m\n\u001b[1;32m    354\u001b[0m   \u001b[0mhide_args\u001b[0m \u001b[0;34m=\u001b[0m \u001b[0;34m[\u001b[0m\u001b[0;34m'cell_remove_stdin'\u001b[0m\u001b[0;34m,\u001b[0m \u001b[0;34m{\u001b[0m\u001b[0;34m}\u001b[0m\u001b[0;34m]\u001b[0m\u001b[0;34m\u001b[0m\u001b[0;34m\u001b[0m\u001b[0m\n\u001b[0;32m--> 355\u001b[0;31m   \u001b[0m_message\u001b[0m\u001b[0;34m.\u001b[0m\u001b[0mblocking_request\u001b[0m\u001b[0;34m(\u001b[0m\u001b[0;34m*\u001b[0m\u001b[0mhide_args\u001b[0m\u001b[0;34m,\u001b[0m \u001b[0mparent\u001b[0m\u001b[0;34m=\u001b[0m\u001b[0mshell\u001b[0m\u001b[0;34m.\u001b[0m\u001b[0mparent_header\u001b[0m\u001b[0;34m)\u001b[0m\u001b[0;34m\u001b[0m\u001b[0;34m\u001b[0m\u001b[0m\n\u001b[0m\u001b[1;32m    356\u001b[0m \u001b[0;34m\u001b[0m\u001b[0m\n\u001b[1;32m    357\u001b[0m \u001b[0;34m\u001b[0m\u001b[0m\n",
            "\u001b[0;32m/usr/local/lib/python3.6/dist-packages/google/colab/_message.py\u001b[0m in \u001b[0;36mblocking_request\u001b[0;34m(request_type, request, timeout_sec, parent)\u001b[0m\n\u001b[1;32m    169\u001b[0m   \u001b[0;31m# unique.\u001b[0m\u001b[0;34m\u001b[0m\u001b[0;34m\u001b[0m\u001b[0;34m\u001b[0m\u001b[0m\n\u001b[1;32m    170\u001b[0m   \u001b[0mrequest_id\u001b[0m \u001b[0;34m=\u001b[0m \u001b[0msend_request\u001b[0m\u001b[0;34m(\u001b[0m\u001b[0mrequest_type\u001b[0m\u001b[0;34m,\u001b[0m \u001b[0mrequest\u001b[0m\u001b[0;34m,\u001b[0m \u001b[0mparent\u001b[0m\u001b[0;34m=\u001b[0m\u001b[0mparent\u001b[0m\u001b[0;34m)\u001b[0m\u001b[0;34m\u001b[0m\u001b[0;34m\u001b[0m\u001b[0m\n\u001b[0;32m--> 171\u001b[0;31m   \u001b[0;32mreturn\u001b[0m \u001b[0mread_reply_from_input\u001b[0m\u001b[0;34m(\u001b[0m\u001b[0mrequest_id\u001b[0m\u001b[0;34m,\u001b[0m \u001b[0mtimeout_sec\u001b[0m\u001b[0;34m)\u001b[0m\u001b[0;34m\u001b[0m\u001b[0;34m\u001b[0m\u001b[0m\n\u001b[0m",
            "\u001b[0;32m/usr/local/lib/python3.6/dist-packages/google/colab/_message.py\u001b[0m in \u001b[0;36mread_reply_from_input\u001b[0;34m(message_id, timeout_sec)\u001b[0m\n\u001b[1;32m     99\u001b[0m     \u001b[0mreply\u001b[0m \u001b[0;34m=\u001b[0m \u001b[0m_read_next_input_message\u001b[0m\u001b[0;34m(\u001b[0m\u001b[0;34m)\u001b[0m\u001b[0;34m\u001b[0m\u001b[0;34m\u001b[0m\u001b[0m\n\u001b[1;32m    100\u001b[0m     \u001b[0;32mif\u001b[0m \u001b[0mreply\u001b[0m \u001b[0;34m==\u001b[0m \u001b[0m_NOT_READY\u001b[0m \u001b[0;32mor\u001b[0m \u001b[0;32mnot\u001b[0m \u001b[0misinstance\u001b[0m\u001b[0;34m(\u001b[0m\u001b[0mreply\u001b[0m\u001b[0;34m,\u001b[0m \u001b[0mdict\u001b[0m\u001b[0;34m)\u001b[0m\u001b[0;34m:\u001b[0m\u001b[0;34m\u001b[0m\u001b[0;34m\u001b[0m\u001b[0m\n\u001b[0;32m--> 101\u001b[0;31m       \u001b[0mtime\u001b[0m\u001b[0;34m.\u001b[0m\u001b[0msleep\u001b[0m\u001b[0;34m(\u001b[0m\u001b[0;36m0.025\u001b[0m\u001b[0;34m)\u001b[0m\u001b[0;34m\u001b[0m\u001b[0;34m\u001b[0m\u001b[0m\n\u001b[0m\u001b[1;32m    102\u001b[0m       \u001b[0;32mcontinue\u001b[0m\u001b[0;34m\u001b[0m\u001b[0;34m\u001b[0m\u001b[0m\n\u001b[1;32m    103\u001b[0m     if (reply.get('type') == 'colab_reply' and\n",
            "\u001b[0;31mKeyboardInterrupt\u001b[0m: "
          ]
        }
      ]
    },
    {
      "metadata": {
        "id": "N23HFFbju2Zh",
        "colab_type": "code",
        "colab": {}
      },
      "cell_type": "code",
      "source": [
        "!cd 06\\ морфинг\\ лиц; tar -xf deep-feature-interpolation-task.tar"
      ],
      "execution_count": 0,
      "outputs": []
    },
    {
      "metadata": {
        "id": "VmTtasoZvDQs",
        "colab_type": "code",
        "colab": {}
      },
      "cell_type": "code",
      "source": [
        "!mv 06\\ морфинг\\ лиц/deep-feature-interpolation/data ./data"
      ],
      "execution_count": 0,
      "outputs": []
    },
    {
      "metadata": {
        "id": "ZDKv5x6XvQUA",
        "colab_type": "code",
        "colab": {}
      },
      "cell_type": "code",
      "source": [
        "!ls"
      ],
      "execution_count": 0,
      "outputs": []
    },
    {
      "metadata": {
        "id": "LcukhDEYrjNH",
        "colab_type": "text"
      },
      "cell_type": "markdown",
      "source": [
        "## Шаг 1: загрузка данных\n",
        "\n",
        "### Описание базы\n",
        "\n",
        "Специально для этого задания была создана база, состоящая более чем из 200K изображений лиц, имеющих разметку по возрасту, полу, расе, типу растительности на лице и типу надетых очков. Разметка была получена в автоматическом режиме при помощи имеющейся модели. Хоть эта база и содержит ошибки, используя её, можно получить очень хороший результат.\n",
        "\n",
        "Все изображения лиц были выровненые с использованием стороннего инструмента. Кропы лиц были получены при помощи детектора лиц OpenCV.\n",
        "\n",
        "### Загрузка базы\n",
        "\n",
        "Для выполнения задания вам потребуется загрузить этот датасет себе на компьютер. Ссылки для скачивания вам должен был предоставить тот, кто выдал вам это задание. Скачав архив себе на комьютер, разархивируйте его. Данный имеют следующий формат: \n",
        " * директория `images` содержит JPEG изображениями лиц (уже подготовленные)\n",
        " * текстовый файл `gt.csv` содержит разметкой для этих изображений\n",
        " * директория `params` хранит вспомогательные файлы\n",
        "\n",
        "Загрузим разметку. В коде ниже не забудьте указать вернуть путь к директории базы."
      ]
    },
    {
      "metadata": {
        "id": "5yV_5bvLrjNI",
        "colab_type": "code",
        "colab": {}
      },
      "cell_type": "code",
      "source": [
        "def load_dataset(directory):\n",
        "    header = []\n",
        "    labels = []\n",
        "    filepaths = []\n",
        "    \n",
        "    with open(os.path.join(directory, 'gt.csv')) as f:\n",
        "        header = f.readline().strip().split()[1:]\n",
        "        header = [h.lower() for h in header]\n",
        "        for line in f:\n",
        "            fields = line.strip().split()\n",
        "            path = os.path.join(directory, fields[0])\n",
        "            filepaths.append(path)\n",
        "            labels.append(fields[1:])\n",
        "\n",
        "    return (\n",
        "        header,\n",
        "        np.array(labels),\n",
        "        np.array(filepaths)\n",
        "    )\n",
        "\n",
        "# Set path to dataset on your computer\n",
        "DATASET_DIRECTORY_PATH = './data'  \n",
        "header, labels, filepaths = load_dataset(DATASET_DIRECTORY_PATH)"
      ],
      "execution_count": 0,
      "outputs": []
    },
    {
      "metadata": {
        "id": "ha__rohkrjNL",
        "colab_type": "text"
      },
      "cell_type": "markdown",
      "source": [
        "### Обзор атрибутов\n",
        "\n",
        "Для понимания, какие атрибуты вам доступны и в каком количестве, посмотрите на круговые диаграммы ниже. Они описывают  распределение значений таких атрибутов как **раса**, **пол**, **тип очков** и **тип растительности на лице**, а так же посмотрите на столбцовую диаграмму, описывающую распределение людей **по возрастам**. Как видно, некоторые значения атрибутов встречаются в базе редко, поэтому учитывайте это при работе с алгоритмом.\n",
        "\n",
        "![attributes](https://github.com/yaPhilya/Computer-Vision/blob/master/week_7_2/06%20%D0%BC%D0%BE%D1%80%D1%84%D0%B8%D0%BD%D0%B3%20%D0%BB%D0%B8%D1%86/deep-feature-interpolation/stats/attributes.png?raw=1)\n",
        "![ages](https://github.com/yaPhilya/Computer-Vision/blob/master/week_7_2/06%20%D0%BC%D0%BE%D1%80%D1%84%D0%B8%D0%BD%D0%B3%20%D0%BB%D0%B8%D1%86/deep-feature-interpolation/stats/ages.png?raw=1)"
      ]
    },
    {
      "metadata": {
        "id": "4QtdFTRrrjNL",
        "colab_type": "text"
      },
      "cell_type": "markdown",
      "source": [
        "Отлично. Данные готовы. Для удобной работы с ними реализуем служебные функции. Функция `get_mask` даст нам возможность удобно работать с подвыборками нашей базы."
      ]
    },
    {
      "metadata": {
        "id": "RWIaZuBIrjNM",
        "colab_type": "code",
        "colab": {
          "base_uri": "https://localhost:8080/",
          "height": 34
        },
        "outputId": "6a0f2ad1-e8e4-4e28-d796-99308397d531"
      },
      "cell_type": "code",
      "source": [
        "header[:5]"
      ],
      "execution_count": 45,
      "outputs": [
        {
          "output_type": "execute_result",
          "data": {
            "text/plain": [
              "['race', 'gender', 'age', 'glasses', 'facial_hair']"
            ]
          },
          "metadata": {
            "tags": []
          },
          "execution_count": 45
        }
      ]
    },
    {
      "metadata": {
        "id": "_o9v40QZrjNR",
        "colab_type": "code",
        "colab": {
          "base_uri": "https://localhost:8080/",
          "height": 187
        },
        "outputId": "13c20fc9-963b-40ff-dace-15f39c2dc71a"
      },
      "cell_type": "code",
      "source": [
        "labels[:10]"
      ],
      "execution_count": 46,
      "outputs": [
        {
          "output_type": "execute_result",
          "data": {
            "text/plain": [
              "array([['caucasian', 'female', '26', 'no', 'shaved'],\n",
              "       ['caucasian', 'female', '27', 'no', 'shaved'],\n",
              "       ['caucasian', 'male', '41', 'no', 'g&m'],\n",
              "       ['caucasian', 'female', '34', 'no', 'shaved'],\n",
              "       ['caucasian', 'female', '47', 'no', 'shaved'],\n",
              "       ['caucasian', 'male', '47', 'no', 'shaved'],\n",
              "       ['caucasian', 'female', '37', 'no', 'shaved'],\n",
              "       ['asian', 'female', '27', 'no', 'shaved'],\n",
              "       ['caucasian', 'female', '20', 'no', 'shaved'],\n",
              "       ['caucasian', 'female', '28', 'no', 'shaved']], dtype='<U11')"
            ]
          },
          "metadata": {
            "tags": []
          },
          "execution_count": 46
        }
      ]
    },
    {
      "metadata": {
        "id": "lk_d-rudrjNV",
        "colab_type": "code",
        "colab": {
          "base_uri": "https://localhost:8080/",
          "height": 187
        },
        "outputId": "1644c2fa-f26d-4a4e-bdd0-a578d90c78d1"
      },
      "cell_type": "code",
      "source": [
        "filepaths[:10]"
      ],
      "execution_count": 47,
      "outputs": [
        {
          "output_type": "execute_result",
          "data": {
            "text/plain": [
              "array(['./data/images/7a2ed2cec5445c1d35ac25bed1ac3b0c.jpg',\n",
              "       './data/images/85b838c72094873c51528631e3f427d7.jpg',\n",
              "       './data/images/be2024cd2dacd53a8eeb0cef31b9001b.jpg',\n",
              "       './data/images/e4cd95bf8a3df0959560c008b728a6c0.jpg',\n",
              "       './data/images/f240fb2e4a0fb35109a382aa162edb51.jpg',\n",
              "       './data/images/fa6355b1476a6a121451fc7317b03276.jpg',\n",
              "       './data/images/eda28eef1a0ea9f61b9822f86394b6b9.jpg',\n",
              "       './data/images/e4fb0cc69408811e6acb6c124f6ee798.jpg',\n",
              "       './data/images/8ee9907b5a63ee4b82951ce7533ec62a.jpg',\n",
              "       './data/images/cd0e7bc7d83c1c33a0a0a05364657a70.jpg'], dtype='<U50')"
            ]
          },
          "metadata": {
            "tags": []
          },
          "execution_count": 47
        }
      ]
    },
    {
      "metadata": {
        "id": "I_SELq-grjNY",
        "colab_type": "code",
        "colab": {}
      },
      "cell_type": "code",
      "source": [
        "def get_mask(**kwargs):\n",
        "    mask = np.ones(len(filepaths), dtype=np.bool)\n",
        "    for h in kwargs:\n",
        "        if isinstance(kwargs[h], list):\n",
        "            mask &= np.in1d(labels[:, header.index(h)], kwargs[h])\n",
        "        else:\n",
        "            mask &= labels[:, header.index(h)] == kwargs[h]\n",
        "    return mask\n",
        "\n",
        "def load_image(path, size=(128, 128)):\n",
        "    img = Image.open(path)\n",
        "    img = img.convert(\"RGB\")\n",
        "    img = img.resize(size, Image.BICUBIC)\n",
        "    return img\n",
        "\n",
        "def image_to_tensor(image):\n",
        "    return np.float32(np.array(image) / 255.0)[np.newaxis, :, :, :]\n",
        "\n",
        "def tensor_to_image(tensor):\n",
        "    return Image.fromarray(np.uint8(tensor[0] * 255.0))"
      ],
      "execution_count": 0,
      "outputs": []
    },
    {
      "metadata": {
        "id": "uvAAAkrArjNa",
        "colab_type": "text"
      },
      "cell_type": "markdown",
      "source": [
        "## Шаг 2: реализация модели\n",
        "\n",
        "Для вашего удобства в коде ниже приведено почти полное описание модели, с которой мы будем работать. Это VGG-16, предобученная на ImageNet. Несмотря на то, что на данный момент более современные архитектуры во многих задачах превосходят её по скорости и точности (например, ResNet), VGG до сих пор может применяться в задачах, где нужно извлекать интепретируемые признаки, например, для переноса стиля.\n",
        "\n",
        "### Задача\n",
        "\n",
        "Функция построения архитектуры и загрузки весов модели уже реализована (не забудьте указать путь к файлу с весами модели `weights.npy`, прилагающийся к архиву). Пока эта функция не возращает тензор, соответствующего вектор-признаку, который нужен нашему алгоритму. **Напишите необходимый код, чтобы функция его вернула.**"
      ]
    },
    {
      "metadata": {
        "id": "q-AkQO-zrjNb",
        "colab_type": "code",
        "colab": {}
      },
      "cell_type": "code",
      "source": [
        "PATH_TO_VGG_WEIGHTS_FILE = './data/params/weights.npy'\n",
        "weights_init = np.load(PATH_TO_VGG_WEIGHTS_FILE).item()\n",
        "channel_mean = np.array([103.939, 116.779, 123.68])\n",
        "\n",
        "\n",
        "def phi(z):\n",
        "    image = z * 255.0\n",
        "    red, green, blue = tf.split(image, 3, axis=3)\n",
        "    data = tf.concat([\n",
        "        blue - channel_mean[0],\n",
        "        green - channel_mean[1],\n",
        "        red - channel_mean[2],\n",
        "    ], 3, name='image_preprocessed')\n",
        "    \n",
        "    def max_pool(x, name):\n",
        "        return tf.nn.max_pool(\n",
        "            x, name=name,\n",
        "            ksize=[1, 2, 2, 1], \n",
        "            strides=[1, 2, 2, 1], \n",
        "            padding='SAME')\n",
        "\n",
        "    def conv_layer(x, name):\n",
        "        weights = tf.Variable(weights_init[name][0], name=\"weights\", trainable=False)\n",
        "        biases = tf.Variable(weights_init[name][1], name=\"biases\", trainable=False)\n",
        "        x = tf.nn.conv2d(x, weights, [1, 1, 1, 1], padding='SAME')\n",
        "        x = tf.nn.bias_add(x, biases)\n",
        "        x = tf.nn.relu(x)\n",
        "        return x\n",
        "\n",
        "    conv1_1 = conv_layer(data, \"conv1_1\")\n",
        "    conv1_2 = conv_layer(conv1_1, \"conv1_2\")\n",
        "    pool1 = max_pool(conv1_2, 'pool1') \n",
        "    # -> 112x112x64\n",
        "\n",
        "    conv2_1 = conv_layer(pool1, \"conv2_1\")\n",
        "    conv2_2 = conv_layer(conv2_1, \"conv2_2\")\n",
        "    pool2 = max_pool(conv2_2, 'pool2') \n",
        "    # -> 56x56x128\n",
        "\n",
        "    conv3_1 = conv_layer(pool2, \"conv3_1\")\n",
        "    conv3_2 = conv_layer(conv3_1, \"conv3_2\")\n",
        "    conv3_3 = conv_layer(conv3_2, \"conv3_3\")\n",
        "    conv3_4 = conv_layer(conv3_3, \"conv3_4\")\n",
        "    pool3 = max_pool(conv3_4, 'pool3') \n",
        "    # -> 28x28x256\n",
        "\n",
        "    conv4_1 = conv_layer(pool3, \"conv4_1\")\n",
        "    conv4_2 = conv_layer(conv4_1, \"conv4_2\")\n",
        "    conv4_3 = conv_layer(conv4_2, \"conv4_3\")\n",
        "    conv4_4 = conv_layer(conv4_3, \"conv4_4\")\n",
        "    pool4 = max_pool(conv4_4, 'pool4') \n",
        "    # -> 14x14x512\n",
        "\n",
        "    conv5_1 = conv_layer(pool4, \"conv5_1\")\n",
        "    conv5_2 = conv_layer(conv5_1, \"conv5_2\")\n",
        "    conv5_3 = conv_layer(conv5_2, \"conv5_3\")\n",
        "    conv5_4 = conv_layer(conv5_3, \"conv5_4\")\n",
        "    pool5 = max_pool(conv5_4, 'pool5') \n",
        "    # -> 7x7x512\n",
        "\n",
        "    return tf.concat([tf.layers.flatten(conv3_1), tf.layers.flatten(conv4_1), tf.layers.flatten(conv5_1)], axis=1)"
      ],
      "execution_count": 0,
      "outputs": []
    },
    {
      "metadata": {
        "id": "_J_tVvHwrjNd",
        "colab_type": "text"
      },
      "cell_type": "markdown",
      "source": [
        "## Шаг 3: реализация функции потерь\n",
        "\n",
        "Далее нам потребуется реализовать функцию потерь для нашей задачи. Как вам должно быть известно, эта функция зависит от самого изображения, от его вектор-признака и от целевого-вектор признака.\n",
        "\n",
        "### Задача\n",
        "\n",
        "**Реализуйте функцию ниже, чтобы она возращала тензор нулевого порядка (скаляр), соответствующий значению функции потерь.**"
      ]
    },
    {
      "metadata": {
        "id": "FcjxHYQbrjNe",
        "colab_type": "code",
        "colab": {}
      },
      "cell_type": "code",
      "source": [
        "def dfi_loss(z, phi_z, phi_x_shifted):\n",
        "    ######################################################\n",
        "    # ...\n",
        "    ######################################################\n",
        "    l2 = tf.subtract(phi_x_shifted, phi_z, name='phi_substraction')\n",
        "    l2 = tf.square(l2, name='phi_squared')\n",
        "    l2 = tf.reduce_sum(l2, axis=1, name='phi_reduce_sum')\n",
        "    l2 = tf.multiply(l2, 0.5, name='l2_mult')\n",
        "    R_part_1 = tf.subtract(z[:, :, 1:], z[:, :, :-1], name='part_1_subtr')\n",
        "    R_part_1 = tf.square(R_part_1, name='part_1_sqr')\n",
        "    R_part_2 = tf.subtract(z[:, 1:, :], z[:, :-1, :], name='part_2_subtr')\n",
        "    R_part_2 = tf.square(R_part_2, name='part_2_sqr')\n",
        "    R = tf.add(R_part_1[:, 1:, :], R_part_2[:, :, 1:], name='R_sum')\n",
        "    beta = 2.0\n",
        "    R = tf.pow(R, beta / 2.0, name='R_pow')\n",
        "    R = tf.reduce_sum(R, name='R_reduce_sum')\n",
        "    lambd = 0.001\n",
        "    R = tf.multiply(R, lambd, name='R_mult')\n",
        "    return tf.add(l2, R, name='loss_res')\n",
        "    "
      ],
      "execution_count": 0,
      "outputs": []
    },
    {
      "metadata": {
        "id": "UmD2-hPvrjNg",
        "colab_type": "text"
      },
      "cell_type": "markdown",
      "source": [
        "## Шаг 4: задание оптимизатора\n",
        "\n",
        "### Задача\n",
        "\n",
        "**Реализуйте функцию, которая получает на вход значение функционала потерь и изображение, по которому мы будем производить оптимизацию.** \n",
        "\n",
        "На выходе эта функция должна возращать оператор, вызывая который происходит один шаг градиентного спуска (разберитесь, как работать с оптимизаторами в Tensorflow). Политику learning rate реализуйте на ваше усмотрение.\n",
        "\n",
        "Может получиться так, что в TensorFlow не будет нужного оптимизатора. В этом случае выберите оптимизатор, опираясь на интуицию."
      ]
    },
    {
      "metadata": {
        "id": "Ulo3ZJUfrjNh",
        "colab_type": "code",
        "colab": {}
      },
      "cell_type": "code",
      "source": [
        "def setup_optimizer(loss, z):\n",
        "    #############################################################################\n",
        "    # ...\n",
        "    #############################################################################\n",
        "    adam = tf.train.AdamOptimizer()\n",
        "    return adam.minimize(loss, var_list=z)"
      ],
      "execution_count": 0,
      "outputs": []
    },
    {
      "metadata": {
        "id": "moH7ohz6rjNi",
        "colab_type": "text"
      },
      "cell_type": "markdown",
      "source": [
        "## Шаг 5: описание переменных и операций над ними\n",
        "\n",
        "До этого мы реализовали, функции, которые на вход получают тензоры и на выходе выдают тензоры. Теперь нам нужно описать непосредственно входные тензоры. Пусть \n",
        "* тензор `z` представляет собой изображение, которое мы хотим оптимизировать, \n",
        "* тензор `phi_z` соответствует вектор-признаку, извлеченного из данного изображения,\n",
        "* тензор `phi_z_shifted` -- значение `phi_z`, которое мы стримимся получить, оптимизируя по `z`. "
      ]
    },
    {
      "metadata": {
        "id": "pQj6VeayrjNj",
        "colab_type": "code",
        "colab": {}
      },
      "cell_type": "code",
      "source": [
        "z = tf.Variable(\n",
        "    np.zeros((1, 128, 128, 3)), \n",
        "    dtype=tf.float32, \n",
        "    trainable=True)\n",
        "phi_z = phi(z)\n",
        "phi_x_shifted = tf.Variable(\n",
        "    np.zeros(phi_z.shape), \n",
        "    dtype=tf.float32, \n",
        "    trainable=False)"
      ],
      "execution_count": 0,
      "outputs": []
    },
    {
      "metadata": {
        "id": "LgkSnpr2rjNl",
        "colab_type": "code",
        "colab": {
          "base_uri": "https://localhost:8080/",
          "height": 111
        },
        "outputId": "3422c1de-10e8-4888-cabd-2db56ad83914"
      },
      "cell_type": "code",
      "source": [
        "loss = dfi_loss(z, phi_z, phi_x_shifted)\n",
        "train_op = setup_optimizer(loss, z)\n",
        "\n",
        "sess = tf.InteractiveSession()\n",
        "sess.run(tf.global_variables_initializer())"
      ],
      "execution_count": 54,
      "outputs": [
        {
          "output_type": "stream",
          "text": [
            "/usr/local/lib/python3.6/dist-packages/tensorflow/python/client/session.py:1702: UserWarning: An interactive session is already active. This can cause out-of-memory errors in some cases. You must explicitly call `InteractiveSession.close()` to release resources held by the other session(s).\n",
            "  warnings.warn('An interactive session is already active. This can '\n"
          ],
          "name": "stderr"
        }
      ]
    },
    {
      "metadata": {
        "id": "XJggHUIrrjNm",
        "colab_type": "text"
      },
      "cell_type": "markdown",
      "source": [
        "Введем вспомогательные функции, упрощающие извлечение вектор-признаков из изображений. Функции ниже принимают опциональные аргементы mean и components. Они соответствуют одноименным парамтрам алгоритма PCA, который мы будем использовать для снижения размерности признакового пространства, чтобы мы могли искать по большой выборке."
      ]
    },
    {
      "metadata": {
        "id": "jYpbd2QerjNm",
        "colab_type": "code",
        "colab": {}
      },
      "cell_type": "code",
      "source": [
        "IMG_SIZE = (128, 128)\n",
        "\n",
        "def extract(image, mean=None, components=None):\n",
        "    vector = sess.run(phi_z, {\n",
        "        z: image_to_tensor(image)\n",
        "    })\n",
        "    if mean is not None:\n",
        "        vector -= mean[0]\n",
        "    if components is not None:\n",
        "        vector = np.dot(vector, components)[0]\n",
        "    return vector\n",
        "\n",
        "\n",
        "def extract_multiple(paths, mean=None, components=None):\n",
        "    dims = phi_z.shape[-1] if mean is None else components.shape[1]\n",
        "    array = np.zeros((len(paths), dims), dtype=np.float32)\n",
        "    for i in tqdm(range(len(paths))):\n",
        "        image = load_image(paths[i], size=IMG_SIZE)\n",
        "        array[i, ...] = extract(image, mean=mean, components=components)\n",
        "    return array"
      ],
      "execution_count": 0,
      "outputs": []
    },
    {
      "metadata": {
        "id": "y-WONJccrjNo",
        "colab_type": "text"
      },
      "cell_type": "markdown",
      "source": [
        "## Шаг 6: снижение размерности пространства\n",
        "\n",
        "Как вы должны были заметить, вектор-признак имеет очень большую размерность, что существенно усложняет работу даже с не очень большим количеством векторов (не говоря уже о размерах, сопоставих с нашей выборкой). В статье авторы не описывали этот подход, но как оказалось, он вполне неплохо работает на практике.\n",
        "\n",
        "Суть заключается в том, что чтобы производить поиск ближайших соседей в пространстве меньшей размерности.\n",
        "\n",
        "Поскольку извлечение этих признаков и построение отображение в пространство меньшей размерности методом PCA ресурсоемкая задача, это было проделано за вас. От вас лишь требуется указать ниже пути на numpy-файлы, хранящие параметры преобразования, а так же уже предпосчитанные отображенные вектор-признаки. Очевидно, что мы не сможем их использовать в процессе оптимизации, но они могут существенно упростить процесс подбора кондидатов."
      ]
    },
    {
      "metadata": {
        "id": "BD-nl6RbrjNo",
        "colab_type": "code",
        "colab": {}
      },
      "cell_type": "code",
      "source": [
        "MEAN_NPY_FILEPATH = './data/params/_mean.npy'\n",
        "COMPONENTS_NPY_FILEPATH = './data/params/_components.npy'\n",
        "VECTORS_NPY_FILEPATH = './data/params/vectors.npy'\n",
        "\n",
        "if os.path.exists(MEAN_NPY_FILEPATH) and os.path.exists(COMPONENTS_NPY_FILEPATH):\n",
        "    mean, components = np.load(MEAN_NPY_FILEPATH), np.load(COMPONENTS_NPY_FILEPATH)\n",
        "else:\n",
        "    N_SAMPLES = 5000\n",
        "    paths = np.random.permutation(filepaths)[:N_SAMPLES]\n",
        "    array = extract_multiple(paths)\n",
        "\n",
        "    from sklearn.decomposition import PCA\n",
        "    pca = PCA(n_components=256, copy=False, whiten=False)\n",
        "    pca.fit(array)\n",
        "    mean = pca.mean_.reshape(1, -1)\n",
        "    components = pca.components_.transpose()\n",
        "    np.save(MEAN_NPY_FILEPATH, mean)\n",
        "    np.save(COMPONENTS_NPY_FILEPATH, components)\n",
        "    \n",
        "\n",
        "if os.path.exists(VECTORS_NPY_FILEPATH):\n",
        "    database = np.load(VECTORS_NPY_FILEPATH)\n",
        "else:\n",
        "    database = extract_multiple(filepaths, mean=mean, components=components)\n",
        "    np.save(VECTORS_NPY_FILEPATH, database)"
      ],
      "execution_count": 0,
      "outputs": []
    },
    {
      "metadata": {
        "id": "20D3_grOrjNr",
        "colab_type": "text"
      },
      "cell_type": "markdown",
      "source": [
        "## Шаг 7: вычисление вектора смещения\n",
        "\n",
        "Назначим функцию `best_samples_ids` ответственной за выбор \"наилучших\" объектов из данной подвыборки для последующего использования этих \"лучших\" объектов в нашем алгоритме.\n",
        "\n",
        "### Задача\n",
        "\n",
        "**Реализуйте функцию `best_samples_ids`.** На вход она принимает вектор-запрос и матрицу векторов, а возращает индексы строк матрицы, соответствующие лучшим векторам для данного запроса."
      ]
    },
    {
      "metadata": {
        "id": "VrI_t64w-DdQ",
        "colab_type": "code",
        "colab": {}
      },
      "cell_type": "code",
      "source": [
        "from scipy.spatial.distance import cdist"
      ],
      "execution_count": 0,
      "outputs": []
    },
    {
      "metadata": {
        "id": "BDyVjbxcrjNr",
        "colab_type": "code",
        "colab": {}
      },
      "cell_type": "code",
      "source": [
        "def get_best_ids(query, vectors):\n",
        "    ####################################################\n",
        "    # return np.random.permutation(len(vectors))[:k]\n",
        "    ####################################################\n",
        "    dists = cdist([query], vectors)\n",
        "    dists = dists.ravel()\n",
        "    pos = np.argsort(dists)\n",
        "    pos = pos[:1000]\n",
        "    return pos"
      ],
      "execution_count": 0,
      "outputs": []
    },
    {
      "metadata": {
        "id": "8e1CvlGPrjNt",
        "colab_type": "code",
        "colab": {}
      },
      "cell_type": "code",
      "source": [
        "def get_best_paths(query, **kwargs):\n",
        "    set_mask = get_mask(**kwargs)\n",
        "    ids = get_best_ids(query, database[set_mask])\n",
        "    set_paths = filepaths[set_mask][ids]\n",
        "    return set_paths"
      ],
      "execution_count": 0,
      "outputs": []
    },
    {
      "metadata": {
        "id": "8fdcDKFdrjNu",
        "colab_type": "text"
      },
      "cell_type": "markdown",
      "source": [
        "### Задача\n",
        "\n",
        "**Реализуйте вычисление вектора-смещения.** Функция `get_shift` принимает на вход изображение, а так же два словаря с исходными и целевыми значениями атрибутов."
      ]
    },
    {
      "metadata": {
        "id": "tI1-Kb-ZrjNu",
        "colab_type": "code",
        "colab": {}
      },
      "cell_type": "code",
      "source": [
        "def get_shift(image, source_params, target_params):\n",
        "    query = extract(image, mean=mean, components=components)\n",
        "    source_set_paths = get_best_paths(query, **source_params)\n",
        "    target_set_paths = get_best_paths(query, **target_params)\n",
        "    \n",
        "    source_vectors = extract_multiple(source_set_paths)\n",
        "    target_vectors = extract_multiple(target_set_paths)\n",
        "    ##################################################################\n",
        "    # ...\n",
        "    ##################################################################\n",
        "    source_mean = np.mean(source_vectors, axis=0)\n",
        "    target_mean = np.mean(target_vectors, axis=0)\n",
        "    shift = target_mean - source_mean\n",
        "    return shift"
      ],
      "execution_count": 0,
      "outputs": []
    },
    {
      "metadata": {
        "id": "pVd9CRngrjNw",
        "colab_type": "text"
      },
      "cell_type": "markdown",
      "source": [
        "## Шаг 8: оптимизация\n",
        "\n",
        "На данный момент у нас всё готово, чтобы сделать главное.\n",
        "\n",
        "### Задача\n",
        "\n",
        "**Реализуйте функцию `inverse`.** В ней должен происходить некоторый оптимизационный процесс для данного изобржаения и вектора-смещения."
      ]
    },
    {
      "metadata": {
        "id": "FuoQGyI3rjNw",
        "colab_type": "code",
        "colab": {}
      },
      "cell_type": "code",
      "source": [
        "def inverse(image, shift, steps=1000):\n",
        "    ###############################################################\n",
        "    # ...\n",
        "    ###############################################################\n",
        "    x = tf.Variable(image_to_tensor(image), dtype=tf.float32, trainable=False)\n",
        "    phi_x = phi(x)\n",
        "    \n",
        "    move = tf.Variable(np.array([shift]), dtype=tf.float32, trainable=False)\n",
        "    phi_x_shifted = tf.add(phi_x, move, name='shifted_image')\n",
        "    \n",
        "    z = tf.Variable(\n",
        "      x, \n",
        "      dtype=tf.float32, \n",
        "      trainable=True)\n",
        "    phi_z = phi(z)\n",
        "    loss = dfi_loss(z, phi_z, phi_x_shifted)\n",
        "    train_op = setup_optimizer(loss, z)\n",
        "    sess.run(tf.global_variables_initializer())\n",
        "    for i in tqdm(range(1000)):\n",
        "        sess.run(train_op)\n",
        "    return z.eval(sess)"
      ],
      "execution_count": 0,
      "outputs": []
    },
    {
      "metadata": {
        "id": "spGDyziZrjNy",
        "colab_type": "text"
      },
      "cell_type": "markdown",
      "source": [
        "Пришло время опробовать реализованную функцию."
      ]
    },
    {
      "metadata": {
        "id": "NBjzZkbKrjNy",
        "colab_type": "code",
        "colab": {
          "base_uri": "https://localhost:8080/",
          "height": 51
        },
        "outputId": "1b5010cb-6225-4858-c6a2-1db7b7047b3f"
      },
      "cell_type": "code",
      "source": [
        "image = load_image('./data/images/f04119339fa749ac34f0a27ed9f6725f.jpg')\n",
        "shift = get_shift(\n",
        "    image, \n",
        "    source_params=dict(\n",
        "        age=list(map(str, range(18, 40))),\n",
        "        gender='male',\n",
        "        race='caucasian',\n",
        "        glasses='no',\n",
        "        facial_hair='shaved'\n",
        "    ), \n",
        "    target_params=dict(\n",
        "        age=list(map(str, range(18, 40))),\n",
        "        gender='male',\n",
        "        race='asian',\n",
        "        glasses='no',\n",
        "        facial_hair='shaved'\n",
        "    )\n",
        ")\n"
      ],
      "execution_count": 69,
      "outputs": [
        {
          "output_type": "stream",
          "text": [
            "100%|██████████| 1000/1000 [00:16<00:00, 64.35it/s]\n",
            "100%|██████████| 1000/1000 [00:15<00:00, 63.05it/s]\n"
          ],
          "name": "stderr"
        }
      ]
    },
    {
      "metadata": {
        "id": "3H5k19kUQvZI",
        "colab_type": "code",
        "colab": {
          "base_uri": "https://localhost:8080/",
          "height": 145
        },
        "outputId": "d205360f-a2c1-485c-bbd0-a69061f4f15c"
      },
      "cell_type": "code",
      "source": [
        "image"
      ],
      "execution_count": 77,
      "outputs": [
        {
          "output_type": "execute_result",
          "data": {
            "image/png": "[encoded data removed]",
            "text/plain": [
              "<PIL.Image.Image image mode=RGB size=128x128 at 0x7F9B51109048>"
            ]
          },
          "metadata": {
            "tags": []
          },
          "execution_count": 77
        }
      ]
    },
    {
      "metadata": {
        "id": "wCjt-5NrOqwI",
        "colab_type": "code",
        "colab": {
          "base_uri": "https://localhost:8080/",
          "height": 162
        },
        "outputId": "1d0779e9-cda4-45c4-89e7-a42c4f1551ab"
      },
      "cell_type": "code",
      "source": [
        "tensor_to_image(inverse(image, shift * 3))"
      ],
      "execution_count": 80,
      "outputs": [
        {
          "output_type": "stream",
          "text": [
            "100%|██████████| 1000/1000 [00:51<00:00, 19.24it/s]\n"
          ],
          "name": "stderr"
        },
        {
          "output_type": "execute_result",
          "data": {
            "image/png": "[encoded data removed]",
            "text/plain": [
              "<PIL.Image.Image image mode=RGB size=128x128 at 0x7F9B39AD2860>"
            ]
          },
          "metadata": {
            "tags": []
          },
          "execution_count": 80
        }
      ]
    },
    {
      "metadata": {
        "id": "aYcmTKNqrjNz",
        "colab_type": "text"
      },
      "cell_type": "markdown",
      "source": [
        "## Шаг 9: улучшение результата\n",
        "\n",
        "Как вы могли заметить, в результате оптимизации полученные изображения, хоть и приобретают желаемые черты, становятся несколько неестественными (изменяется цвет, добавляется сильно размытие). То есть становятся сильно отличающимися от исходных изображений. \n",
        "\n",
        "В статье рассматривается эта проблема, а так же приводится её решение.\n",
        "\n",
        "### Задача\n",
        "\n",
        "**Реализуйте функцию inverse_improved, которая позволяет бороться с появление подобных нежелательных эффектов.** Внутри этой функции вы можете вызывать уже имеющуюся функцию `inverse`."
      ]
    },
    {
      "metadata": {
        "id": "KH8_ZNUTrjN0",
        "colab_type": "code",
        "colab": {}
      },
      "cell_type": "code",
      "source": [
        "def inverse_improved(image, shift):\n",
        "    ##########################################\n",
        "    # ...\n",
        "    ##########################################\n",
        "    return _fix"
      ],
      "execution_count": 0,
      "outputs": []
    },
    {
      "metadata": {
        "id": "ljk1UFRzrjN1",
        "colab_type": "code",
        "colab": {}
      },
      "cell_type": "code",
      "source": [
        "tensor_to_image(inverse_improved(image, shift * 2))"
      ],
      "execution_count": 0,
      "outputs": []
    },
    {
      "metadata": {
        "id": "w6QehNXCrjN2",
        "colab_type": "text"
      },
      "cell_type": "markdown",
      "source": [
        "## Шаг 10: движение в пространстве\n",
        "\n",
        "### Задача\n",
        "\n",
        "Попробуйте произвести интерполяцию сразу по двум направлениям. То есть **варьируя параметр alpha для каждого из направлений, постройте двумерный массив изображений**."
      ]
    },
    {
      "metadata": {
        "id": "zFcEDa0RrjN3",
        "colab_type": "code",
        "colab": {}
      },
      "cell_type": "code",
      "source": [
        "###################################################\n",
        "# ...\n",
        "###################################################"
      ],
      "execution_count": 0,
      "outputs": []
    },
    {
      "metadata": {
        "id": "rEEsN5OIrjN4",
        "colab_type": "text"
      },
      "cell_type": "markdown",
      "source": [
        "## Шаг 11: работа с произвольными изображениями\n",
        "\n",
        "Как вы могли заметить, до этого момента мы эксперементировали только с изображениями из предоставленной базы. Эти изображения унифицированы (то есть приведены к общему виду: одинаковый кроп, выравнивание). А хотелось бы модифицировать изображения лиц не только из этой базы. Для этого нужно научиться извлекать изображение лица из фотографии.\n",
        "\n",
        "Воспользуемся наиболее простым способом, а именно: реализацией каскадов Хаара из библиотеки OpenCV. Поскольку мы сможем обнаруживать лица, но сможем их выравнивать, желательно, чтобы лица уже находились в выровненном положении.\n",
        "\n",
        "### Задача\n",
        "\n",
        "**Воспользуясь документацией, разберитесь, как нужно работать с cv2.CascadeClassifier.** Параметры каскада прилагаются к архиву."
      ]
    },
    {
      "metadata": {
        "id": "fNwBTtRZrjN5",
        "colab_type": "code",
        "colab": {}
      },
      "cell_type": "code",
      "source": [
        "HAAR_CASCADE_FILEPATH = './data/params/haarcascade_frontalface_default.xml'\n",
        "cascade = cv2.CascadeClassifier(HAAR_CASCADE_FILEPATH)\n",
        "\n",
        "def get_face_bbox(image):\n",
        "    ##################################\n",
        "    # ...\n",
        "    ##################################\n",
        "    return x, y, x + w, y + h\n",
        "\n",
        "def get_face_image(image):\n",
        "    bbox = get_face_bbox(image)\n",
        "    image = image.crop(bbox)\n",
        "    image = image.resize((128, 128), Image.BICUBIC)\n",
        "    image = image.convert(\"RGB\")\n",
        "    return image, bbox"
      ],
      "execution_count": 0,
      "outputs": []
    },
    {
      "metadata": {
        "id": "J6AQU-M4rjN6",
        "colab_type": "text"
      },
      "cell_type": "markdown",
      "source": [
        "### Задача\n",
        "\n",
        "Реализуйте функцию вставки лица обратно в изображение. Обратите внимание, что если просто вставлять картинку обратно в изображение, результат появляется очень неестествненый: на границах проявляется явное нессответствие цветов пикселей. Придумайте несложное решение для обхода этой проблемы."
      ]
    },
    {
      "metadata": {
        "id": "pOkJ0Qv3rjN6",
        "colab_type": "code",
        "colab": {}
      },
      "cell_type": "code",
      "source": [
        "def paste_face_back(image, face_image, bbox):\n",
        "    ################################################################\n",
        "    # ...\n",
        "    ################################################################\n",
        "    return image"
      ],
      "execution_count": 0,
      "outputs": []
    },
    {
      "metadata": {
        "id": "F0Th2XJGrjN7",
        "colab_type": "text"
      },
      "cell_type": "markdown",
      "source": [
        "### Финальный результат\n",
        "\n",
        "Продемонстрируйте работу вашего алгоритма на изображении любого человека."
      ]
    },
    {
      "metadata": {
        "id": "jhO-3PWsrjN8",
        "colab_type": "code",
        "colab": {}
      },
      "cell_type": "code",
      "source": [
        "shift = get_shift(\n",
        "    image, \n",
        "    source_params=dict(\n",
        "        age=list(map(str, range(18, 25))),\n",
        "        gender='male',\n",
        "        race='caucasian',\n",
        "        glasses='no',\n",
        "        facial_hair='shaved'\n",
        "    ), \n",
        "    target_params=dict(\n",
        "        age=list(map(str, range(18, 25))),\n",
        "        gender='female',\n",
        "        race='black',\n",
        "        glasses='no',\n",
        "        facial_hair='shaved'\n",
        "    )\n",
        ")\n",
        "source_image = Image.open('celebrity.jpg')\n",
        "source_image = source_image.resize(\n",
        "    (source_image.width // 4, source_image.height // 4), Image.BICUBIC)\n",
        "face_image, bbox = get_face_image(source_image)\n",
        "face_image = tensor_to_image(inverse_improved(face_image, shift))\n",
        "target_image = paste_face_back(source_image, face_image, bbox)\n",
        "result = Image.new(\"RGB\", (source_image.width * 2, source_image.height))\n",
        "result.paste(source_image, (0, 0))\n",
        "result.paste(target_image, (source_image.width, 0))\n",
        "result"
      ],
      "execution_count": 0,
      "outputs": []
    }
  ]
}