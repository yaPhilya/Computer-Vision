{
  "nbformat": 4,
  "nbformat_minor": 0,
  "metadata": {
    "colab": {
      "name": "colab.ipynb",
      "version": "0.3.2",
      "provenance": [],
      "collapsed_sections": [],
      "include_colab_link": true
    },
    "kernelspec": {
      "name": "python3",
      "display_name": "Python 3"
    },
    "accelerator": "GPU"
  },
  "cells": [
    {
      "cell_type": "markdown",
      "metadata": {
        "id": "view-in-github",
        "colab_type": "text"
      },
      "source": [
        "<a href=\"https://colab.research.google.com/github/yaPhilya/Computer-Vision/blob/master/hw5/colab.ipynb\" target=\"_parent\"><img src=\"https://colab.research.google.com/assets/colab-badge.svg\" alt=\"Open In Colab\"/></a>"
      ]
    },
    {
      "metadata": {
        "id": "sToJEg44xRqj",
        "colab_type": "code",
        "colab": {}
      },
      "cell_type": "code",
      "source": [
        ""
      ],
      "execution_count": 0,
      "outputs": []
    },
    {
      "metadata": {
        "id": "QHW_JY-EUor7",
        "colab_type": "code",
        "colab": {}
      },
      "cell_type": "code",
      "source": [
        "import numpy as np\n",
        "import pandas as pd\n",
        "import matplotlib.pyplot as plt\n",
        "%matplotlib inline"
      ],
      "execution_count": 0,
      "outputs": []
    },
    {
      "metadata": {
        "id": "hXaZCP57y6o_",
        "colab_type": "code",
        "outputId": "248f1901-b570-4f9b-bb31-2929fba84a35",
        "colab": {
          "base_uri": "https://localhost:8080/",
          "height": 34
        }
      },
      "cell_type": "code",
      "source": [
        "from keras.applications.xception import Xception, preprocess_input"
      ],
      "execution_count": 0,
      "outputs": [
        {
          "output_type": "stream",
          "text": [
            "Using TensorFlow backend.\n"
          ],
          "name": "stderr"
        }
      ]
    },
    {
      "metadata": {
        "id": "GoTgH4827FhR",
        "colab_type": "code",
        "colab": {}
      },
      "cell_type": "code",
      "source": [
        "from skimage.transform import resize\n",
        "from skimage.io import imread\n",
        "from keras.preprocessing import image"
      ],
      "execution_count": 0,
      "outputs": []
    },
    {
      "metadata": {
        "id": "Jxk-vnRreh45",
        "colab_type": "code",
        "colab": {}
      },
      "cell_type": "code",
      "source": [
        "import keras.layers as L\n",
        "from keras.models import Model"
      ],
      "execution_count": 0,
      "outputs": []
    },
    {
      "metadata": {
        "id": "FlE5LWsVeoHL",
        "colab_type": "code",
        "colab": {}
      },
      "cell_type": "code",
      "source": [
        "from sklearn.preprocessing import LabelBinarizer\n",
        "from sklearn.model_selection import train_test_split\n",
        "from sklearn.metrics import accuracy_score"
      ],
      "execution_count": 0,
      "outputs": []
    },
    {
      "metadata": {
        "id": "0lleDJDZVJuZ",
        "colab_type": "code",
        "outputId": "0d413dc1-081a-4b98-9c60-f516d2a64669",
        "colab": {
          "base_uri": "https://localhost:8080/",
          "height": 231
        }
      },
      "cell_type": "code",
      "source": [
        "from google.colab import drive\n",
        "drive.mount('/content/hw5')"
      ],
      "execution_count": 2,
      "outputs": [
        {
          "output_type": "stream",
          "text": [
            "Go to this URL in a browser: https://accounts.google.com/o/oauth2/auth?client_id=947318989803-6bn6qk8qdgf4n4g3pfee6491hc0brc4i.apps.googleusercontent.com&redirect_uri=urn%3Aietf%3Awg%3Aoauth%3A2.0%3Aoob&scope=email%20https%3A%2F%2Fwww.googleapis.com%2Fauth%2Fdocs.test%20https%3A%2F%2Fwww.googleapis.com%2Fauth%2Fdrive%20https%3A%2F%2Fwww.googleapis.com%2Fauth%2Fdrive.photos.readonly%20https%3A%2F%2Fwww.googleapis.com%2Fauth%2Fpeopleapi.readonly&response_type=code\n",
            "\n",
            "Enter your authorization code:\n",
            "··········\n",
            "Mounted at /content/hw5\n"
          ],
          "name": "stdout"
        }
      ]
    },
    {
      "metadata": {
        "id": "7AZCRKPIV3qW",
        "colab_type": "code",
        "outputId": "7f7be371-3b23-4ccd-edb7-64e891a6ba83",
        "colab": {
          "base_uri": "https://localhost:8080/",
          "height": 34
        }
      },
      "cell_type": "code",
      "source": [
        "import os\n",
        "os.listdir('/content/hw5/My Drive/Colab Notebooks/Computer Vision/hw5')"
      ],
      "execution_count": 3,
      "outputs": [
        {
          "output_type": "execute_result",
          "data": {
            "text/plain": [
              "['images', 'gt.csv', 'imgs.npy']"
            ]
          },
          "metadata": {
            "tags": []
          },
          "execution_count": 3
        }
      ]
    },
    {
      "metadata": {
        "id": "-vI37HvLy1HZ",
        "colab_type": "code",
        "colab": {}
      },
      "cell_type": "code",
      "source": [
        "PATH = '/content/hw5/My Drive/Colab Notebooks/Computer Vision/hw5/'"
      ],
      "execution_count": 0,
      "outputs": []
    },
    {
      "metadata": {
        "id": "gkQpwuFT6bSG",
        "colab_type": "code",
        "outputId": "3b6a9f23-12d1-4239-b51c-d669dd033eaf",
        "colab": {
          "base_uri": "https://localhost:8080/",
          "height": 204
        }
      },
      "cell_type": "code",
      "source": [
        "gt = pd.read_csv(PATH + 'gt.csv')\n",
        "gt.head()"
      ],
      "execution_count": 6,
      "outputs": [
        {
          "output_type": "execute_result",
          "data": {
            "text/html": [
              "<div>\n",
              "<style scoped>\n",
              "    .dataframe tbody tr th:only-of-type {\n",
              "        vertical-align: middle;\n",
              "    }\n",
              "\n",
              "    .dataframe tbody tr th {\n",
              "        vertical-align: top;\n",
              "    }\n",
              "\n",
              "    .dataframe thead th {\n",
              "        text-align: right;\n",
              "    }\n",
              "</style>\n",
              "<table border=\"1\" class=\"dataframe\">\n",
              "  <thead>\n",
              "    <tr style=\"text-align: right;\">\n",
              "      <th></th>\n",
              "      <th>filename</th>\n",
              "      <th>class_id</th>\n",
              "    </tr>\n",
              "  </thead>\n",
              "  <tbody>\n",
              "    <tr>\n",
              "      <th>0</th>\n",
              "      <td>0000.jpg</td>\n",
              "      <td>0</td>\n",
              "    </tr>\n",
              "    <tr>\n",
              "      <th>1</th>\n",
              "      <td>0001.jpg</td>\n",
              "      <td>0</td>\n",
              "    </tr>\n",
              "    <tr>\n",
              "      <th>2</th>\n",
              "      <td>0002.jpg</td>\n",
              "      <td>0</td>\n",
              "    </tr>\n",
              "    <tr>\n",
              "      <th>3</th>\n",
              "      <td>0003.jpg</td>\n",
              "      <td>0</td>\n",
              "    </tr>\n",
              "    <tr>\n",
              "      <th>4</th>\n",
              "      <td>0004.jpg</td>\n",
              "      <td>0</td>\n",
              "    </tr>\n",
              "  </tbody>\n",
              "</table>\n",
              "</div>"
            ],
            "text/plain": [
              "   filename  class_id\n",
              "0  0000.jpg         0\n",
              "1  0001.jpg         0\n",
              "2  0002.jpg         0\n",
              "3  0003.jpg         0\n",
              "4  0004.jpg         0"
            ]
          },
          "metadata": {
            "tags": []
          },
          "execution_count": 6
        }
      ]
    },
    {
      "metadata": {
        "id": "xqmOrpsz6nmU",
        "colab_type": "code",
        "colab": {}
      },
      "cell_type": "code",
      "source": [
        "filenames = []\n",
        "label = []\n",
        "for row in gt.iterrows():\n",
        "  filenames.append(row[1]['filename'])\n",
        "  label.append(row[1]['class_id'])\n",
        "label = np.array(label)"
      ],
      "execution_count": 0,
      "outputs": []
    },
    {
      "metadata": {
        "id": "HQVhe_vKcX9x",
        "colab_type": "code",
        "colab": {}
      },
      "cell_type": "code",
      "source": [
        "NEW_SHAPE = 299"
      ],
      "execution_count": 0,
      "outputs": []
    },
    {
      "metadata": {
        "id": "syWLlqy47PbH",
        "colab_type": "code",
        "colab": {}
      },
      "cell_type": "code",
      "source": [
        "\n",
        "images = []\n",
        "for file in filenames:\n",
        "  images.append(image.load_img(PATH + 'images/{}'.format(file), target_size=(NEW_SHAPE, NEW_SHAPE)))\n",
        "images = np.array(images)"
      ],
      "execution_count": 0,
      "outputs": []
    },
    {
      "metadata": {
        "id": "gS-0Pd1mcbZ3",
        "colab_type": "code",
        "colab": {}
      },
      "cell_type": "code",
      "source": [
        "images = np.load(PATH + 'imgs.npy')"
      ],
      "execution_count": 0,
      "outputs": []
    },
    {
      "metadata": {
        "id": "1X3wQN87clp2",
        "colab_type": "code",
        "colab": {}
      },
      "cell_type": "code",
      "source": [
        "processed_imgs = []\n",
        "for im in images:\n",
        "  processed_imgs.append(preprocess_input(im))\n",
        "processed_imgs = np.array(processed_imgs)"
      ],
      "execution_count": 0,
      "outputs": []
    },
    {
      "metadata": {
        "id": "D4vZccO8gSiH",
        "colab_type": "code",
        "colab": {
          "base_uri": "https://localhost:8080/",
          "height": 34
        },
        "outputId": "2e4a0d62-ae76-44fa-a84a-01ca45aa01fe"
      },
      "cell_type": "code",
      "source": [
        "l_bin = LabelBinarizer()\n",
        "target = l_bin.fit_transform(label)\n",
        "target.shape"
      ],
      "execution_count": 21,
      "outputs": [
        {
          "output_type": "execute_result",
          "data": {
            "text/plain": [
              "(2500, 50)"
            ]
          },
          "metadata": {
            "tags": []
          },
          "execution_count": 21
        }
      ]
    },
    {
      "metadata": {
        "id": "msicGPxvgfxd",
        "colab_type": "code",
        "colab": {
          "base_uri": "https://localhost:8080/",
          "height": 34
        },
        "outputId": "3328f4b5-37ee-4b53-974b-1994150c8c81"
      },
      "cell_type": "code",
      "source": [
        "X_train, X_test, y_train, y_test = train_test_split(processed_imgs, target, test_size=0.2)\n",
        "X_train.shape, X_test.shape, y_train.shape, y_test.shape "
      ],
      "execution_count": 22,
      "outputs": [
        {
          "output_type": "execute_result",
          "data": {
            "text/plain": [
              "((2000, 299, 299, 3), (500, 299, 299, 3), (2000, 50), (500, 50))"
            ]
          },
          "metadata": {
            "tags": []
          },
          "execution_count": 22
        }
      ]
    },
    {
      "metadata": {
        "id": "f_tfKn4ndZTa",
        "colab_type": "code",
        "colab": {
          "base_uri": "https://localhost:8080/",
          "height": 51
        },
        "outputId": "cbf8565c-ffc9-4670-8b21-a09e235606d5"
      },
      "cell_type": "code",
      "source": [
        "base_model = Xception(weights='imagenet', include_top=False)"
      ],
      "execution_count": 13,
      "outputs": [
        {
          "output_type": "stream",
          "text": [
            "Downloading data from https://github.com/fchollet/deep-learning-models/releases/download/v0.4/xception_weights_tf_dim_ordering_tf_kernels_notop.h5\n",
            "83689472/83683744 [==============================] - 7s 0us/step\n"
          ],
          "name": "stdout"
        }
      ]
    },
    {
      "metadata": {
        "id": "KeoOvV_rec4M",
        "colab_type": "code",
        "colab": {}
      },
      "cell_type": "code",
      "source": [
        "avg_pool = L.GlobalAveragePooling2D()(base_model.output)\n",
        "dense = L.Dense(256, activation='relu')(avg_pool)\n",
        "prediction = L.Dense(label.max() + 1, activation='softmax')(dense)\n",
        "\n",
        "model = Model(inputs=base_model.input, outputs=prediction)"
      ],
      "execution_count": 0,
      "outputs": []
    },
    {
      "metadata": {
        "id": "TwhDU3HJlZFk",
        "colab_type": "code",
        "colab": {
          "base_uri": "https://localhost:8080/",
          "height": 4930
        },
        "outputId": "7f4f5a76-050d-4ce7-c468-4789c8e33e80"
      },
      "cell_type": "code",
      "source": [
        "model.summary(line_length=150)"
      ],
      "execution_count": 25,
      "outputs": [
        {
          "output_type": "stream",
          "text": [
            "______________________________________________________________________________________________________________________________________________________\n",
            "Layer (type)                                     Output Shape                     Param #           Connected to                                      \n",
            "======================================================================================================================================================\n",
            "input_1 (InputLayer)                             (None, None, None, 3)            0                                                                   \n",
            "______________________________________________________________________________________________________________________________________________________\n",
            "block1_conv1 (Conv2D)                            (None, None, None, 32)           864               input_1[0][0]                                     \n",
            "______________________________________________________________________________________________________________________________________________________\n",
            "block1_conv1_bn (BatchNormalization)             (None, None, None, 32)           128               block1_conv1[0][0]                                \n",
            "______________________________________________________________________________________________________________________________________________________\n",
            "block1_conv1_act (Activation)                    (None, None, None, 32)           0                 block1_conv1_bn[0][0]                             \n",
            "______________________________________________________________________________________________________________________________________________________\n",
            "block1_conv2 (Conv2D)                            (None, None, None, 64)           18432             block1_conv1_act[0][0]                            \n",
            "______________________________________________________________________________________________________________________________________________________\n",
            "block1_conv2_bn (BatchNormalization)             (None, None, None, 64)           256               block1_conv2[0][0]                                \n",
            "______________________________________________________________________________________________________________________________________________________\n",
            "block1_conv2_act (Activation)                    (None, None, None, 64)           0                 block1_conv2_bn[0][0]                             \n",
            "______________________________________________________________________________________________________________________________________________________\n",
            "block2_sepconv1 (SeparableConv2D)                (None, None, None, 128)          8768              block1_conv2_act[0][0]                            \n",
            "______________________________________________________________________________________________________________________________________________________\n",
            "block2_sepconv1_bn (BatchNormalization)          (None, None, None, 128)          512               block2_sepconv1[0][0]                             \n",
            "______________________________________________________________________________________________________________________________________________________\n",
            "block2_sepconv2_act (Activation)                 (None, None, None, 128)          0                 block2_sepconv1_bn[0][0]                          \n",
            "______________________________________________________________________________________________________________________________________________________\n",
            "block2_sepconv2 (SeparableConv2D)                (None, None, None, 128)          17536             block2_sepconv2_act[0][0]                         \n",
            "______________________________________________________________________________________________________________________________________________________\n",
            "block2_sepconv2_bn (BatchNormalization)          (None, None, None, 128)          512               block2_sepconv2[0][0]                             \n",
            "______________________________________________________________________________________________________________________________________________________\n",
            "conv2d_1 (Conv2D)                                (None, None, None, 128)          8192              block1_conv2_act[0][0]                            \n",
            "______________________________________________________________________________________________________________________________________________________\n",
            "block2_pool (MaxPooling2D)                       (None, None, None, 128)          0                 block2_sepconv2_bn[0][0]                          \n",
            "______________________________________________________________________________________________________________________________________________________\n",
            "batch_normalization_1 (BatchNormalization)       (None, None, None, 128)          512               conv2d_1[0][0]                                    \n",
            "______________________________________________________________________________________________________________________________________________________\n",
            "add_1 (Add)                                      (None, None, None, 128)          0                 block2_pool[0][0]                                 \n",
            "                                                                                                    batch_normalization_1[0][0]                       \n",
            "______________________________________________________________________________________________________________________________________________________\n",
            "block3_sepconv1_act (Activation)                 (None, None, None, 128)          0                 add_1[0][0]                                       \n",
            "______________________________________________________________________________________________________________________________________________________\n",
            "block3_sepconv1 (SeparableConv2D)                (None, None, None, 256)          33920             block3_sepconv1_act[0][0]                         \n",
            "______________________________________________________________________________________________________________________________________________________\n",
            "block3_sepconv1_bn (BatchNormalization)          (None, None, None, 256)          1024              block3_sepconv1[0][0]                             \n",
            "______________________________________________________________________________________________________________________________________________________\n",
            "block3_sepconv2_act (Activation)                 (None, None, None, 256)          0                 block3_sepconv1_bn[0][0]                          \n",
            "______________________________________________________________________________________________________________________________________________________\n",
            "block3_sepconv2 (SeparableConv2D)                (None, None, None, 256)          67840             block3_sepconv2_act[0][0]                         \n",
            "______________________________________________________________________________________________________________________________________________________\n",
            "block3_sepconv2_bn (BatchNormalization)          (None, None, None, 256)          1024              block3_sepconv2[0][0]                             \n",
            "______________________________________________________________________________________________________________________________________________________\n",
            "conv2d_2 (Conv2D)                                (None, None, None, 256)          32768             add_1[0][0]                                       \n",
            "______________________________________________________________________________________________________________________________________________________\n",
            "block3_pool (MaxPooling2D)                       (None, None, None, 256)          0                 block3_sepconv2_bn[0][0]                          \n",
            "______________________________________________________________________________________________________________________________________________________\n",
            "batch_normalization_2 (BatchNormalization)       (None, None, None, 256)          1024              conv2d_2[0][0]                                    \n",
            "______________________________________________________________________________________________________________________________________________________\n",
            "add_2 (Add)                                      (None, None, None, 256)          0                 block3_pool[0][0]                                 \n",
            "                                                                                                    batch_normalization_2[0][0]                       \n",
            "______________________________________________________________________________________________________________________________________________________\n",
            "block4_sepconv1_act (Activation)                 (None, None, None, 256)          0                 add_2[0][0]                                       \n",
            "______________________________________________________________________________________________________________________________________________________\n",
            "block4_sepconv1 (SeparableConv2D)                (None, None, None, 728)          188672            block4_sepconv1_act[0][0]                         \n",
            "______________________________________________________________________________________________________________________________________________________\n",
            "block4_sepconv1_bn (BatchNormalization)          (None, None, None, 728)          2912              block4_sepconv1[0][0]                             \n",
            "______________________________________________________________________________________________________________________________________________________\n",
            "block4_sepconv2_act (Activation)                 (None, None, None, 728)          0                 block4_sepconv1_bn[0][0]                          \n",
            "______________________________________________________________________________________________________________________________________________________\n",
            "block4_sepconv2 (SeparableConv2D)                (None, None, None, 728)          536536            block4_sepconv2_act[0][0]                         \n",
            "______________________________________________________________________________________________________________________________________________________\n",
            "block4_sepconv2_bn (BatchNormalization)          (None, None, None, 728)          2912              block4_sepconv2[0][0]                             \n",
            "______________________________________________________________________________________________________________________________________________________\n",
            "conv2d_3 (Conv2D)                                (None, None, None, 728)          186368            add_2[0][0]                                       \n",
            "______________________________________________________________________________________________________________________________________________________\n",
            "block4_pool (MaxPooling2D)                       (None, None, None, 728)          0                 block4_sepconv2_bn[0][0]                          \n",
            "______________________________________________________________________________________________________________________________________________________\n",
            "batch_normalization_3 (BatchNormalization)       (None, None, None, 728)          2912              conv2d_3[0][0]                                    \n",
            "______________________________________________________________________________________________________________________________________________________\n",
            "add_3 (Add)                                      (None, None, None, 728)          0                 block4_pool[0][0]                                 \n",
            "                                                                                                    batch_normalization_3[0][0]                       \n",
            "______________________________________________________________________________________________________________________________________________________\n",
            "block5_sepconv1_act (Activation)                 (None, None, None, 728)          0                 add_3[0][0]                                       \n",
            "______________________________________________________________________________________________________________________________________________________\n",
            "block5_sepconv1 (SeparableConv2D)                (None, None, None, 728)          536536            block5_sepconv1_act[0][0]                         \n",
            "______________________________________________________________________________________________________________________________________________________\n",
            "block5_sepconv1_bn (BatchNormalization)          (None, None, None, 728)          2912              block5_sepconv1[0][0]                             \n",
            "______________________________________________________________________________________________________________________________________________________\n",
            "block5_sepconv2_act (Activation)                 (None, None, None, 728)          0                 block5_sepconv1_bn[0][0]                          \n",
            "______________________________________________________________________________________________________________________________________________________\n",
            "block5_sepconv2 (SeparableConv2D)                (None, None, None, 728)          536536            block5_sepconv2_act[0][0]                         \n",
            "______________________________________________________________________________________________________________________________________________________\n",
            "block5_sepconv2_bn (BatchNormalization)          (None, None, None, 728)          2912              block5_sepconv2[0][0]                             \n",
            "______________________________________________________________________________________________________________________________________________________\n",
            "block5_sepconv3_act (Activation)                 (None, None, None, 728)          0                 block5_sepconv2_bn[0][0]                          \n",
            "______________________________________________________________________________________________________________________________________________________\n",
            "block5_sepconv3 (SeparableConv2D)                (None, None, None, 728)          536536            block5_sepconv3_act[0][0]                         \n",
            "______________________________________________________________________________________________________________________________________________________\n",
            "block5_sepconv3_bn (BatchNormalization)          (None, None, None, 728)          2912              block5_sepconv3[0][0]                             \n",
            "______________________________________________________________________________________________________________________________________________________\n",
            "add_4 (Add)                                      (None, None, None, 728)          0                 block5_sepconv3_bn[0][0]                          \n",
            "                                                                                                    add_3[0][0]                                       \n",
            "______________________________________________________________________________________________________________________________________________________\n",
            "block6_sepconv1_act (Activation)                 (None, None, None, 728)          0                 add_4[0][0]                                       \n",
            "______________________________________________________________________________________________________________________________________________________\n",
            "block6_sepconv1 (SeparableConv2D)                (None, None, None, 728)          536536            block6_sepconv1_act[0][0]                         \n",
            "______________________________________________________________________________________________________________________________________________________\n",
            "block6_sepconv1_bn (BatchNormalization)          (None, None, None, 728)          2912              block6_sepconv1[0][0]                             \n",
            "______________________________________________________________________________________________________________________________________________________\n",
            "block6_sepconv2_act (Activation)                 (None, None, None, 728)          0                 block6_sepconv1_bn[0][0]                          \n",
            "______________________________________________________________________________________________________________________________________________________\n",
            "block6_sepconv2 (SeparableConv2D)                (None, None, None, 728)          536536            block6_sepconv2_act[0][0]                         \n",
            "______________________________________________________________________________________________________________________________________________________\n",
            "block6_sepconv2_bn (BatchNormalization)          (None, None, None, 728)          2912              block6_sepconv2[0][0]                             \n",
            "______________________________________________________________________________________________________________________________________________________\n",
            "block6_sepconv3_act (Activation)                 (None, None, None, 728)          0                 block6_sepconv2_bn[0][0]                          \n",
            "______________________________________________________________________________________________________________________________________________________\n",
            "block6_sepconv3 (SeparableConv2D)                (None, None, None, 728)          536536            block6_sepconv3_act[0][0]                         \n",
            "______________________________________________________________________________________________________________________________________________________\n",
            "block6_sepconv3_bn (BatchNormalization)          (None, None, None, 728)          2912              block6_sepconv3[0][0]                             \n",
            "______________________________________________________________________________________________________________________________________________________\n",
            "add_5 (Add)                                      (None, None, None, 728)          0                 block6_sepconv3_bn[0][0]                          \n",
            "                                                                                                    add_4[0][0]                                       \n",
            "______________________________________________________________________________________________________________________________________________________\n",
            "block7_sepconv1_act (Activation)                 (None, None, None, 728)          0                 add_5[0][0]                                       \n",
            "______________________________________________________________________________________________________________________________________________________\n",
            "block7_sepconv1 (SeparableConv2D)                (None, None, None, 728)          536536            block7_sepconv1_act[0][0]                         \n",
            "______________________________________________________________________________________________________________________________________________________\n",
            "block7_sepconv1_bn (BatchNormalization)          (None, None, None, 728)          2912              block7_sepconv1[0][0]                             \n",
            "______________________________________________________________________________________________________________________________________________________\n",
            "block7_sepconv2_act (Activation)                 (None, None, None, 728)          0                 block7_sepconv1_bn[0][0]                          \n",
            "______________________________________________________________________________________________________________________________________________________\n",
            "block7_sepconv2 (SeparableConv2D)                (None, None, None, 728)          536536            block7_sepconv2_act[0][0]                         \n",
            "______________________________________________________________________________________________________________________________________________________\n",
            "block7_sepconv2_bn (BatchNormalization)          (None, None, None, 728)          2912              block7_sepconv2[0][0]                             \n",
            "______________________________________________________________________________________________________________________________________________________\n",
            "block7_sepconv3_act (Activation)                 (None, None, None, 728)          0                 block7_sepconv2_bn[0][0]                          \n",
            "______________________________________________________________________________________________________________________________________________________\n",
            "block7_sepconv3 (SeparableConv2D)                (None, None, None, 728)          536536            block7_sepconv3_act[0][0]                         \n",
            "______________________________________________________________________________________________________________________________________________________\n",
            "block7_sepconv3_bn (BatchNormalization)          (None, None, None, 728)          2912              block7_sepconv3[0][0]                             \n",
            "______________________________________________________________________________________________________________________________________________________\n",
            "add_6 (Add)                                      (None, None, None, 728)          0                 block7_sepconv3_bn[0][0]                          \n",
            "                                                                                                    add_5[0][0]                                       \n",
            "______________________________________________________________________________________________________________________________________________________\n",
            "block8_sepconv1_act (Activation)                 (None, None, None, 728)          0                 add_6[0][0]                                       \n",
            "______________________________________________________________________________________________________________________________________________________\n",
            "block8_sepconv1 (SeparableConv2D)                (None, None, None, 728)          536536            block8_sepconv1_act[0][0]                         \n",
            "______________________________________________________________________________________________________________________________________________________\n",
            "block8_sepconv1_bn (BatchNormalization)          (None, None, None, 728)          2912              block8_sepconv1[0][0]                             \n",
            "______________________________________________________________________________________________________________________________________________________\n",
            "block8_sepconv2_act (Activation)                 (None, None, None, 728)          0                 block8_sepconv1_bn[0][0]                          \n",
            "______________________________________________________________________________________________________________________________________________________\n",
            "block8_sepconv2 (SeparableConv2D)                (None, None, None, 728)          536536            block8_sepconv2_act[0][0]                         \n",
            "______________________________________________________________________________________________________________________________________________________\n",
            "block8_sepconv2_bn (BatchNormalization)          (None, None, None, 728)          2912              block8_sepconv2[0][0]                             \n",
            "______________________________________________________________________________________________________________________________________________________\n",
            "block8_sepconv3_act (Activation)                 (None, None, None, 728)          0                 block8_sepconv2_bn[0][0]                          \n",
            "______________________________________________________________________________________________________________________________________________________\n",
            "block8_sepconv3 (SeparableConv2D)                (None, None, None, 728)          536536            block8_sepconv3_act[0][0]                         \n",
            "______________________________________________________________________________________________________________________________________________________\n",
            "block8_sepconv3_bn (BatchNormalization)          (None, None, None, 728)          2912              block8_sepconv3[0][0]                             \n",
            "______________________________________________________________________________________________________________________________________________________\n",
            "add_7 (Add)                                      (None, None, None, 728)          0                 block8_sepconv3_bn[0][0]                          \n",
            "                                                                                                    add_6[0][0]                                       \n",
            "______________________________________________________________________________________________________________________________________________________\n",
            "block9_sepconv1_act (Activation)                 (None, None, None, 728)          0                 add_7[0][0]                                       \n",
            "______________________________________________________________________________________________________________________________________________________\n",
            "block9_sepconv1 (SeparableConv2D)                (None, None, None, 728)          536536            block9_sepconv1_act[0][0]                         \n",
            "______________________________________________________________________________________________________________________________________________________\n",
            "block9_sepconv1_bn (BatchNormalization)          (None, None, None, 728)          2912              block9_sepconv1[0][0]                             \n",
            "______________________________________________________________________________________________________________________________________________________\n",
            "block9_sepconv2_act (Activation)                 (None, None, None, 728)          0                 block9_sepconv1_bn[0][0]                          \n",
            "______________________________________________________________________________________________________________________________________________________\n",
            "block9_sepconv2 (SeparableConv2D)                (None, None, None, 728)          536536            block9_sepconv2_act[0][0]                         \n",
            "______________________________________________________________________________________________________________________________________________________\n",
            "block9_sepconv2_bn (BatchNormalization)          (None, None, None, 728)          2912              block9_sepconv2[0][0]                             \n",
            "______________________________________________________________________________________________________________________________________________________\n",
            "block9_sepconv3_act (Activation)                 (None, None, None, 728)          0                 block9_sepconv2_bn[0][0]                          \n",
            "______________________________________________________________________________________________________________________________________________________\n",
            "block9_sepconv3 (SeparableConv2D)                (None, None, None, 728)          536536            block9_sepconv3_act[0][0]                         \n",
            "______________________________________________________________________________________________________________________________________________________\n",
            "block9_sepconv3_bn (BatchNormalization)          (None, None, None, 728)          2912              block9_sepconv3[0][0]                             \n",
            "______________________________________________________________________________________________________________________________________________________\n",
            "add_8 (Add)                                      (None, None, None, 728)          0                 block9_sepconv3_bn[0][0]                          \n",
            "                                                                                                    add_7[0][0]                                       \n",
            "______________________________________________________________________________________________________________________________________________________\n",
            "block10_sepconv1_act (Activation)                (None, None, None, 728)          0                 add_8[0][0]                                       \n",
            "______________________________________________________________________________________________________________________________________________________\n",
            "block10_sepconv1 (SeparableConv2D)               (None, None, None, 728)          536536            block10_sepconv1_act[0][0]                        \n",
            "______________________________________________________________________________________________________________________________________________________\n",
            "block10_sepconv1_bn (BatchNormalization)         (None, None, None, 728)          2912              block10_sepconv1[0][0]                            \n",
            "______________________________________________________________________________________________________________________________________________________\n",
            "block10_sepconv2_act (Activation)                (None, None, None, 728)          0                 block10_sepconv1_bn[0][0]                         \n",
            "______________________________________________________________________________________________________________________________________________________\n",
            "block10_sepconv2 (SeparableConv2D)               (None, None, None, 728)          536536            block10_sepconv2_act[0][0]                        \n",
            "______________________________________________________________________________________________________________________________________________________\n",
            "block10_sepconv2_bn (BatchNormalization)         (None, None, None, 728)          2912              block10_sepconv2[0][0]                            \n",
            "______________________________________________________________________________________________________________________________________________________\n",
            "block10_sepconv3_act (Activation)                (None, None, None, 728)          0                 block10_sepconv2_bn[0][0]                         \n",
            "______________________________________________________________________________________________________________________________________________________\n",
            "block10_sepconv3 (SeparableConv2D)               (None, None, None, 728)          536536            block10_sepconv3_act[0][0]                        \n",
            "______________________________________________________________________________________________________________________________________________________\n",
            "block10_sepconv3_bn (BatchNormalization)         (None, None, None, 728)          2912              block10_sepconv3[0][0]                            \n",
            "______________________________________________________________________________________________________________________________________________________\n",
            "add_9 (Add)                                      (None, None, None, 728)          0                 block10_sepconv3_bn[0][0]                         \n",
            "                                                                                                    add_8[0][0]                                       \n",
            "______________________________________________________________________________________________________________________________________________________\n",
            "block11_sepconv1_act (Activation)                (None, None, None, 728)          0                 add_9[0][0]                                       \n",
            "______________________________________________________________________________________________________________________________________________________\n",
            "block11_sepconv1 (SeparableConv2D)               (None, None, None, 728)          536536            block11_sepconv1_act[0][0]                        \n",
            "______________________________________________________________________________________________________________________________________________________\n",
            "block11_sepconv1_bn (BatchNormalization)         (None, None, None, 728)          2912              block11_sepconv1[0][0]                            \n",
            "______________________________________________________________________________________________________________________________________________________\n",
            "block11_sepconv2_act (Activation)                (None, None, None, 728)          0                 block11_sepconv1_bn[0][0]                         \n",
            "______________________________________________________________________________________________________________________________________________________\n",
            "block11_sepconv2 (SeparableConv2D)               (None, None, None, 728)          536536            block11_sepconv2_act[0][0]                        \n",
            "______________________________________________________________________________________________________________________________________________________\n",
            "block11_sepconv2_bn (BatchNormalization)         (None, None, None, 728)          2912              block11_sepconv2[0][0]                            \n",
            "______________________________________________________________________________________________________________________________________________________\n",
            "block11_sepconv3_act (Activation)                (None, None, None, 728)          0                 block11_sepconv2_bn[0][0]                         \n",
            "______________________________________________________________________________________________________________________________________________________\n",
            "block11_sepconv3 (SeparableConv2D)               (None, None, None, 728)          536536            block11_sepconv3_act[0][0]                        \n",
            "______________________________________________________________________________________________________________________________________________________\n",
            "block11_sepconv3_bn (BatchNormalization)         (None, None, None, 728)          2912              block11_sepconv3[0][0]                            \n",
            "______________________________________________________________________________________________________________________________________________________\n",
            "add_10 (Add)                                     (None, None, None, 728)          0                 block11_sepconv3_bn[0][0]                         \n",
            "                                                                                                    add_9[0][0]                                       \n",
            "______________________________________________________________________________________________________________________________________________________\n",
            "block12_sepconv1_act (Activation)                (None, None, None, 728)          0                 add_10[0][0]                                      \n",
            "______________________________________________________________________________________________________________________________________________________\n",
            "block12_sepconv1 (SeparableConv2D)               (None, None, None, 728)          536536            block12_sepconv1_act[0][0]                        \n",
            "______________________________________________________________________________________________________________________________________________________\n",
            "block12_sepconv1_bn (BatchNormalization)         (None, None, None, 728)          2912              block12_sepconv1[0][0]                            \n",
            "______________________________________________________________________________________________________________________________________________________\n",
            "block12_sepconv2_act (Activation)                (None, None, None, 728)          0                 block12_sepconv1_bn[0][0]                         \n",
            "______________________________________________________________________________________________________________________________________________________\n",
            "block12_sepconv2 (SeparableConv2D)               (None, None, None, 728)          536536            block12_sepconv2_act[0][0]                        \n",
            "______________________________________________________________________________________________________________________________________________________\n",
            "block12_sepconv2_bn (BatchNormalization)         (None, None, None, 728)          2912              block12_sepconv2[0][0]                            \n",
            "______________________________________________________________________________________________________________________________________________________\n",
            "block12_sepconv3_act (Activation)                (None, None, None, 728)          0                 block12_sepconv2_bn[0][0]                         \n",
            "______________________________________________________________________________________________________________________________________________________\n",
            "block12_sepconv3 (SeparableConv2D)               (None, None, None, 728)          536536            block12_sepconv3_act[0][0]                        \n",
            "______________________________________________________________________________________________________________________________________________________\n",
            "block12_sepconv3_bn (BatchNormalization)         (None, None, None, 728)          2912              block12_sepconv3[0][0]                            \n",
            "______________________________________________________________________________________________________________________________________________________\n",
            "add_11 (Add)                                     (None, None, None, 728)          0                 block12_sepconv3_bn[0][0]                         \n",
            "                                                                                                    add_10[0][0]                                      \n",
            "______________________________________________________________________________________________________________________________________________________\n",
            "block13_sepconv1_act (Activation)                (None, None, None, 728)          0                 add_11[0][0]                                      \n",
            "______________________________________________________________________________________________________________________________________________________\n",
            "block13_sepconv1 (SeparableConv2D)               (None, None, None, 728)          536536            block13_sepconv1_act[0][0]                        \n",
            "______________________________________________________________________________________________________________________________________________________\n",
            "block13_sepconv1_bn (BatchNormalization)         (None, None, None, 728)          2912              block13_sepconv1[0][0]                            \n",
            "______________________________________________________________________________________________________________________________________________________\n",
            "block13_sepconv2_act (Activation)                (None, None, None, 728)          0                 block13_sepconv1_bn[0][0]                         \n",
            "______________________________________________________________________________________________________________________________________________________\n",
            "block13_sepconv2 (SeparableConv2D)               (None, None, None, 1024)         752024            block13_sepconv2_act[0][0]                        \n",
            "______________________________________________________________________________________________________________________________________________________\n",
            "block13_sepconv2_bn (BatchNormalization)         (None, None, None, 1024)         4096              block13_sepconv2[0][0]                            \n",
            "______________________________________________________________________________________________________________________________________________________\n",
            "conv2d_4 (Conv2D)                                (None, None, None, 1024)         745472            add_11[0][0]                                      \n",
            "______________________________________________________________________________________________________________________________________________________\n",
            "block13_pool (MaxPooling2D)                      (None, None, None, 1024)         0                 block13_sepconv2_bn[0][0]                         \n",
            "______________________________________________________________________________________________________________________________________________________\n",
            "batch_normalization_4 (BatchNormalization)       (None, None, None, 1024)         4096              conv2d_4[0][0]                                    \n",
            "______________________________________________________________________________________________________________________________________________________\n",
            "add_12 (Add)                                     (None, None, None, 1024)         0                 block13_pool[0][0]                                \n",
            "                                                                                                    batch_normalization_4[0][0]                       \n",
            "______________________________________________________________________________________________________________________________________________________\n",
            "block14_sepconv1 (SeparableConv2D)               (None, None, None, 1536)         1582080           add_12[0][0]                                      \n",
            "______________________________________________________________________________________________________________________________________________________\n",
            "block14_sepconv1_bn (BatchNormalization)         (None, None, None, 1536)         6144              block14_sepconv1[0][0]                            \n",
            "______________________________________________________________________________________________________________________________________________________\n",
            "block14_sepconv1_act (Activation)                (None, None, None, 1536)         0                 block14_sepconv1_bn[0][0]                         \n",
            "______________________________________________________________________________________________________________________________________________________\n",
            "block14_sepconv2 (SeparableConv2D)               (None, None, None, 2048)         3159552           block14_sepconv1_act[0][0]                        \n",
            "______________________________________________________________________________________________________________________________________________________\n",
            "block14_sepconv2_bn (BatchNormalization)         (None, None, None, 2048)         8192              block14_sepconv2[0][0]                            \n",
            "______________________________________________________________________________________________________________________________________________________\n",
            "block14_sepconv2_act (Activation)                (None, None, None, 2048)         0                 block14_sepconv2_bn[0][0]                         \n",
            "______________________________________________________________________________________________________________________________________________________\n",
            "global_average_pooling2d_2 (GlobalAveragePooling (None, 2048)                     0                 block14_sepconv2_act[0][0]                        \n",
            "______________________________________________________________________________________________________________________________________________________\n",
            "dense_3 (Dense)                                  (None, 256)                      524544            global_average_pooling2d_2[0][0]                  \n",
            "______________________________________________________________________________________________________________________________________________________\n",
            "dense_4 (Dense)                                  (None, 50)                       12850             dense_3[0][0]                                     \n",
            "======================================================================================================================================================\n",
            "Total params: 21,398,874\n",
            "Trainable params: 537,394\n",
            "Non-trainable params: 20,861,480\n",
            "______________________________________________________________________________________________________________________________________________________\n"
          ],
          "name": "stdout"
        }
      ]
    },
    {
      "metadata": {
        "id": "9NkD9irbfuFY",
        "colab_type": "code",
        "colab": {}
      },
      "cell_type": "code",
      "source": [
        "for layer in base_model.layers:\n",
        "  layer.trainable = False"
      ],
      "execution_count": 0,
      "outputs": []
    },
    {
      "metadata": {
        "id": "P8xu4ryff31x",
        "colab_type": "code",
        "colab": {}
      },
      "cell_type": "code",
      "source": [
        "model.compile(optimizer='adam', loss='categorical_crossentropy', metrics=['accuracy'])"
      ],
      "execution_count": 0,
      "outputs": []
    },
    {
      "metadata": {
        "id": "dee3aVtCgO0R",
        "colab_type": "code",
        "colab": {
          "base_uri": "https://localhost:8080/",
          "height": 391
        },
        "outputId": "39bcc0c7-45b1-4874-a4c2-3fae6af6798c"
      },
      "cell_type": "code",
      "source": [
        "model.fit(X_train, y_train, batch_size=128, epochs=10, validation_data=(X_test, y_test))"
      ],
      "execution_count": 23,
      "outputs": [
        {
          "output_type": "stream",
          "text": [
            "Train on 2000 samples, validate on 500 samples\n",
            "Epoch 1/10\n",
            "2000/2000 [==============================] - 62s 31ms/step - loss: 3.0463 - acc: 0.3065 - val_loss: 2.1976 - val_acc: 0.4780\n",
            "Epoch 2/10\n",
            "2000/2000 [==============================] - 45s 22ms/step - loss: 1.4358 - acc: 0.6375 - val_loss: 1.3964 - val_acc: 0.6200\n",
            "Epoch 3/10\n",
            "2000/2000 [==============================] - 45s 22ms/step - loss: 0.9122 - acc: 0.7385 - val_loss: 1.1972 - val_acc: 0.6460\n",
            "Epoch 4/10\n",
            "2000/2000 [==============================] - 45s 22ms/step - loss: 0.6786 - acc: 0.8065 - val_loss: 1.0720 - val_acc: 0.6620\n",
            "Epoch 5/10\n",
            "2000/2000 [==============================] - 45s 22ms/step - loss: 0.5393 - acc: 0.8505 - val_loss: 1.0169 - val_acc: 0.6900\n",
            "Epoch 6/10\n",
            "2000/2000 [==============================] - 45s 22ms/step - loss: 0.4459 - acc: 0.8845 - val_loss: 0.9534 - val_acc: 0.6980\n",
            "Epoch 7/10\n",
            "2000/2000 [==============================] - 45s 22ms/step - loss: 0.3749 - acc: 0.9075 - val_loss: 0.9220 - val_acc: 0.7040\n",
            "Epoch 8/10\n",
            "2000/2000 [==============================] - 45s 22ms/step - loss: 0.3251 - acc: 0.9185 - val_loss: 0.9325 - val_acc: 0.7000\n",
            "Epoch 9/10\n",
            "2000/2000 [==============================] - 45s 22ms/step - loss: 0.2767 - acc: 0.9440 - val_loss: 0.8749 - val_acc: 0.7460\n",
            "Epoch 10/10\n",
            "2000/2000 [==============================] - 45s 22ms/step - loss: 0.2445 - acc: 0.9555 - val_loss: 0.8984 - val_acc: 0.6880\n"
          ],
          "name": "stdout"
        },
        {
          "output_type": "execute_result",
          "data": {
            "text/plain": [
              "<keras.callbacks.History at 0x7f5c95430be0>"
            ]
          },
          "metadata": {
            "tags": []
          },
          "execution_count": 23
        }
      ]
    },
    {
      "metadata": {
        "id": "LXMbZvKQkrKi",
        "colab_type": "code",
        "colab": {
          "base_uri": "https://localhost:8080/",
          "height": 2312
        },
        "outputId": "e8627c0f-1f1a-4783-fd80-6d43e6574e1c"
      },
      "cell_type": "code",
      "source": [
        "for i, layer in enumerate(model.layers):\n",
        "   print(i, layer.name, layer.trainable)"
      ],
      "execution_count": 24,
      "outputs": [
        {
          "output_type": "stream",
          "text": [
            "0 input_1 False\n",
            "1 block1_conv1 False\n",
            "2 block1_conv1_bn False\n",
            "3 block1_conv1_act False\n",
            "4 block1_conv2 False\n",
            "5 block1_conv2_bn False\n",
            "6 block1_conv2_act False\n",
            "7 block2_sepconv1 False\n",
            "8 block2_sepconv1_bn False\n",
            "9 block2_sepconv2_act False\n",
            "10 block2_sepconv2 False\n",
            "11 block2_sepconv2_bn False\n",
            "12 conv2d_1 False\n",
            "13 block2_pool False\n",
            "14 batch_normalization_1 False\n",
            "15 add_1 False\n",
            "16 block3_sepconv1_act False\n",
            "17 block3_sepconv1 False\n",
            "18 block3_sepconv1_bn False\n",
            "19 block3_sepconv2_act False\n",
            "20 block3_sepconv2 False\n",
            "21 block3_sepconv2_bn False\n",
            "22 conv2d_2 False\n",
            "23 block3_pool False\n",
            "24 batch_normalization_2 False\n",
            "25 add_2 False\n",
            "26 block4_sepconv1_act False\n",
            "27 block4_sepconv1 False\n",
            "28 block4_sepconv1_bn False\n",
            "29 block4_sepconv2_act False\n",
            "30 block4_sepconv2 False\n",
            "31 block4_sepconv2_bn False\n",
            "32 conv2d_3 False\n",
            "33 block4_pool False\n",
            "34 batch_normalization_3 False\n",
            "35 add_3 False\n",
            "36 block5_sepconv1_act False\n",
            "37 block5_sepconv1 False\n",
            "38 block5_sepconv1_bn False\n",
            "39 block5_sepconv2_act False\n",
            "40 block5_sepconv2 False\n",
            "41 block5_sepconv2_bn False\n",
            "42 block5_sepconv3_act False\n",
            "43 block5_sepconv3 False\n",
            "44 block5_sepconv3_bn False\n",
            "45 add_4 False\n",
            "46 block6_sepconv1_act False\n",
            "47 block6_sepconv1 False\n",
            "48 block6_sepconv1_bn False\n",
            "49 block6_sepconv2_act False\n",
            "50 block6_sepconv2 False\n",
            "51 block6_sepconv2_bn False\n",
            "52 block6_sepconv3_act False\n",
            "53 block6_sepconv3 False\n",
            "54 block6_sepconv3_bn False\n",
            "55 add_5 False\n",
            "56 block7_sepconv1_act False\n",
            "57 block7_sepconv1 False\n",
            "58 block7_sepconv1_bn False\n",
            "59 block7_sepconv2_act False\n",
            "60 block7_sepconv2 False\n",
            "61 block7_sepconv2_bn False\n",
            "62 block7_sepconv3_act False\n",
            "63 block7_sepconv3 False\n",
            "64 block7_sepconv3_bn False\n",
            "65 add_6 False\n",
            "66 block8_sepconv1_act False\n",
            "67 block8_sepconv1 False\n",
            "68 block8_sepconv1_bn False\n",
            "69 block8_sepconv2_act False\n",
            "70 block8_sepconv2 False\n",
            "71 block8_sepconv2_bn False\n",
            "72 block8_sepconv3_act False\n",
            "73 block8_sepconv3 False\n",
            "74 block8_sepconv3_bn False\n",
            "75 add_7 False\n",
            "76 block9_sepconv1_act False\n",
            "77 block9_sepconv1 False\n",
            "78 block9_sepconv1_bn False\n",
            "79 block9_sepconv2_act False\n",
            "80 block9_sepconv2 False\n",
            "81 block9_sepconv2_bn False\n",
            "82 block9_sepconv3_act False\n",
            "83 block9_sepconv3 False\n",
            "84 block9_sepconv3_bn False\n",
            "85 add_8 False\n",
            "86 block10_sepconv1_act False\n",
            "87 block10_sepconv1 False\n",
            "88 block10_sepconv1_bn False\n",
            "89 block10_sepconv2_act False\n",
            "90 block10_sepconv2 False\n",
            "91 block10_sepconv2_bn False\n",
            "92 block10_sepconv3_act False\n",
            "93 block10_sepconv3 False\n",
            "94 block10_sepconv3_bn False\n",
            "95 add_9 False\n",
            "96 block11_sepconv1_act False\n",
            "97 block11_sepconv1 False\n",
            "98 block11_sepconv1_bn False\n",
            "99 block11_sepconv2_act False\n",
            "100 block11_sepconv2 False\n",
            "101 block11_sepconv2_bn False\n",
            "102 block11_sepconv3_act False\n",
            "103 block11_sepconv3 False\n",
            "104 block11_sepconv3_bn False\n",
            "105 add_10 False\n",
            "106 block12_sepconv1_act False\n",
            "107 block12_sepconv1 False\n",
            "108 block12_sepconv1_bn False\n",
            "109 block12_sepconv2_act False\n",
            "110 block12_sepconv2 False\n",
            "111 block12_sepconv2_bn False\n",
            "112 block12_sepconv3_act False\n",
            "113 block12_sepconv3 False\n",
            "114 block12_sepconv3_bn False\n",
            "115 add_11 False\n",
            "116 block13_sepconv1_act False\n",
            "117 block13_sepconv1 False\n",
            "118 block13_sepconv1_bn False\n",
            "119 block13_sepconv2_act False\n",
            "120 block13_sepconv2 False\n",
            "121 block13_sepconv2_bn False\n",
            "122 conv2d_4 False\n",
            "123 block13_pool False\n",
            "124 batch_normalization_4 False\n",
            "125 add_12 False\n",
            "126 block14_sepconv1 False\n",
            "127 block14_sepconv1_bn False\n",
            "128 block14_sepconv1_act False\n",
            "129 block14_sepconv2 False\n",
            "130 block14_sepconv2_bn False\n",
            "131 block14_sepconv2_act False\n",
            "132 global_average_pooling2d_2 True\n",
            "133 dense_3 True\n",
            "134 dense_4 True\n"
          ],
          "name": "stdout"
        }
      ]
    },
    {
      "metadata": {
        "id": "RJzp7IvHlv5j",
        "colab_type": "code",
        "colab": {}
      },
      "cell_type": "code",
      "source": [
        "for layer in model.layers[:126]:\n",
        "  layer.trainable = False\n",
        "for layer in model.layers[126:]:\n",
        "  layer.trainable = True"
      ],
      "execution_count": 0,
      "outputs": []
    },
    {
      "metadata": {
        "id": "Ln_bidjCl_0H",
        "colab_type": "code",
        "colab": {}
      },
      "cell_type": "code",
      "source": [
        "model.compile(optimizer='adam', loss='categorical_crossentropy', metrics=['accuracy'])"
      ],
      "execution_count": 0,
      "outputs": []
    },
    {
      "metadata": {
        "id": "ycG1CnJNmGb-",
        "colab_type": "code",
        "colab": {
          "base_uri": "https://localhost:8080/",
          "height": 1731
        },
        "outputId": "c924e99f-50d0-455b-e5a1-8fe5c56aceb6"
      },
      "cell_type": "code",
      "source": [
        "model.fit(X_train, y_train, batch_size=128, epochs=50, validation_data=(X_test, y_test))"
      ],
      "execution_count": 28,
      "outputs": [
        {
          "output_type": "stream",
          "text": [
            "Train on 2000 samples, validate on 500 samples\n",
            "Epoch 1/50\n",
            "2000/2000 [==============================] - 51s 26ms/step - loss: 0.4009 - acc: 0.8720 - val_loss: 0.8352 - val_acc: 0.7400\n",
            "Epoch 2/50\n",
            "2000/2000 [==============================] - 48s 24ms/step - loss: 0.1148 - acc: 0.9700 - val_loss: 0.7501 - val_acc: 0.7720\n",
            "Epoch 3/50\n",
            "2000/2000 [==============================] - 47s 24ms/step - loss: 0.0407 - acc: 0.9910 - val_loss: 0.8405 - val_acc: 0.7560\n",
            "Epoch 4/50\n",
            "2000/2000 [==============================] - 47s 24ms/step - loss: 0.0198 - acc: 0.9945 - val_loss: 0.7249 - val_acc: 0.7820\n",
            "Epoch 5/50\n",
            "2000/2000 [==============================] - 48s 24ms/step - loss: 0.0090 - acc: 0.9985 - val_loss: 0.7364 - val_acc: 0.7800\n",
            "Epoch 6/50\n",
            "2000/2000 [==============================] - 48s 24ms/step - loss: 0.0043 - acc: 0.9995 - val_loss: 0.7204 - val_acc: 0.7700\n",
            "Epoch 7/50\n",
            "2000/2000 [==============================] - 47s 24ms/step - loss: 0.0021 - acc: 0.9995 - val_loss: 0.7032 - val_acc: 0.7940\n",
            "Epoch 8/50\n",
            "2000/2000 [==============================] - 47s 24ms/step - loss: 0.0012 - acc: 1.0000 - val_loss: 0.7017 - val_acc: 0.7880\n",
            "Epoch 9/50\n",
            "2000/2000 [==============================] - 48s 24ms/step - loss: 8.7370e-04 - acc: 1.0000 - val_loss: 0.7014 - val_acc: 0.7900\n",
            "Epoch 10/50\n",
            "2000/2000 [==============================] - 47s 24ms/step - loss: 7.2685e-04 - acc: 1.0000 - val_loss: 0.6998 - val_acc: 0.7960\n",
            "Epoch 11/50\n",
            "2000/2000 [==============================] - 47s 24ms/step - loss: 6.2528e-04 - acc: 1.0000 - val_loss: 0.6974 - val_acc: 0.8000\n",
            "Epoch 12/50\n",
            "2000/2000 [==============================] - 47s 24ms/step - loss: 6.0361e-04 - acc: 1.0000 - val_loss: 0.6961 - val_acc: 0.8000\n",
            "Epoch 13/50\n",
            "2000/2000 [==============================] - 47s 24ms/step - loss: 5.2633e-04 - acc: 1.0000 - val_loss: 0.6952 - val_acc: 0.8000\n",
            "Epoch 14/50\n",
            "2000/2000 [==============================] - 48s 24ms/step - loss: 4.8676e-04 - acc: 1.0000 - val_loss: 0.6922 - val_acc: 0.8000\n",
            "Epoch 15/50\n",
            "2000/2000 [==============================] - 48s 24ms/step - loss: 4.1954e-04 - acc: 1.0000 - val_loss: 0.6941 - val_acc: 0.8000\n",
            "Epoch 16/50\n",
            "2000/2000 [==============================] - 48s 24ms/step - loss: 3.8019e-04 - acc: 1.0000 - val_loss: 0.6947 - val_acc: 0.8040\n",
            "Epoch 17/50\n",
            "2000/2000 [==============================] - 48s 24ms/step - loss: 3.8438e-04 - acc: 1.0000 - val_loss: 0.6939 - val_acc: 0.8060\n",
            "Epoch 18/50\n",
            "2000/2000 [==============================] - 48s 24ms/step - loss: 3.3971e-04 - acc: 1.0000 - val_loss: 0.6951 - val_acc: 0.8040\n",
            "Epoch 19/50\n",
            "2000/2000 [==============================] - 48s 24ms/step - loss: 3.0364e-04 - acc: 1.0000 - val_loss: 0.6970 - val_acc: 0.8020\n",
            "Epoch 20/50\n",
            "2000/2000 [==============================] - 48s 24ms/step - loss: 2.9431e-04 - acc: 1.0000 - val_loss: 0.6988 - val_acc: 0.8040\n",
            "Epoch 21/50\n",
            "2000/2000 [==============================] - 47s 24ms/step - loss: 2.7722e-04 - acc: 1.0000 - val_loss: 0.7008 - val_acc: 0.8060\n",
            "Epoch 22/50\n",
            "2000/2000 [==============================] - 47s 24ms/step - loss: 2.4970e-04 - acc: 1.0000 - val_loss: 0.6991 - val_acc: 0.8040\n",
            "Epoch 23/50\n",
            "2000/2000 [==============================] - 48s 24ms/step - loss: 2.2191e-04 - acc: 1.0000 - val_loss: 0.7002 - val_acc: 0.8080\n",
            "Epoch 24/50\n",
            "1920/2000 [===========================>..] - ETA: 1s - loss: 2.1678e-04 - acc: 1.0000"
          ],
          "name": "stdout"
        },
        {
          "output_type": "error",
          "ename": "KeyboardInterrupt",
          "evalue": "ignored",
          "traceback": [
            "\u001b[0;31m---------------------------------------------------------------------------\u001b[0m",
            "\u001b[0;31mKeyboardInterrupt\u001b[0m                         Traceback (most recent call last)",
            "\u001b[0;32m<ipython-input-28-dbe2d556bf3a>\u001b[0m in \u001b[0;36m<module>\u001b[0;34m()\u001b[0m\n\u001b[0;32m----> 1\u001b[0;31m \u001b[0mmodel\u001b[0m\u001b[0;34m.\u001b[0m\u001b[0mfit\u001b[0m\u001b[0;34m(\u001b[0m\u001b[0mX_train\u001b[0m\u001b[0;34m,\u001b[0m \u001b[0my_train\u001b[0m\u001b[0;34m,\u001b[0m \u001b[0mbatch_size\u001b[0m\u001b[0;34m=\u001b[0m\u001b[0;36m128\u001b[0m\u001b[0;34m,\u001b[0m \u001b[0mepochs\u001b[0m\u001b[0;34m=\u001b[0m\u001b[0;36m50\u001b[0m\u001b[0;34m,\u001b[0m \u001b[0mvalidation_data\u001b[0m\u001b[0;34m=\u001b[0m\u001b[0;34m(\u001b[0m\u001b[0mX_test\u001b[0m\u001b[0;34m,\u001b[0m \u001b[0my_test\u001b[0m\u001b[0;34m)\u001b[0m\u001b[0;34m)\u001b[0m\u001b[0;34m\u001b[0m\u001b[0m\n\u001b[0m",
            "\u001b[0;32m/usr/local/lib/python3.6/dist-packages/keras/engine/training.py\u001b[0m in \u001b[0;36mfit\u001b[0;34m(self, x, y, batch_size, epochs, verbose, callbacks, validation_split, validation_data, shuffle, class_weight, sample_weight, initial_epoch, steps_per_epoch, validation_steps, **kwargs)\u001b[0m\n\u001b[1;32m   1037\u001b[0m                                         \u001b[0minitial_epoch\u001b[0m\u001b[0;34m=\u001b[0m\u001b[0minitial_epoch\u001b[0m\u001b[0;34m,\u001b[0m\u001b[0;34m\u001b[0m\u001b[0m\n\u001b[1;32m   1038\u001b[0m                                         \u001b[0msteps_per_epoch\u001b[0m\u001b[0;34m=\u001b[0m\u001b[0msteps_per_epoch\u001b[0m\u001b[0;34m,\u001b[0m\u001b[0;34m\u001b[0m\u001b[0m\n\u001b[0;32m-> 1039\u001b[0;31m                                         validation_steps=validation_steps)\n\u001b[0m\u001b[1;32m   1040\u001b[0m \u001b[0;34m\u001b[0m\u001b[0m\n\u001b[1;32m   1041\u001b[0m     def evaluate(self, x=None, y=None,\n",
            "\u001b[0;32m/usr/local/lib/python3.6/dist-packages/keras/engine/training_arrays.py\u001b[0m in \u001b[0;36mfit_loop\u001b[0;34m(model, f, ins, out_labels, batch_size, epochs, verbose, callbacks, val_f, val_ins, shuffle, callback_metrics, initial_epoch, steps_per_epoch, validation_steps)\u001b[0m\n\u001b[1;32m    210\u001b[0m                         val_outs = test_loop(model, val_f, val_ins,\n\u001b[1;32m    211\u001b[0m                                              \u001b[0mbatch_size\u001b[0m\u001b[0;34m=\u001b[0m\u001b[0mbatch_size\u001b[0m\u001b[0;34m,\u001b[0m\u001b[0;34m\u001b[0m\u001b[0m\n\u001b[0;32m--> 212\u001b[0;31m                                              verbose=0)\n\u001b[0m\u001b[1;32m    213\u001b[0m                         \u001b[0mval_outs\u001b[0m \u001b[0;34m=\u001b[0m \u001b[0mto_list\u001b[0m\u001b[0;34m(\u001b[0m\u001b[0mval_outs\u001b[0m\u001b[0;34m)\u001b[0m\u001b[0;34m\u001b[0m\u001b[0m\n\u001b[1;32m    214\u001b[0m                         \u001b[0;31m# Same labels assumed.\u001b[0m\u001b[0;34m\u001b[0m\u001b[0;34m\u001b[0m\u001b[0m\n",
            "\u001b[0;32m/usr/local/lib/python3.6/dist-packages/keras/engine/training_arrays.py\u001b[0m in \u001b[0;36mtest_loop\u001b[0;34m(model, f, ins, batch_size, verbose, steps)\u001b[0m\n\u001b[1;32m    390\u001b[0m                 \u001b[0mins_batch\u001b[0m\u001b[0;34m[\u001b[0m\u001b[0mi\u001b[0m\u001b[0;34m]\u001b[0m \u001b[0;34m=\u001b[0m \u001b[0mins_batch\u001b[0m\u001b[0;34m[\u001b[0m\u001b[0mi\u001b[0m\u001b[0;34m]\u001b[0m\u001b[0;34m.\u001b[0m\u001b[0mtoarray\u001b[0m\u001b[0;34m(\u001b[0m\u001b[0;34m)\u001b[0m\u001b[0;34m\u001b[0m\u001b[0m\n\u001b[1;32m    391\u001b[0m \u001b[0;34m\u001b[0m\u001b[0m\n\u001b[0;32m--> 392\u001b[0;31m             \u001b[0mbatch_outs\u001b[0m \u001b[0;34m=\u001b[0m \u001b[0mf\u001b[0m\u001b[0;34m(\u001b[0m\u001b[0mins_batch\u001b[0m\u001b[0;34m)\u001b[0m\u001b[0;34m\u001b[0m\u001b[0m\n\u001b[0m\u001b[1;32m    393\u001b[0m             \u001b[0;32mif\u001b[0m \u001b[0misinstance\u001b[0m\u001b[0;34m(\u001b[0m\u001b[0mbatch_outs\u001b[0m\u001b[0;34m,\u001b[0m \u001b[0mlist\u001b[0m\u001b[0;34m)\u001b[0m\u001b[0;34m:\u001b[0m\u001b[0;34m\u001b[0m\u001b[0m\n\u001b[1;32m    394\u001b[0m                 \u001b[0;32mif\u001b[0m \u001b[0mbatch_index\u001b[0m \u001b[0;34m==\u001b[0m \u001b[0;36m0\u001b[0m\u001b[0;34m:\u001b[0m\u001b[0;34m\u001b[0m\u001b[0m\n",
            "\u001b[0;32m/usr/local/lib/python3.6/dist-packages/keras/backend/tensorflow_backend.py\u001b[0m in \u001b[0;36m__call__\u001b[0;34m(self, inputs)\u001b[0m\n\u001b[1;32m   2713\u001b[0m                 \u001b[0;32mreturn\u001b[0m \u001b[0mself\u001b[0m\u001b[0;34m.\u001b[0m\u001b[0m_legacy_call\u001b[0m\u001b[0;34m(\u001b[0m\u001b[0minputs\u001b[0m\u001b[0;34m)\u001b[0m\u001b[0;34m\u001b[0m\u001b[0m\n\u001b[1;32m   2714\u001b[0m \u001b[0;34m\u001b[0m\u001b[0m\n\u001b[0;32m-> 2715\u001b[0;31m             \u001b[0;32mreturn\u001b[0m \u001b[0mself\u001b[0m\u001b[0;34m.\u001b[0m\u001b[0m_call\u001b[0m\u001b[0;34m(\u001b[0m\u001b[0minputs\u001b[0m\u001b[0;34m)\u001b[0m\u001b[0;34m\u001b[0m\u001b[0m\n\u001b[0m\u001b[1;32m   2716\u001b[0m         \u001b[0;32melse\u001b[0m\u001b[0;34m:\u001b[0m\u001b[0;34m\u001b[0m\u001b[0m\n\u001b[1;32m   2717\u001b[0m             \u001b[0;32mif\u001b[0m \u001b[0mpy_any\u001b[0m\u001b[0;34m(\u001b[0m\u001b[0mis_tensor\u001b[0m\u001b[0;34m(\u001b[0m\u001b[0mx\u001b[0m\u001b[0;34m)\u001b[0m \u001b[0;32mfor\u001b[0m \u001b[0mx\u001b[0m \u001b[0;32min\u001b[0m \u001b[0minputs\u001b[0m\u001b[0;34m)\u001b[0m\u001b[0;34m:\u001b[0m\u001b[0;34m\u001b[0m\u001b[0m\n",
            "\u001b[0;32m/usr/local/lib/python3.6/dist-packages/keras/backend/tensorflow_backend.py\u001b[0m in \u001b[0;36m_call\u001b[0;34m(self, inputs)\u001b[0m\n\u001b[1;32m   2673\u001b[0m             \u001b[0mfetched\u001b[0m \u001b[0;34m=\u001b[0m \u001b[0mself\u001b[0m\u001b[0;34m.\u001b[0m\u001b[0m_callable_fn\u001b[0m\u001b[0;34m(\u001b[0m\u001b[0;34m*\u001b[0m\u001b[0marray_vals\u001b[0m\u001b[0;34m,\u001b[0m \u001b[0mrun_metadata\u001b[0m\u001b[0;34m=\u001b[0m\u001b[0mself\u001b[0m\u001b[0;34m.\u001b[0m\u001b[0mrun_metadata\u001b[0m\u001b[0;34m)\u001b[0m\u001b[0;34m\u001b[0m\u001b[0m\n\u001b[1;32m   2674\u001b[0m         \u001b[0;32melse\u001b[0m\u001b[0;34m:\u001b[0m\u001b[0;34m\u001b[0m\u001b[0m\n\u001b[0;32m-> 2675\u001b[0;31m             \u001b[0mfetched\u001b[0m \u001b[0;34m=\u001b[0m \u001b[0mself\u001b[0m\u001b[0;34m.\u001b[0m\u001b[0m_callable_fn\u001b[0m\u001b[0;34m(\u001b[0m\u001b[0;34m*\u001b[0m\u001b[0marray_vals\u001b[0m\u001b[0;34m)\u001b[0m\u001b[0;34m\u001b[0m\u001b[0m\n\u001b[0m\u001b[1;32m   2676\u001b[0m         \u001b[0;32mreturn\u001b[0m \u001b[0mfetched\u001b[0m\u001b[0;34m[\u001b[0m\u001b[0;34m:\u001b[0m\u001b[0mlen\u001b[0m\u001b[0;34m(\u001b[0m\u001b[0mself\u001b[0m\u001b[0;34m.\u001b[0m\u001b[0moutputs\u001b[0m\u001b[0;34m)\u001b[0m\u001b[0;34m]\u001b[0m\u001b[0;34m\u001b[0m\u001b[0m\n\u001b[1;32m   2677\u001b[0m \u001b[0;34m\u001b[0m\u001b[0m\n",
            "\u001b[0;32m/usr/local/lib/python3.6/dist-packages/tensorflow/python/client/session.py\u001b[0m in \u001b[0;36m__call__\u001b[0;34m(self, *args, **kwargs)\u001b[0m\n\u001b[1;32m   1437\u001b[0m           ret = tf_session.TF_SessionRunCallable(\n\u001b[1;32m   1438\u001b[0m               \u001b[0mself\u001b[0m\u001b[0;34m.\u001b[0m\u001b[0m_session\u001b[0m\u001b[0;34m.\u001b[0m\u001b[0m_session\u001b[0m\u001b[0;34m,\u001b[0m \u001b[0mself\u001b[0m\u001b[0;34m.\u001b[0m\u001b[0m_handle\u001b[0m\u001b[0;34m,\u001b[0m \u001b[0margs\u001b[0m\u001b[0;34m,\u001b[0m \u001b[0mstatus\u001b[0m\u001b[0;34m,\u001b[0m\u001b[0;34m\u001b[0m\u001b[0m\n\u001b[0;32m-> 1439\u001b[0;31m               run_metadata_ptr)\n\u001b[0m\u001b[1;32m   1440\u001b[0m         \u001b[0;32mif\u001b[0m \u001b[0mrun_metadata\u001b[0m\u001b[0;34m:\u001b[0m\u001b[0;34m\u001b[0m\u001b[0m\n\u001b[1;32m   1441\u001b[0m           \u001b[0mproto_data\u001b[0m \u001b[0;34m=\u001b[0m \u001b[0mtf_session\u001b[0m\u001b[0;34m.\u001b[0m\u001b[0mTF_GetBuffer\u001b[0m\u001b[0;34m(\u001b[0m\u001b[0mrun_metadata_ptr\u001b[0m\u001b[0;34m)\u001b[0m\u001b[0;34m\u001b[0m\u001b[0m\n",
            "\u001b[0;31mKeyboardInterrupt\u001b[0m: "
          ]
        }
      ]
    },
    {
      "metadata": {
        "id": "fCB1dFYuqqdo",
        "colab_type": "code",
        "colab": {}
      },
      "cell_type": "code",
      "source": [
        "model.save(PATH + 'first_Xception.hdf5')"
      ],
      "execution_count": 0,
      "outputs": []
    }
  ]
}