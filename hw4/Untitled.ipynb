{
 "cells": [
  {
   "cell_type": "code",
   "execution_count": 1,
   "metadata": {},
   "outputs": [],
   "source": [
    "import numpy as np\n",
    "import pandas as pd\n",
    "import matplotlib.pyplot as plt\n",
    "%matplotlib inline"
   ]
  },
  {
   "cell_type": "code",
   "execution_count": 9,
   "metadata": {},
   "outputs": [
    {
     "name": "stdout",
     "output_type": "stream",
     "text": [
      "Requirement already satisfied: keras in /home/ya_philya/anaconda3/lib/python3.6/site-packages (2.2.4)\n",
      "Requirement already satisfied: scipy>=0.14 in /home/ya_philya/anaconda3/lib/python3.6/site-packages (from keras) (1.0.1)\n",
      "Requirement already satisfied: pyyaml in /home/ya_philya/anaconda3/lib/python3.6/site-packages (from keras) (3.12)\n",
      "Requirement already satisfied: keras-applications>=1.0.6 in /home/ya_philya/anaconda3/lib/python3.6/site-packages (from keras) (1.0.6)\n",
      "Requirement already satisfied: six>=1.9.0 in /home/ya_philya/anaconda3/lib/python3.6/site-packages (from keras) (1.11.0)\n",
      "Requirement already satisfied: keras-preprocessing>=1.0.5 in /home/ya_philya/anaconda3/lib/python3.6/site-packages (from keras) (1.0.5)\n",
      "Requirement already satisfied: h5py in /home/ya_philya/anaconda3/lib/python3.6/site-packages (from keras) (2.7.1)\n",
      "Requirement already satisfied: numpy>=1.9.1 in /home/ya_philya/anaconda3/lib/python3.6/site-packages (from keras) (1.14.2)\n"
     ]
    }
   ],
   "source": [
    "!pip install keras"
   ]
  },
  {
   "cell_type": "code",
   "execution_count": 10,
   "metadata": {},
   "outputs": [],
   "source": [
    "import keras\n",
    "import keras.layers as L"
   ]
  },
  {
   "cell_type": "code",
   "execution_count": 11,
   "metadata": {},
   "outputs": [
    {
     "data": {
      "text/html": [
       "<div>\n",
       "<style scoped>\n",
       "    .dataframe tbody tr th:only-of-type {\n",
       "        vertical-align: middle;\n",
       "    }\n",
       "\n",
       "    .dataframe tbody tr th {\n",
       "        vertical-align: top;\n",
       "    }\n",
       "\n",
       "    .dataframe thead th {\n",
       "        text-align: right;\n",
       "    }\n",
       "</style>\n",
       "<table border=\"1\" class=\"dataframe\">\n",
       "  <thead>\n",
       "    <tr style=\"text-align: right;\">\n",
       "      <th></th>\n",
       "      <th>filename</th>\n",
       "      <th>x1</th>\n",
       "      <th>y1</th>\n",
       "      <th>x2</th>\n",
       "      <th>y2</th>\n",
       "      <th>x3</th>\n",
       "      <th>y3</th>\n",
       "      <th>x4</th>\n",
       "      <th>y4</th>\n",
       "      <th>x5</th>\n",
       "      <th>...</th>\n",
       "      <th>x10</th>\n",
       "      <th>y10</th>\n",
       "      <th>x11</th>\n",
       "      <th>y11</th>\n",
       "      <th>x12</th>\n",
       "      <th>y12</th>\n",
       "      <th>x13</th>\n",
       "      <th>y13</th>\n",
       "      <th>x14</th>\n",
       "      <th>y14</th>\n",
       "    </tr>\n",
       "  </thead>\n",
       "  <tbody>\n",
       "    <tr>\n",
       "      <th>0</th>\n",
       "      <td>00000.jpg</td>\n",
       "      <td>51</td>\n",
       "      <td>51</td>\n",
       "      <td>127</td>\n",
       "      <td>60</td>\n",
       "      <td>169</td>\n",
       "      <td>65</td>\n",
       "      <td>203</td>\n",
       "      <td>52</td>\n",
       "      <td>68</td>\n",
       "      <td>...</td>\n",
       "      <td>193</td>\n",
       "      <td>84</td>\n",
       "      <td>156</td>\n",
       "      <td>144</td>\n",
       "      <td>92</td>\n",
       "      <td>174</td>\n",
       "      <td>140</td>\n",
       "      <td>180</td>\n",
       "      <td>168</td>\n",
       "      <td>179</td>\n",
       "    </tr>\n",
       "    <tr>\n",
       "      <th>1</th>\n",
       "      <td>00001.jpg</td>\n",
       "      <td>21</td>\n",
       "      <td>20</td>\n",
       "      <td>36</td>\n",
       "      <td>18</td>\n",
       "      <td>57</td>\n",
       "      <td>19</td>\n",
       "      <td>80</td>\n",
       "      <td>25</td>\n",
       "      <td>23</td>\n",
       "      <td>...</td>\n",
       "      <td>78</td>\n",
       "      <td>33</td>\n",
       "      <td>43</td>\n",
       "      <td>46</td>\n",
       "      <td>31</td>\n",
       "      <td>61</td>\n",
       "      <td>45</td>\n",
       "      <td>66</td>\n",
       "      <td>60</td>\n",
       "      <td>65</td>\n",
       "    </tr>\n",
       "    <tr>\n",
       "      <th>2</th>\n",
       "      <td>00002.jpg</td>\n",
       "      <td>23</td>\n",
       "      <td>116</td>\n",
       "      <td>39</td>\n",
       "      <td>83</td>\n",
       "      <td>47</td>\n",
       "      <td>57</td>\n",
       "      <td>56</td>\n",
       "      <td>19</td>\n",
       "      <td>36</td>\n",
       "      <td>...</td>\n",
       "      <td>62</td>\n",
       "      <td>31</td>\n",
       "      <td>91</td>\n",
       "      <td>86</td>\n",
       "      <td>106</td>\n",
       "      <td>122</td>\n",
       "      <td>115</td>\n",
       "      <td>100</td>\n",
       "      <td>121</td>\n",
       "      <td>81</td>\n",
       "    </tr>\n",
       "    <tr>\n",
       "      <th>3</th>\n",
       "      <td>00003.jpg</td>\n",
       "      <td>29</td>\n",
       "      <td>18</td>\n",
       "      <td>63</td>\n",
       "      <td>25</td>\n",
       "      <td>84</td>\n",
       "      <td>32</td>\n",
       "      <td>105</td>\n",
       "      <td>34</td>\n",
       "      <td>38</td>\n",
       "      <td>...</td>\n",
       "      <td>95</td>\n",
       "      <td>45</td>\n",
       "      <td>72</td>\n",
       "      <td>71</td>\n",
       "      <td>46</td>\n",
       "      <td>83</td>\n",
       "      <td>63</td>\n",
       "      <td>87</td>\n",
       "      <td>75</td>\n",
       "      <td>89</td>\n",
       "    </tr>\n",
       "    <tr>\n",
       "      <th>4</th>\n",
       "      <td>00004.jpg</td>\n",
       "      <td>31</td>\n",
       "      <td>53</td>\n",
       "      <td>76</td>\n",
       "      <td>44</td>\n",
       "      <td>107</td>\n",
       "      <td>38</td>\n",
       "      <td>136</td>\n",
       "      <td>33</td>\n",
       "      <td>40</td>\n",
       "      <td>...</td>\n",
       "      <td>129</td>\n",
       "      <td>49</td>\n",
       "      <td>111</td>\n",
       "      <td>105</td>\n",
       "      <td>72</td>\n",
       "      <td>137</td>\n",
       "      <td>106</td>\n",
       "      <td>132</td>\n",
       "      <td>126</td>\n",
       "      <td>121</td>\n",
       "    </tr>\n",
       "  </tbody>\n",
       "</table>\n",
       "<p>5 rows × 29 columns</p>\n",
       "</div>"
      ],
      "text/plain": [
       "    filename  x1   y1   x2  y2   x3  y3   x4  y4  x5 ...   x10  y10  x11  y11  \\\n",
       "0  00000.jpg  51   51  127  60  169  65  203  52  68 ...   193   84  156  144   \n",
       "1  00001.jpg  21   20   36  18   57  19   80  25  23 ...    78   33   43   46   \n",
       "2  00002.jpg  23  116   39  83   47  57   56  19  36 ...    62   31   91   86   \n",
       "3  00003.jpg  29   18   63  25   84  32  105  34  38 ...    95   45   72   71   \n",
       "4  00004.jpg  31   53   76  44  107  38  136  33  40 ...   129   49  111  105   \n",
       "\n",
       "   x12  y12  x13  y13  x14  y14  \n",
       "0   92  174  140  180  168  179  \n",
       "1   31   61   45   66   60   65  \n",
       "2  106  122  115  100  121   81  \n",
       "3   46   83   63   87   75   89  \n",
       "4   72  137  106  132  126  121  \n",
       "\n",
       "[5 rows x 29 columns]"
      ]
     },
     "execution_count": 11,
     "metadata": {},
     "output_type": "execute_result"
    }
   ],
   "source": [
    "points_data = pd.read_csv(\"00_gt/gt.csv\")\n",
    "points_data.head()"
   ]
  },
  {
   "cell_type": "code",
   "execution_count": 12,
   "metadata": {},
   "outputs": [
    {
     "data": {
      "text/html": [
       "<div>\n",
       "<style scoped>\n",
       "    .dataframe tbody tr th:only-of-type {\n",
       "        vertical-align: middle;\n",
       "    }\n",
       "\n",
       "    .dataframe tbody tr th {\n",
       "        vertical-align: top;\n",
       "    }\n",
       "\n",
       "    .dataframe thead th {\n",
       "        text-align: right;\n",
       "    }\n",
       "</style>\n",
       "<table border=\"1\" class=\"dataframe\">\n",
       "  <thead>\n",
       "    <tr style=\"text-align: right;\">\n",
       "      <th></th>\n",
       "      <th>img_filename</th>\n",
       "      <th>n_rows</th>\n",
       "      <th>n_cols</th>\n",
       "    </tr>\n",
       "  </thead>\n",
       "  <tbody>\n",
       "    <tr>\n",
       "      <th>0</th>\n",
       "      <td>00000.jpg</td>\n",
       "      <td>262</td>\n",
       "      <td>262</td>\n",
       "    </tr>\n",
       "    <tr>\n",
       "      <th>1</th>\n",
       "      <td>00001.jpg</td>\n",
       "      <td>94</td>\n",
       "      <td>94</td>\n",
       "    </tr>\n",
       "    <tr>\n",
       "      <th>2</th>\n",
       "      <td>00002.jpg</td>\n",
       "      <td>166</td>\n",
       "      <td>166</td>\n",
       "    </tr>\n",
       "    <tr>\n",
       "      <th>3</th>\n",
       "      <td>00003.jpg</td>\n",
       "      <td>124</td>\n",
       "      <td>124</td>\n",
       "    </tr>\n",
       "    <tr>\n",
       "      <th>4</th>\n",
       "      <td>00004.jpg</td>\n",
       "      <td>189</td>\n",
       "      <td>189</td>\n",
       "    </tr>\n",
       "  </tbody>\n",
       "</table>\n",
       "</div>"
      ],
      "text/plain": [
       "  img_filename  n_rows  n_cols\n",
       "0    00000.jpg     262     262\n",
       "1    00001.jpg      94      94\n",
       "2    00002.jpg     166     166\n",
       "3    00003.jpg     124     124\n",
       "4    00004.jpg     189     189"
      ]
     },
     "execution_count": 12,
     "metadata": {},
     "output_type": "execute_result"
    }
   ],
   "source": [
    "size_data = pd.read_csv(\"00_gt/img_shapes.csv\")\n",
    "size_data.head()"
   ]
  },
  {
   "cell_type": "code",
   "execution_count": 16,
   "metadata": {},
   "outputs": [],
   "source": [
    "from skimage import io\n",
    "from skimage.transform import resize"
   ]
  },
  {
   "cell_type": "code",
   "execution_count": 17,
   "metadata": {},
   "outputs": [],
   "source": [
    "from tqdm import tqdm_notebook"
   ]
  },
  {
   "cell_type": "code",
   "execution_count": 18,
   "metadata": {},
   "outputs": [
    {
     "data": {
      "application/vnd.jupyter.widget-view+json": {
       "model_id": "e4e8941dae6f42128c1fe8edc26022e0",
       "version_major": 2,
       "version_minor": 0
      },
      "text/html": [
       "<p>Failed to display Jupyter Widget of type <code>HBox</code>.</p>\n",
       "<p>\n",
       "  If you're reading this message in the Jupyter Notebook or JupyterLab Notebook, it may mean\n",
       "  that the widgets JavaScript is still loading. If this message persists, it\n",
       "  likely means that the widgets JavaScript library is either not installed or\n",
       "  not enabled. See the <a href=\"https://ipywidgets.readthedocs.io/en/stable/user_install.html\">Jupyter\n",
       "  Widgets Documentation</a> for setup instructions.\n",
       "</p>\n",
       "<p>\n",
       "  If you're reading this message in another frontend (for example, a static\n",
       "  rendering on GitHub or <a href=\"https://nbviewer.jupyter.org/\">NBViewer</a>),\n",
       "  it may mean that your frontend doesn't currently support widgets.\n",
       "</p>\n"
      ],
      "text/plain": [
       "HBox(children=(IntProgress(value=1, bar_style='info', max=1), HTML(value='')))"
      ]
     },
     "metadata": {},
     "output_type": "display_data"
    },
    {
     "name": "stderr",
     "output_type": "stream",
     "text": [
      "/home/ya_philya/anaconda3/lib/python3.6/site-packages/skimage/transform/_warps.py:84: UserWarning: The default mode, 'constant', will be changed to 'reflect' in skimage 0.15.\n",
      "  warn(\"The default mode, 'constant', will be changed to 'reflect' in \"\n"
     ]
    },
    {
     "name": "stdout",
     "output_type": "stream",
     "text": [
      "\n"
     ]
    }
   ],
   "source": [
    "images = []\n",
    "shapes = []\n",
    "NEW_SHAPE = 100\n",
    "for row in tqdm_notebook(size_data.iterrows()):\n",
    "    im = io.imread(\"00_input/train/images/{}\".format(row[1]['img_filename']))\n",
    "    images.append(resize(im, (NEW_SHAPE, NEW_SHAPE, 3)))\n",
    "    shapes.append((row[1]['n_rows'], row[1]['n_cols']))\n",
    "images = np.array(images)\n",
    "shapes = np.array(shapes)"
   ]
  },
  {
   "cell_type": "code",
   "execution_count": 19,
   "metadata": {},
   "outputs": [
    {
     "data": {
      "text/plain": [
       "(6000, 28)"
      ]
     },
     "execution_count": 19,
     "metadata": {},
     "output_type": "execute_result"
    }
   ],
   "source": [
    "points = []\n",
    "for i in range(shapes.shape[0]):\n",
    "    point = []\n",
    "    for col in points_data.columns:\n",
    "        if col.startswith('y'):\n",
    "            point.append(float(points_data.iloc[i][col]) / float(shapes[i][0]) * float(NEW_SHAPE))\n",
    "        if col.startswith('x'):\n",
    "            point.append(float(points_data.iloc[i][col]) / float(shapes[i][1]) * float(NEW_SHAPE))\n",
    "    points.append(point)\n",
    "points = np.array(points, dtype=np.float64)\n",
    "points.shape"
   ]
  },
  {
   "cell_type": "code",
   "execution_count": 20,
   "metadata": {},
   "outputs": [
    {
     "data": {
      "text/plain": [
       "array([[19.46564885, 19.46564885, 48.47328244, 22.90076336, 64.50381679,\n",
       "        24.80916031, 77.48091603, 19.84732824, 25.95419847, 29.38931298,\n",
       "        32.44274809, 28.6259542 , 41.98473282, 31.29770992, 61.06870229,\n",
       "        33.20610687, 65.26717557, 30.15267176, 73.66412214, 32.0610687 ,\n",
       "        59.54198473, 54.96183206, 35.11450382, 66.41221374, 53.4351145 ,\n",
       "        68.70229008, 64.1221374 , 68.32061069],\n",
       "       [22.34042553, 21.27659574, 38.29787234, 19.14893617, 60.63829787,\n",
       "        20.21276596, 85.10638298, 26.59574468, 24.46808511, 28.72340426,\n",
       "        36.17021277, 27.65957447, 42.55319149, 29.78723404, 62.76595745,\n",
       "        31.91489362, 72.34042553, 31.91489362, 82.9787234 , 35.10638298,\n",
       "        45.74468085, 48.93617021, 32.9787234 , 64.89361702, 47.87234043,\n",
       "        70.21276596, 63.82978723, 69.14893617],\n",
       "       [13.85542169, 69.87951807, 23.4939759 , 50.        , 28.31325301,\n",
       "        34.3373494 , 33.73493976, 11.44578313, 21.68674699, 69.27710843,\n",
       "        24.09638554, 57.8313253 , 28.31325301, 52.40963855, 35.54216867,\n",
       "        36.14457831, 35.54216867, 24.69879518, 37.34939759, 18.6746988 ,\n",
       "        54.81927711, 51.80722892, 63.85542169, 73.4939759 , 69.27710843,\n",
       "        60.24096386, 72.89156627, 48.79518072],\n",
       "       [23.38709677, 14.51612903, 50.80645161, 20.16129032, 67.74193548,\n",
       "        25.80645161, 84.67741935, 27.41935484, 30.64516129, 25.        ,\n",
       "        38.70967742, 27.41935484, 47.58064516, 31.4516129 , 63.70967742,\n",
       "        35.48387097, 68.5483871 , 34.67741935, 76.61290323, 36.29032258,\n",
       "        58.06451613, 57.25806452, 37.09677419, 66.93548387, 50.80645161,\n",
       "        70.16129032, 60.48387097, 71.77419355],\n",
       "       [16.4021164 , 28.04232804, 40.21164021, 23.28042328, 56.61375661,\n",
       "        20.10582011, 71.95767196, 17.46031746, 21.16402116, 35.44973545,\n",
       "        27.51322751, 32.8042328 , 38.62433862, 33.86243386, 55.02645503,\n",
       "        30.68783069, 60.84656085, 26.45502646, 68.25396825, 25.92592593,\n",
       "        58.73015873, 55.55555556, 38.0952381 , 72.48677249, 56.08465608,\n",
       "        69.84126984, 66.66666667, 64.02116402]])"
      ]
     },
     "execution_count": 20,
     "metadata": {},
     "output_type": "execute_result"
    }
   ],
   "source": [
    "points[:5]"
   ]
  },
  {
   "cell_type": "code",
   "execution_count": 21,
   "metadata": {},
   "outputs": [
    {
     "name": "stdout",
     "output_type": "stream",
     "text": [
      "_________________________________________________________________\n",
      "Layer (type)                 Output Shape              Param #   \n",
      "=================================================================\n",
      "conv2d_5 (Conv2D)            (None, 98, 98, 16)        448       \n",
      "_________________________________________________________________\n",
      "batch_normalization_5 (Batch (None, 98, 98, 16)        64        \n",
      "_________________________________________________________________\n",
      "conv2d_6 (Conv2D)            (None, 96, 96, 32)        4640      \n",
      "_________________________________________________________________\n",
      "max_pooling2d_3 (MaxPooling2 (None, 48, 48, 32)        0         \n",
      "_________________________________________________________________\n",
      "batch_normalization_6 (Batch (None, 48, 48, 32)        128       \n",
      "_________________________________________________________________\n",
      "conv2d_7 (Conv2D)            (None, 46, 46, 64)        18496     \n",
      "_________________________________________________________________\n",
      "batch_normalization_7 (Batch (None, 46, 46, 64)        256       \n",
      "_________________________________________________________________\n",
      "conv2d_8 (Conv2D)            (None, 44, 44, 128)       73856     \n",
      "_________________________________________________________________\n",
      "max_pooling2d_4 (MaxPooling2 (None, 22, 22, 128)       0         \n",
      "_________________________________________________________________\n",
      "batch_normalization_8 (Batch (None, 22, 22, 128)       512       \n",
      "_________________________________________________________________\n",
      "flatten_2 (Flatten)          (None, 61952)             0         \n",
      "_________________________________________________________________\n",
      "dense_3 (Dense)              (None, 1024)              63439872  \n",
      "_________________________________________________________________\n",
      "dropout_2 (Dropout)          (None, 1024)              0         \n",
      "_________________________________________________________________\n",
      "dense_4 (Dense)              (None, 28)                28700     \n",
      "=================================================================\n",
      "Total params: 63,566,972\n",
      "Trainable params: 63,566,492\n",
      "Non-trainable params: 480\n",
      "_________________________________________________________________\n"
     ]
    }
   ],
   "source": [
    "model = keras.models.Sequential()\n",
    "model.add(L.Convolution2D(filters=16, kernel_size=3, activation='relu'))\n",
    "model.add(L.BatchNormalization())\n",
    "model.add(L.Convolution2D(filters=32, kernel_size=3, activation='relu'))\n",
    "model.add(L.MaxPooling2D())\n",
    "model.add(L.BatchNormalization())\n",
    "\n",
    "model.add(L.Convolution2D(filters=64, kernel_size=3, activation='relu'))\n",
    "model.add(L.BatchNormalization())\n",
    "model.add(L.Convolution2D(filters=128, kernel_size=3, activation='relu'))\n",
    "model.add(L.MaxPooling2D())\n",
    "model.add(L.BatchNormalization())\n",
    "\n",
    "model.add(L.Flatten())\n",
    "model.add(L.Dense(units=1024, activation='relu'))\n",
    "model.add(L.Dropout(rate=0.4))\n",
    "model.add(L.Dense(units=28))\n",
    "model.compile('adam', loss='mse')\n",
    "model.build((None, NEW_SHAPE, NEW_SHAPE, 3))\n",
    "model.summary()"
   ]
  },
  {
   "cell_type": "code",
   "execution_count": 39,
   "metadata": {},
   "outputs": [],
   "source": [
    "from sklearn.model_selection import train_test_split"
   ]
  },
  {
   "cell_type": "code",
   "execution_count": 40,
   "metadata": {},
   "outputs": [
    {
     "data": {
      "text/plain": [
       "((4800, 64, 64, 3),\n",
       " (1200, 64, 64, 3),\n",
       " (4800, 28),\n",
       " (1200, 28),\n",
       " (4800, 2),\n",
       " (1200, 2))"
      ]
     },
     "execution_count": 40,
     "metadata": {},
     "output_type": "execute_result"
    }
   ],
   "source": [
    "X_train, X_test, y_train, y_test, shape_train, shape_test = train_test_split(images, points, shapes, test_size=0.2)\n",
    "X_train.shape, X_test.shape, y_train.shape, y_test.shape, shape_train.shape, shape_test.shape"
   ]
  },
  {
   "cell_type": "code",
   "execution_count": null,
   "metadata": {},
   "outputs": [
    {
     "name": "stdout",
     "output_type": "stream",
     "text": [
      "Train on 4800 samples, validate on 1200 samples\n",
      "Epoch 1/20\n",
      " - 149s - loss: 81.7155 - val_loss: 27.3306\n",
      "Epoch 2/20\n",
      " - 157s - loss: 36.6864 - val_loss: 48.3448\n",
      "Epoch 3/20\n",
      " - 154s - loss: 26.6482 - val_loss: 17.9013\n",
      "Epoch 4/20\n",
      " - 181s - loss: 22.0866 - val_loss: 9.9611\n",
      "Epoch 5/20\n",
      " - 164s - loss: 18.4939 - val_loss: 9.3166\n",
      "Epoch 6/20\n",
      " - 171s - loss: 16.5560 - val_loss: 8.5025\n",
      "Epoch 7/20\n",
      " - 165s - loss: 14.6491 - val_loss: 14.6644\n",
      "Epoch 8/20\n",
      " - 164s - loss: 13.9241 - val_loss: 9.5481\n",
      "Epoch 9/20\n",
      " - 162s - loss: 13.5204 - val_loss: 13.4971\n",
      "Epoch 10/20\n",
      " - 158s - loss: 13.4930 - val_loss: 8.5732\n",
      "Epoch 11/20\n",
      " - 156s - loss: 12.5968 - val_loss: 8.2740\n",
      "Epoch 12/20\n",
      " - 164s - loss: 12.0596 - val_loss: 7.1316\n",
      "Epoch 13/20\n",
      " - 173s - loss: 11.4595 - val_loss: 6.7988\n",
      "Epoch 14/20\n",
      " - 173s - loss: 11.0778 - val_loss: 6.9523\n",
      "Epoch 15/20\n",
      " - 168s - loss: 11.2037 - val_loss: 5.7043\n",
      "Epoch 16/20\n",
      " - 167s - loss: 11.6340 - val_loss: 6.4182\n",
      "Epoch 17/20\n",
      " - 165s - loss: 10.8301 - val_loss: 5.7175\n",
      "Epoch 18/20\n",
      " - 167s - loss: 10.8331 - val_loss: 6.7079\n",
      "Epoch 19/20\n",
      " - 167s - loss: 10.3508 - val_loss: 6.7268\n",
      "Epoch 20/20\n"
     ]
    }
   ],
   "source": [
    "model.fit(X_train, y_train, batch_size=32, epochs=20, verbose=2, validation_data=(X_test, y_test))"
   ]
  },
  {
   "cell_type": "code",
   "execution_count": 5,
   "metadata": {},
   "outputs": [
    {
     "data": {
      "text/plain": [
       "<function posix.listdir>"
      ]
     },
     "execution_count": 5,
     "metadata": {},
     "output_type": "execute_result"
    }
   ],
   "source": [
    "import os\n",
    "os.listdir"
   ]
  },
  {
   "cell_type": "code",
   "execution_count": 23,
   "metadata": {},
   "outputs": [
    {
     "data": {
      "text/plain": [
       "array([[ 0.00908441,  0.04967747,  0.0149589 , -0.02984657, -0.01538389,\n",
       "         0.06967603,  0.03703532, -0.0288459 , -0.00062133, -0.01685303,\n",
       "         0.01175428,  0.06271955, -0.05578396,  0.02015104,  0.02288132,\n",
       "        -0.02077639, -0.00331962, -0.00873328,  0.0234977 , -0.03772496,\n",
       "        -0.01603477, -0.01858955,  0.02337012, -0.01154331, -0.05542017,\n",
       "         0.0226067 , -0.05349622,  0.04863688]], dtype=float32)"
      ]
     },
     "execution_count": 23,
     "metadata": {},
     "output_type": "execute_result"
    }
   ],
   "source": [
    "model.predict(images[0][np.newaxis])"
   ]
  },
  {
   "cell_type": "code",
   "execution_count": 11,
   "metadata": {},
   "outputs": [
    {
     "name": "stdout",
     "output_type": "stream",
     "text": [
      "/home/ya_philya/anaconda3/lib/python3.6/site-packages/h5py/__init__.py:36: FutureWarning: Conversion of the second argument of issubdtype from `float` to `np.floating` is deprecated. In future, it will be treated as `np.float64 == np.dtype(float).type`.\n",
      "  from ._conv import register_converters as _register_converters\n",
      "Using TensorFlow backend.\n",
      "/home/ya_philya/anaconda3/lib/python3.6/site-packages/skimage/transform/_warps.py:84: UserWarning: The default mode, 'constant', will be changed to 'reflect' in skimage 0.15.\n",
      "  warn(\"The default mode, 'constant', will be changed to 'reflect' in \"\n",
      "2018-10-27 16:30:41.627653: I tensorflow/core/platform/cpu_feature_guard.cc:140] Your CPU supports instructions that this TensorFlow binary was not compiled to use: AVX2 FMA\n",
      "2018-10-27 16:30:44.095009: W tensorflow/core/framework/allocator.cc:101] Allocation of 78675968 exceeds 10% of system memory.\n",
      "2018-10-27 16:30:44.225756: W tensorflow/core/framework/allocator.cc:101] Allocation of 78675968 exceeds 10% of system memory.\n",
      "2018-10-27 16:30:44.225769: W tensorflow/core/framework/allocator.cc:101] Allocation of 78675968 exceeds 10% of system memory.\n",
      "2018-10-27 16:30:44.427304: W tensorflow/core/framework/allocator.cc:101] Allocation of 150994944 exceeds 10% of system memory.\n",
      "2018-10-27 16:30:44.859731: W tensorflow/core/framework/allocator.cc:101] Allocation of 150994944 exceeds 10% of system memory.\n",
      "2018-10-27 16:30:44.859731: W tensorflow/core/framework/allocator.cc:101] Allocation of 150994944 exceeds 10% of system memory.\n",
      "2018-10-27 16:30:45.309575: W tensorflow/core/framework/allocator.cc:101] Allocation of 69337088 exceeds 10% of system memory.\n",
      "2018-10-27 16:30:45.459281: W tensorflow/core/framework/allocator.cc:101] Allocation of 69337088 exceeds 10% of system memory.\n",
      "2018-10-27 16:30:45.459406: W tensorflow/core/framework/allocator.cc:101] Allocation of 69337088 exceeds 10% of system memory.\n",
      "2018-10-27 16:30:45.662521: W tensorflow/core/framework/allocator.cc:101] Allocation of 126877696 exceeds 10% of system memory.\n",
      "2018-10-27 16:30:46.147725: W tensorflow/core/framework/allocator.cc:101] Allocation of 126877696 exceeds 10% of system memory.\n",
      "2018-10-27 16:30:46.147808: W tensorflow/core/framework/allocator.cc:101] Allocation of 126877696 exceeds 10% of system memory.\n",
      "2018-10-27 16:30:47.014490: W tensorflow/core/framework/allocator.cc:101] Allocation of 84934656 exceeds 10% of system memory.\n",
      "2018-10-27 16:30:47.660682: W tensorflow/core/framework/allocator.cc:101] Allocation of 84934656 exceeds 10% of system memory.\n",
      "2018-10-27 16:30:47.660682: W tensorflow/core/framework/allocator.cc:101] Allocation of 84934656 exceeds 10% of system memory.\n",
      "2018-10-27 16:30:48.029804: W tensorflow/core/framework/allocator.cc:101] Allocation of 84934656 exceeds 10% of system memory.\n",
      "2018-10-27 16:30:48.254887: W tensorflow/core/framework/allocator.cc:101] Allocation of 84934656 exceeds 10% of system memory.\n",
      "2018-10-27 16:30:52.026387: W tensorflow/core/framework/allocator.cc:101] Allocation of 126877696 exceeds 10% of system memory.\n",
      "2018-10-27 16:30:52.183447: W tensorflow/core/framework/allocator.cc:101] Allocation of 126877696 exceeds 10% of system memory.\n",
      "2018-10-27 16:30:53.287976: W tensorflow/core/framework/allocator.cc:101] Allocation of 69337088 exceeds 10% of system memory.\n",
      "2018-10-27 16:30:54.425525: W tensorflow/core/framework/allocator.cc:101] Allocation of 69337088 exceeds 10% of system memory.\n",
      "2018-10-27 16:30:55.436590: W tensorflow/core/framework/allocator.cc:101] Allocation of 75497472 exceeds 10% of system memory.\n",
      "2018-10-27 16:30:55.436650: W tensorflow/core/framework/allocator.cc:101] Allocation of 150994944 exceeds 10% of system memory.\n",
      "2018-10-27 16:30:55.636907: W tensorflow/core/framework/allocator.cc:101] Allocation of 150994944 exceeds 10% of system memory.\n",
      "2018-10-27 16:30:56.643146: W tensorflow/core/framework/allocator.cc:101] Allocation of 78675968 exceeds 10% of system memory.\n",
      "2018-10-27 16:30:57.614913: W tensorflow/core/framework/allocator.cc:101] Allocation of 78675968 exceeds 10% of system memory.\n",
      "2018-10-27 16:30:58.482542: W tensorflow/core/framework/allocator.cc:101] Allocation of 78675968 exceeds 10% of system memory.\n",
      "2018-10-27 16:30:58.625231: W tensorflow/core/framework/allocator.cc:101] Allocation of 78675968 exceeds 10% of system memory.\n",
      "2018-10-27 16:30:58.625231: W tensorflow/core/framework/allocator.cc:101] Allocation of 78675968 exceeds 10% of system memory.\n",
      "2018-10-27 16:30:58.883295: W tensorflow/core/framework/allocator.cc:101] Allocation of 150994944 exceeds 10% of system memory.\n",
      "2018-10-27 16:30:59.150994: W tensorflow/core/framework/allocator.cc:101] Allocation of 150994944 exceeds 10% of system memory.\n",
      "2018-10-27 16:30:59.150995: W tensorflow/core/framework/allocator.cc:101] Allocation of 150994944 exceeds 10% of system memory.\n",
      "2018-10-27 16:30:59.677700: W tensorflow/core/framework/allocator.cc:101] Allocation of 69337088 exceeds 10% of system memory.\n",
      "2018-10-27 16:30:59.801799: W tensorflow/core/framework/allocator.cc:101] Allocation of 69337088 exceeds 10% of system memory.\n",
      "2018-10-27 16:30:59.801799: W tensorflow/core/framework/allocator.cc:101] Allocation of 69337088 exceeds 10% of system memory.\n",
      "2018-10-27 16:31:00.022905: W tensorflow/core/framework/allocator.cc:101] Allocation of 126877696 exceeds 10% of system memory.\n",
      "2018-10-27 16:31:00.346698: W tensorflow/core/framework/allocator.cc:101] Allocation of 126877696 exceeds 10% of system memory.\n",
      "2018-10-27 16:31:00.346698: W tensorflow/core/framework/allocator.cc:101] Allocation of 126877696 exceeds 10% of system memory.\n",
      "2018-10-27 16:31:01.203903: W tensorflow/core/framework/allocator.cc:101] Allocation of 84934656 exceeds 10% of system memory.\n",
      "2018-10-27 16:31:02.004473: W tensorflow/core/framework/allocator.cc:101] Allocation of 84934656 exceeds 10% of system memory.\n",
      "2018-10-27 16:31:02.004559: W tensorflow/core/framework/allocator.cc:101] Allocation of 84934656 exceeds 10% of system memory.\n",
      "2018-10-27 16:31:02.362876: W tensorflow/core/framework/allocator.cc:101] Allocation of 84934656 exceeds 10% of system memory.\n",
      "2018-10-27 16:31:02.494358: W tensorflow/core/framework/allocator.cc:101] Allocation of 84934656 exceeds 10% of system memory.\n",
      "2018-10-27 16:31:07.662454: W tensorflow/core/framework/allocator.cc:101] Allocation of 126877696 exceeds 10% of system memory.\n",
      "2018-10-27 16:31:07.800166: W tensorflow/core/framework/allocator.cc:101] Allocation of 126877696 exceeds 10% of system memory.\n",
      "2018-10-27 16:31:09.021621: W tensorflow/core/framework/allocator.cc:101] Allocation of 69337088 exceeds 10% of system memory.\n",
      "2018-10-27 16:31:10.307287: W tensorflow/core/framework/allocator.cc:101] Allocation of 69337088 exceeds 10% of system memory.\n",
      "2018-10-27 16:31:11.357402: W tensorflow/core/framework/allocator.cc:101] Allocation of 75497472 exceeds 10% of system memory.\n",
      "2018-10-27 16:31:11.357612: W tensorflow/core/framework/allocator.cc:101] Allocation of 150994944 exceeds 10% of system memory.\n",
      "2018-10-27 16:31:11.542641: W tensorflow/core/framework/allocator.cc:101] Allocation of 150994944 exceeds 10% of system memory.\n",
      "2018-10-27 16:31:12.591262: W tensorflow/core/framework/allocator.cc:101] Allocation of 78675968 exceeds 10% of system memory.\n",
      "2018-10-27 16:31:13.590401: W tensorflow/core/framework/allocator.cc:101] Allocation of 78675968 exceeds 10% of system memory.\n",
      "00 513.44s Ok, error 8.4930\n",
      "Mark: 10 8.4930\n"
     ]
    }
   ],
   "source": [
    "!python script.py ."
   ]
  },
  {
   "cell_type": "code",
   "execution_count": 5,
   "metadata": {},
   "outputs": [
    {
     "data": {
      "text/plain": [
       "[('1', 1), ('2', 2)]"
      ]
     },
     "execution_count": 5,
     "metadata": {},
     "output_type": "execute_result"
    }
   ],
   "source": [
    "list({'1':1, '2':2}.items())"
   ]
  }
 ],
 "metadata": {
  "kernelspec": {
   "display_name": "Python 3",
   "language": "python",
   "name": "python3"
  },
  "language_info": {
   "codemirror_mode": {
    "name": "ipython",
    "version": 3
   },
   "file_extension": ".py",
   "mimetype": "text/x-python",
   "name": "python",
   "nbconvert_exporter": "python",
   "pygments_lexer": "ipython3",
   "version": "3.6.4"
  }
 },
 "nbformat": 4,
 "nbformat_minor": 2
}
