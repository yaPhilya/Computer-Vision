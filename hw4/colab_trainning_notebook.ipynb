{
  "nbformat": 4,
  "nbformat_minor": 0,
  "metadata": {
    "colab": {
      "name": "Untitled.ipynb",
      "version": "0.3.2",
      "provenance": [],
      "include_colab_link": true
    },
    "kernelspec": {
      "name": "python3",
      "display_name": "Python 3"
    },
    "accelerator": "GPU"
  },
  "cells": [
    {
      "cell_type": "markdown",
      "metadata": {
        "id": "view-in-github",
        "colab_type": "text"
      },
      "source": [
        "<a href=\"https://colab.research.google.com/github/yaPhilya/Computer-Vision/blob/master/hw4/colab_trainning_notebook.ipynb\" target=\"_parent\"><img src=\"https://colab.research.google.com/assets/colab-badge.svg\" alt=\"Open In Colab\"/></a>"
      ]
    },
    {
      "metadata": {
        "id": "QHW_JY-EUor7",
        "colab_type": "code",
        "colab": {}
      },
      "cell_type": "code",
      "source": [
        "import numpy as np\n",
        "import pandas as pd\n",
        "import matplotlib.pyplot as plt\n",
        "%matplotlib inline"
      ],
      "execution_count": 0,
      "outputs": []
    },
    {
      "metadata": {
        "id": "WDZxEQFsUosD",
        "colab_type": "code",
        "colab": {
          "base_uri": "https://localhost:8080/",
          "height": 119
        },
        "outputId": "efcc3ba0-0266-47ad-c106-85d70b7f055e"
      },
      "cell_type": "code",
      "source": [
        "!pip install keras"
      ],
      "execution_count": 2,
      "outputs": [
        {
          "output_type": "stream",
          "text": [
            "Requirement already satisfied: keras in /usr/local/lib/python3.6/dist-packages (2.1.6)\n",
            "Requirement already satisfied: scipy>=0.14 in /usr/local/lib/python3.6/dist-packages (from keras) (0.19.1)\n",
            "Requirement already satisfied: h5py in /usr/local/lib/python3.6/dist-packages (from keras) (2.8.0)\n",
            "Requirement already satisfied: pyyaml in /usr/local/lib/python3.6/dist-packages (from keras) (3.13)\n",
            "Requirement already satisfied: numpy>=1.9.1 in /usr/local/lib/python3.6/dist-packages (from keras) (1.14.6)\n",
            "Requirement already satisfied: six>=1.9.0 in /usr/local/lib/python3.6/dist-packages (from keras) (1.11.0)\n"
          ],
          "name": "stdout"
        }
      ]
    },
    {
      "metadata": {
        "id": "MW12N4LxUosQ",
        "colab_type": "code",
        "colab": {
          "base_uri": "https://localhost:8080/",
          "height": 34
        },
        "outputId": "d01195bb-5d04-45e9-a4de-d2dc93a69562"
      },
      "cell_type": "code",
      "source": [
        "import keras\n",
        "import keras.layers as L"
      ],
      "execution_count": 3,
      "outputs": [
        {
          "output_type": "stream",
          "text": [
            "Using TensorFlow backend.\n"
          ],
          "name": "stderr"
        }
      ]
    },
    {
      "metadata": {
        "id": "0lleDJDZVJuZ",
        "colab_type": "code",
        "colab": {
          "base_uri": "https://localhost:8080/",
          "height": 122
        },
        "outputId": "c8877f81-0ff5-4040-b0ee-cf3c4f823ee1"
      },
      "cell_type": "code",
      "source": [
        "from google.colab import drive\n",
        "drive.mount('/content/hw4')"
      ],
      "execution_count": 4,
      "outputs": [
        {
          "output_type": "stream",
          "text": [
            "Go to this URL in a browser: https://accounts.google.com/o/oauth2/auth?client_id=947318989803-6bn6qk8qdgf4n4g3pfee6491hc0brc4i.apps.googleusercontent.com&redirect_uri=urn%3Aietf%3Awg%3Aoauth%3A2.0%3Aoob&scope=email%20https%3A%2F%2Fwww.googleapis.com%2Fauth%2Fdocs.test%20https%3A%2F%2Fwww.googleapis.com%2Fauth%2Fdrive%20https%3A%2F%2Fwww.googleapis.com%2Fauth%2Fdrive.photos.readonly%20https%3A%2F%2Fwww.googleapis.com%2Fauth%2Fpeopleapi.readonly&response_type=code\n",
            "\n",
            "Enter your authorization code:\n",
            "··········\n",
            "Mounted at /content/hw4\n"
          ],
          "name": "stdout"
        }
      ]
    },
    {
      "metadata": {
        "id": "7AZCRKPIV3qW",
        "colab_type": "code",
        "colab": {
          "base_uri": "https://localhost:8080/",
          "height": 102
        },
        "outputId": "ef97f9ff-1c19-481b-c569-2a531a0b8fc5"
      },
      "cell_type": "code",
      "source": [
        "import os\n",
        "os.listdir('/content/hw4/My Drive/Colab Notebooks/Computer Vision/hw4_2')"
      ],
      "execution_count": 5,
      "outputs": [
        {
          "output_type": "execute_result",
          "data": {
            "text/plain": [
              "['stupid_model_2.hdf5',\n",
              " 'stupid_model.hdf5',\n",
              " 'gt.csv',\n",
              " 'img_shapes.csv',\n",
              " 'train']"
            ]
          },
          "metadata": {
            "tags": []
          },
          "execution_count": 5
        }
      ]
    },
    {
      "metadata": {
        "id": "l7ubs13PFp62",
        "colab_type": "code",
        "colab": {}
      },
      "cell_type": "code",
      "source": [
        "PATH = '/content/hw4/My Drive/Colab Notebooks/Computer Vision/hw4_2/'"
      ],
      "execution_count": 0,
      "outputs": []
    },
    {
      "metadata": {
        "id": "--KuxWWuUosZ",
        "colab_type": "code",
        "colab": {
          "base_uri": "https://localhost:8080/",
          "height": 233
        },
        "outputId": "d7f5c900-e1e9-4697-edad-88f444b992b5"
      },
      "cell_type": "code",
      "source": [
        "points_data = pd.read_csv(PATH + \"gt.csv\")\n",
        "points_data.head()"
      ],
      "execution_count": 7,
      "outputs": [
        {
          "output_type": "execute_result",
          "data": {
            "text/html": [
              "<div>\n",
              "<style scoped>\n",
              "    .dataframe tbody tr th:only-of-type {\n",
              "        vertical-align: middle;\n",
              "    }\n",
              "\n",
              "    .dataframe tbody tr th {\n",
              "        vertical-align: top;\n",
              "    }\n",
              "\n",
              "    .dataframe thead th {\n",
              "        text-align: right;\n",
              "    }\n",
              "</style>\n",
              "<table border=\"1\" class=\"dataframe\">\n",
              "  <thead>\n",
              "    <tr style=\"text-align: right;\">\n",
              "      <th></th>\n",
              "      <th>filename</th>\n",
              "      <th>x1</th>\n",
              "      <th>y1</th>\n",
              "      <th>x2</th>\n",
              "      <th>y2</th>\n",
              "      <th>x3</th>\n",
              "      <th>y3</th>\n",
              "      <th>x4</th>\n",
              "      <th>y4</th>\n",
              "      <th>x5</th>\n",
              "      <th>...</th>\n",
              "      <th>x10</th>\n",
              "      <th>y10</th>\n",
              "      <th>x11</th>\n",
              "      <th>y11</th>\n",
              "      <th>x12</th>\n",
              "      <th>y12</th>\n",
              "      <th>x13</th>\n",
              "      <th>y13</th>\n",
              "      <th>x14</th>\n",
              "      <th>y14</th>\n",
              "    </tr>\n",
              "  </thead>\n",
              "  <tbody>\n",
              "    <tr>\n",
              "      <th>0</th>\n",
              "      <td>00000.jpg</td>\n",
              "      <td>51</td>\n",
              "      <td>51</td>\n",
              "      <td>127</td>\n",
              "      <td>60</td>\n",
              "      <td>169</td>\n",
              "      <td>65</td>\n",
              "      <td>203</td>\n",
              "      <td>52</td>\n",
              "      <td>68</td>\n",
              "      <td>...</td>\n",
              "      <td>193</td>\n",
              "      <td>84</td>\n",
              "      <td>156</td>\n",
              "      <td>144</td>\n",
              "      <td>92</td>\n",
              "      <td>174</td>\n",
              "      <td>140</td>\n",
              "      <td>180</td>\n",
              "      <td>168</td>\n",
              "      <td>179</td>\n",
              "    </tr>\n",
              "    <tr>\n",
              "      <th>1</th>\n",
              "      <td>00001.jpg</td>\n",
              "      <td>21</td>\n",
              "      <td>20</td>\n",
              "      <td>36</td>\n",
              "      <td>18</td>\n",
              "      <td>57</td>\n",
              "      <td>19</td>\n",
              "      <td>80</td>\n",
              "      <td>25</td>\n",
              "      <td>23</td>\n",
              "      <td>...</td>\n",
              "      <td>78</td>\n",
              "      <td>33</td>\n",
              "      <td>43</td>\n",
              "      <td>46</td>\n",
              "      <td>31</td>\n",
              "      <td>61</td>\n",
              "      <td>45</td>\n",
              "      <td>66</td>\n",
              "      <td>60</td>\n",
              "      <td>65</td>\n",
              "    </tr>\n",
              "    <tr>\n",
              "      <th>2</th>\n",
              "      <td>00002.jpg</td>\n",
              "      <td>23</td>\n",
              "      <td>116</td>\n",
              "      <td>39</td>\n",
              "      <td>83</td>\n",
              "      <td>47</td>\n",
              "      <td>57</td>\n",
              "      <td>56</td>\n",
              "      <td>19</td>\n",
              "      <td>36</td>\n",
              "      <td>...</td>\n",
              "      <td>62</td>\n",
              "      <td>31</td>\n",
              "      <td>91</td>\n",
              "      <td>86</td>\n",
              "      <td>106</td>\n",
              "      <td>122</td>\n",
              "      <td>115</td>\n",
              "      <td>100</td>\n",
              "      <td>121</td>\n",
              "      <td>81</td>\n",
              "    </tr>\n",
              "    <tr>\n",
              "      <th>3</th>\n",
              "      <td>00003.jpg</td>\n",
              "      <td>29</td>\n",
              "      <td>18</td>\n",
              "      <td>63</td>\n",
              "      <td>25</td>\n",
              "      <td>84</td>\n",
              "      <td>32</td>\n",
              "      <td>105</td>\n",
              "      <td>34</td>\n",
              "      <td>38</td>\n",
              "      <td>...</td>\n",
              "      <td>95</td>\n",
              "      <td>45</td>\n",
              "      <td>72</td>\n",
              "      <td>71</td>\n",
              "      <td>46</td>\n",
              "      <td>83</td>\n",
              "      <td>63</td>\n",
              "      <td>87</td>\n",
              "      <td>75</td>\n",
              "      <td>89</td>\n",
              "    </tr>\n",
              "    <tr>\n",
              "      <th>4</th>\n",
              "      <td>00004.jpg</td>\n",
              "      <td>31</td>\n",
              "      <td>53</td>\n",
              "      <td>76</td>\n",
              "      <td>44</td>\n",
              "      <td>107</td>\n",
              "      <td>38</td>\n",
              "      <td>136</td>\n",
              "      <td>33</td>\n",
              "      <td>40</td>\n",
              "      <td>...</td>\n",
              "      <td>129</td>\n",
              "      <td>49</td>\n",
              "      <td>111</td>\n",
              "      <td>105</td>\n",
              "      <td>72</td>\n",
              "      <td>137</td>\n",
              "      <td>106</td>\n",
              "      <td>132</td>\n",
              "      <td>126</td>\n",
              "      <td>121</td>\n",
              "    </tr>\n",
              "  </tbody>\n",
              "</table>\n",
              "<p>5 rows × 29 columns</p>\n",
              "</div>"
            ],
            "text/plain": [
              "    filename  x1   y1   x2  y2   x3  y3   x4  y4  x5 ...   x10  y10  x11  y11  \\\n",
              "0  00000.jpg  51   51  127  60  169  65  203  52  68 ...   193   84  156  144   \n",
              "1  00001.jpg  21   20   36  18   57  19   80  25  23 ...    78   33   43   46   \n",
              "2  00002.jpg  23  116   39  83   47  57   56  19  36 ...    62   31   91   86   \n",
              "3  00003.jpg  29   18   63  25   84  32  105  34  38 ...    95   45   72   71   \n",
              "4  00004.jpg  31   53   76  44  107  38  136  33  40 ...   129   49  111  105   \n",
              "\n",
              "   x12  y12  x13  y13  x14  y14  \n",
              "0   92  174  140  180  168  179  \n",
              "1   31   61   45   66   60   65  \n",
              "2  106  122  115  100  121   81  \n",
              "3   46   83   63   87   75   89  \n",
              "4   72  137  106  132  126  121  \n",
              "\n",
              "[5 rows x 29 columns]"
            ]
          },
          "metadata": {
            "tags": []
          },
          "execution_count": 7
        }
      ]
    },
    {
      "metadata": {
        "id": "tSS-lUpOUosj",
        "colab_type": "code",
        "colab": {
          "base_uri": "https://localhost:8080/",
          "height": 204
        },
        "outputId": "d89f9b50-e89a-4050-82ea-a83c3bb9a97a"
      },
      "cell_type": "code",
      "source": [
        "size_data = pd.read_csv(PATH + \"img_shapes.csv\")\n",
        "size_data.head()"
      ],
      "execution_count": 8,
      "outputs": [
        {
          "output_type": "execute_result",
          "data": {
            "text/html": [
              "<div>\n",
              "<style scoped>\n",
              "    .dataframe tbody tr th:only-of-type {\n",
              "        vertical-align: middle;\n",
              "    }\n",
              "\n",
              "    .dataframe tbody tr th {\n",
              "        vertical-align: top;\n",
              "    }\n",
              "\n",
              "    .dataframe thead th {\n",
              "        text-align: right;\n",
              "    }\n",
              "</style>\n",
              "<table border=\"1\" class=\"dataframe\">\n",
              "  <thead>\n",
              "    <tr style=\"text-align: right;\">\n",
              "      <th></th>\n",
              "      <th>img_filename</th>\n",
              "      <th>n_rows</th>\n",
              "      <th>n_cols</th>\n",
              "    </tr>\n",
              "  </thead>\n",
              "  <tbody>\n",
              "    <tr>\n",
              "      <th>0</th>\n",
              "      <td>00000.jpg</td>\n",
              "      <td>262</td>\n",
              "      <td>262</td>\n",
              "    </tr>\n",
              "    <tr>\n",
              "      <th>1</th>\n",
              "      <td>00001.jpg</td>\n",
              "      <td>94</td>\n",
              "      <td>94</td>\n",
              "    </tr>\n",
              "    <tr>\n",
              "      <th>2</th>\n",
              "      <td>00002.jpg</td>\n",
              "      <td>166</td>\n",
              "      <td>166</td>\n",
              "    </tr>\n",
              "    <tr>\n",
              "      <th>3</th>\n",
              "      <td>00003.jpg</td>\n",
              "      <td>124</td>\n",
              "      <td>124</td>\n",
              "    </tr>\n",
              "    <tr>\n",
              "      <th>4</th>\n",
              "      <td>00004.jpg</td>\n",
              "      <td>189</td>\n",
              "      <td>189</td>\n",
              "    </tr>\n",
              "  </tbody>\n",
              "</table>\n",
              "</div>"
            ],
            "text/plain": [
              "  img_filename  n_rows  n_cols\n",
              "0    00000.jpg     262     262\n",
              "1    00001.jpg      94      94\n",
              "2    00002.jpg     166     166\n",
              "3    00003.jpg     124     124\n",
              "4    00004.jpg     189     189"
            ]
          },
          "metadata": {
            "tags": []
          },
          "execution_count": 8
        }
      ]
    },
    {
      "metadata": {
        "id": "keL6eGbKUoss",
        "colab_type": "code",
        "colab": {}
      },
      "cell_type": "code",
      "source": [
        "from skimage import io\n",
        "from skimage.transform import resize"
      ],
      "execution_count": 0,
      "outputs": []
    },
    {
      "metadata": {
        "id": "jqOvsD8ZUos6",
        "colab_type": "code",
        "colab": {}
      },
      "cell_type": "code",
      "source": [
        "from tqdm import tqdm"
      ],
      "execution_count": 0,
      "outputs": []
    },
    {
      "metadata": {
        "id": "bi4wUgZtUotA",
        "colab_type": "code",
        "colab": {
          "base_uri": "https://localhost:8080/",
          "height": 88
        },
        "outputId": "83d863ef-4d70-4c3d-fa7e-ea83b4601575"
      },
      "cell_type": "code",
      "source": [
        "images = []\n",
        "shapes = []\n",
        "NEW_SHAPE = 100\n",
        "for row in tqdm(size_data.iterrows()):\n",
        "    im = io.imread(PATH + \"train/images/{}\".format(row[1]['img_filename']))\n",
        "    images.append(resize(im, (NEW_SHAPE, NEW_SHAPE, 3)))\n",
        "    shapes.append((row[1]['n_rows'], row[1]['n_cols']))\n",
        "images = np.array(images)\n",
        "shapes = np.array(shapes)"
      ],
      "execution_count": 11,
      "outputs": [
        {
          "output_type": "stream",
          "text": [
            "0it [00:00, ?it/s]/usr/local/lib/python3.6/dist-packages/skimage/transform/_warps.py:84: UserWarning: The default mode, 'constant', will be changed to 'reflect' in skimage 0.15.\n",
            "  warn(\"The default mode, 'constant', will be changed to 'reflect' in \"\n",
            "6000it [26:46,  4.07it/s]\n"
          ],
          "name": "stderr"
        }
      ]
    },
    {
      "metadata": {
        "id": "pQPgA665UotJ",
        "colab_type": "code",
        "colab": {
          "base_uri": "https://localhost:8080/",
          "height": 34
        },
        "outputId": "8c3e1030-8fb5-4764-b4b5-4bf4e7b41688"
      },
      "cell_type": "code",
      "source": [
        "points = []\n",
        "for i in range(shapes.shape[0]):\n",
        "    point = []\n",
        "    for col in points_data.columns:\n",
        "        if col.startswith('y'):\n",
        "            point.append(float(points_data.iloc[i][col]) / float(shapes[i][0]) * float(NEW_SHAPE))\n",
        "        if col.startswith('x'):\n",
        "            point.append(float(points_data.iloc[i][col]) / float(shapes[i][1]) * float(NEW_SHAPE))\n",
        "    points.append(point)\n",
        "points = np.array(points, dtype=np.float64)\n",
        "points.shape"
      ],
      "execution_count": 12,
      "outputs": [
        {
          "output_type": "execute_result",
          "data": {
            "text/plain": [
              "(6000, 28)"
            ]
          },
          "metadata": {
            "tags": []
          },
          "execution_count": 12
        }
      ]
    },
    {
      "metadata": {
        "id": "fD-9HzdKUotX",
        "colab_type": "code",
        "colab": {
          "base_uri": "https://localhost:8080/",
          "height": 527
        },
        "outputId": "b2b18001-4fc1-4cc1-94ec-055ad9d452d6"
      },
      "cell_type": "code",
      "source": [
        "points[:5]"
      ],
      "execution_count": 13,
      "outputs": [
        {
          "output_type": "execute_result",
          "data": {
            "text/plain": [
              "array([[19.46564885, 19.46564885, 48.47328244, 22.90076336, 64.50381679,\n",
              "        24.80916031, 77.48091603, 19.84732824, 25.95419847, 29.38931298,\n",
              "        32.44274809, 28.6259542 , 41.98473282, 31.29770992, 61.06870229,\n",
              "        33.20610687, 65.26717557, 30.15267176, 73.66412214, 32.0610687 ,\n",
              "        59.54198473, 54.96183206, 35.11450382, 66.41221374, 53.4351145 ,\n",
              "        68.70229008, 64.1221374 , 68.32061069],\n",
              "       [22.34042553, 21.27659574, 38.29787234, 19.14893617, 60.63829787,\n",
              "        20.21276596, 85.10638298, 26.59574468, 24.46808511, 28.72340426,\n",
              "        36.17021277, 27.65957447, 42.55319149, 29.78723404, 62.76595745,\n",
              "        31.91489362, 72.34042553, 31.91489362, 82.9787234 , 35.10638298,\n",
              "        45.74468085, 48.93617021, 32.9787234 , 64.89361702, 47.87234043,\n",
              "        70.21276596, 63.82978723, 69.14893617],\n",
              "       [13.85542169, 69.87951807, 23.4939759 , 50.        , 28.31325301,\n",
              "        34.3373494 , 33.73493976, 11.44578313, 21.68674699, 69.27710843,\n",
              "        24.09638554, 57.8313253 , 28.31325301, 52.40963855, 35.54216867,\n",
              "        36.14457831, 35.54216867, 24.69879518, 37.34939759, 18.6746988 ,\n",
              "        54.81927711, 51.80722892, 63.85542169, 73.4939759 , 69.27710843,\n",
              "        60.24096386, 72.89156627, 48.79518072],\n",
              "       [23.38709677, 14.51612903, 50.80645161, 20.16129032, 67.74193548,\n",
              "        25.80645161, 84.67741935, 27.41935484, 30.64516129, 25.        ,\n",
              "        38.70967742, 27.41935484, 47.58064516, 31.4516129 , 63.70967742,\n",
              "        35.48387097, 68.5483871 , 34.67741935, 76.61290323, 36.29032258,\n",
              "        58.06451613, 57.25806452, 37.09677419, 66.93548387, 50.80645161,\n",
              "        70.16129032, 60.48387097, 71.77419355],\n",
              "       [16.4021164 , 28.04232804, 40.21164021, 23.28042328, 56.61375661,\n",
              "        20.10582011, 71.95767196, 17.46031746, 21.16402116, 35.44973545,\n",
              "        27.51322751, 32.8042328 , 38.62433862, 33.86243386, 55.02645503,\n",
              "        30.68783069, 60.84656085, 26.45502646, 68.25396825, 25.92592593,\n",
              "        58.73015873, 55.55555556, 38.0952381 , 72.48677249, 56.08465608,\n",
              "        69.84126984, 66.66666667, 64.02116402]])"
            ]
          },
          "metadata": {
            "tags": []
          },
          "execution_count": 13
        }
      ]
    },
    {
      "metadata": {
        "id": "mreKeqCoUotm",
        "colab_type": "code",
        "colab": {
          "base_uri": "https://localhost:8080/",
          "height": 986
        },
        "outputId": "74ed507c-1880-41e4-981a-3bfaca978323"
      },
      "cell_type": "code",
      "source": [
        "model = keras.models.Sequential()\n",
        "model.add(L.Convolution2D(filters=16, kernel_size=3, input_shape=(NEW_SHAPE, NEW_SHAPE, 3)))\n",
        "model.add(L.BatchNormalization())\n",
        "model.add(L.Activation('relu'))\n",
        "model.add(L.Convolution2D(filters=32, kernel_size=3))\n",
        "model.add(L.BatchNormalization())\n",
        "model.add(L.Activation('relu'))\n",
        "model.add(L.MaxPooling2D())\n",
        "\n",
        "model.add(L.Convolution2D(filters=64, kernel_size=3))\n",
        "model.add(L.BatchNormalization())\n",
        "model.add(L.Activation('relu'))\n",
        "model.add(L.Convolution2D(filters=128, kernel_size=3))\n",
        "model.add(L.BatchNormalization())\n",
        "model.add(L.Activation('relu'))\n",
        "model.add(L.MaxPooling2D())\n",
        "\n",
        "model.add(L.Convolution2D(filters=256, kernel_size=3))\n",
        "model.add(L.BatchNormalization())\n",
        "model.add(L.Activation('relu'))\n",
        "model.add(L.Convolution2D(filters=512, kernel_size=3))\n",
        "model.add(L.BatchNormalization())\n",
        "model.add(L.Activation('relu'))\n",
        "model.add(L.MaxPooling2D())\n",
        "\n",
        "model.add(L.Flatten())\n",
        "model.add(L.Dense(units=128, activation='relu'))\n",
        "model.add(L.Dense(units=64, activation='relu'))\n",
        "model.add(L.Dense(units=28))\n",
        "model.compile('adam', loss='mse')\n",
        "model.build((None, NEW_SHAPE, NEW_SHAPE, 3))\n",
        "model.summary()"
      ],
      "execution_count": 20,
      "outputs": [
        {
          "output_type": "stream",
          "text": [
            "_________________________________________________________________\n",
            "Layer (type)                 Output Shape              Param #   \n",
            "=================================================================\n",
            "conv2d_7 (Conv2D)            (None, 98, 98, 16)        448       \n",
            "_________________________________________________________________\n",
            "batch_normalization_7 (Batch (None, 98, 98, 16)        64        \n",
            "_________________________________________________________________\n",
            "activation_7 (Activation)    (None, 98, 98, 16)        0         \n",
            "_________________________________________________________________\n",
            "conv2d_8 (Conv2D)            (None, 96, 96, 32)        4640      \n",
            "_________________________________________________________________\n",
            "batch_normalization_8 (Batch (None, 96, 96, 32)        128       \n",
            "_________________________________________________________________\n",
            "activation_8 (Activation)    (None, 96, 96, 32)        0         \n",
            "_________________________________________________________________\n",
            "max_pooling2d_4 (MaxPooling2 (None, 48, 48, 32)        0         \n",
            "_________________________________________________________________\n",
            "conv2d_9 (Conv2D)            (None, 46, 46, 64)        18496     \n",
            "_________________________________________________________________\n",
            "batch_normalization_9 (Batch (None, 46, 46, 64)        256       \n",
            "_________________________________________________________________\n",
            "activation_9 (Activation)    (None, 46, 46, 64)        0         \n",
            "_________________________________________________________________\n",
            "conv2d_10 (Conv2D)           (None, 44, 44, 128)       73856     \n",
            "_________________________________________________________________\n",
            "batch_normalization_10 (Batc (None, 44, 44, 128)       512       \n",
            "_________________________________________________________________\n",
            "activation_10 (Activation)   (None, 44, 44, 128)       0         \n",
            "_________________________________________________________________\n",
            "max_pooling2d_5 (MaxPooling2 (None, 22, 22, 128)       0         \n",
            "_________________________________________________________________\n",
            "conv2d_11 (Conv2D)           (None, 20, 20, 256)       295168    \n",
            "_________________________________________________________________\n",
            "batch_normalization_11 (Batc (None, 20, 20, 256)       1024      \n",
            "_________________________________________________________________\n",
            "activation_11 (Activation)   (None, 20, 20, 256)       0         \n",
            "_________________________________________________________________\n",
            "conv2d_12 (Conv2D)           (None, 18, 18, 512)       1180160   \n",
            "_________________________________________________________________\n",
            "batch_normalization_12 (Batc (None, 18, 18, 512)       2048      \n",
            "_________________________________________________________________\n",
            "activation_12 (Activation)   (None, 18, 18, 512)       0         \n",
            "_________________________________________________________________\n",
            "max_pooling2d_6 (MaxPooling2 (None, 9, 9, 512)         0         \n",
            "_________________________________________________________________\n",
            "flatten_2 (Flatten)          (None, 41472)             0         \n",
            "_________________________________________________________________\n",
            "dense_4 (Dense)              (None, 128)               5308544   \n",
            "_________________________________________________________________\n",
            "dense_5 (Dense)              (None, 64)                8256      \n",
            "_________________________________________________________________\n",
            "dense_6 (Dense)              (None, 28)                1820      \n",
            "=================================================================\n",
            "Total params: 6,895,420\n",
            "Trainable params: 6,893,404\n",
            "Non-trainable params: 2,016\n",
            "_________________________________________________________________\n"
          ],
          "name": "stdout"
        }
      ]
    },
    {
      "metadata": {
        "id": "_BU-ZYDwUot2",
        "colab_type": "code",
        "colab": {}
      },
      "cell_type": "code",
      "source": [
        "from sklearn.model_selection import train_test_split"
      ],
      "execution_count": 0,
      "outputs": []
    },
    {
      "metadata": {
        "id": "9JVxcOXoUouC",
        "colab_type": "code",
        "colab": {
          "base_uri": "https://localhost:8080/",
          "height": 119
        },
        "outputId": "c5f3dbbe-2945-4767-a71a-e10c406438e2"
      },
      "cell_type": "code",
      "source": [
        "X_train, X_test, y_train, y_test, shape_train, shape_test = train_test_split(images, points, shapes, test_size=0.1)\n",
        "X_train.shape, X_test.shape, y_train.shape, y_test.shape, shape_train.shape, shape_test.shape"
      ],
      "execution_count": 16,
      "outputs": [
        {
          "output_type": "execute_result",
          "data": {
            "text/plain": [
              "((5400, 100, 100, 3),\n",
              " (600, 100, 100, 3),\n",
              " (5400, 28),\n",
              " (600, 28),\n",
              " (5400, 2),\n",
              " (600, 2))"
            ]
          },
          "metadata": {
            "tags": []
          },
          "execution_count": 16
        }
      ]
    },
    {
      "metadata": {
        "id": "GdyfLaWUU1KT",
        "colab_type": "code",
        "colab": {}
      },
      "cell_type": "code",
      "source": [
        "model.compile(keras.optimizers.Adam(), loss='mse')"
      ],
      "execution_count": 0,
      "outputs": []
    },
    {
      "metadata": {
        "id": "XuRfD4FuUouM",
        "colab_type": "code",
        "colab": {
          "base_uri": "https://localhost:8080/",
          "height": 4131
        },
        "outputId": "aedb1086-5cc9-4689-a41d-f3e5aee6bc77"
      },
      "cell_type": "code",
      "source": [
        "model.fit(X_train, y_train, batch_size=512, epochs=120, verbose=1, validation_data=(X_test, y_test))"
      ],
      "execution_count": 22,
      "outputs": [
        {
          "output_type": "stream",
          "text": [
            "Train on 5400 samples, validate on 600 samples\n",
            "Epoch 1/120\n",
            "5400/5400 [==============================] - 16s 3ms/step - loss: 906.4968 - val_loss: 746.0026\n",
            "Epoch 2/120\n",
            "5400/5400 [==============================] - 14s 3ms/step - loss: 79.9755 - val_loss: 6981.2945\n",
            "Epoch 3/120\n",
            "5400/5400 [==============================] - 14s 3ms/step - loss: 49.3604 - val_loss: 2067.8841\n",
            "Epoch 4/120\n",
            "5400/5400 [==============================] - 14s 3ms/step - loss: 29.9928 - val_loss: 269.9079\n",
            "Epoch 5/120\n",
            "5400/5400 [==============================] - 14s 3ms/step - loss: 26.5375 - val_loss: 87.5270\n",
            "Epoch 6/120\n",
            "5400/5400 [==============================] - 14s 3ms/step - loss: 24.0723 - val_loss: 40.6648\n",
            "Epoch 7/120\n",
            "5400/5400 [==============================] - 14s 3ms/step - loss: 22.9692 - val_loss: 32.0953\n",
            "Epoch 8/120\n",
            "5400/5400 [==============================] - 14s 3ms/step - loss: 22.1295 - val_loss: 27.9786\n",
            "Epoch 9/120\n",
            "5400/5400 [==============================] - 14s 3ms/step - loss: 21.5221 - val_loss: 28.0149\n",
            "Epoch 10/120\n",
            "5400/5400 [==============================] - 14s 3ms/step - loss: 20.9491 - val_loss: 29.3868\n",
            "Epoch 11/120\n",
            "5400/5400 [==============================] - 14s 3ms/step - loss: 20.4249 - val_loss: 28.9214\n",
            "Epoch 12/120\n",
            "5400/5400 [==============================] - 14s 3ms/step - loss: 19.9556 - val_loss: 27.6430\n",
            "Epoch 13/120\n",
            "5400/5400 [==============================] - 14s 3ms/step - loss: 19.5881 - val_loss: 30.5356\n",
            "Epoch 14/120\n",
            "5400/5400 [==============================] - 14s 3ms/step - loss: 19.1392 - val_loss: 27.4871\n",
            "Epoch 15/120\n",
            "5400/5400 [==============================] - 14s 3ms/step - loss: 18.9447 - val_loss: 24.0358\n",
            "Epoch 16/120\n",
            "5400/5400 [==============================] - 14s 3ms/step - loss: 18.8352 - val_loss: 30.0509\n",
            "Epoch 17/120\n",
            "5400/5400 [==============================] - 14s 3ms/step - loss: 18.1812 - val_loss: 29.9624\n",
            "Epoch 18/120\n",
            "5400/5400 [==============================] - 14s 3ms/step - loss: 17.6467 - val_loss: 34.3230\n",
            "Epoch 19/120\n",
            "5400/5400 [==============================] - 14s 3ms/step - loss: 17.3148 - val_loss: 37.9376\n",
            "Epoch 20/120\n",
            "5400/5400 [==============================] - 14s 3ms/step - loss: 16.8988 - val_loss: 33.5619\n",
            "Epoch 21/120\n",
            "5400/5400 [==============================] - 14s 3ms/step - loss: 16.6110 - val_loss: 44.6191\n",
            "Epoch 22/120\n",
            "5400/5400 [==============================] - 14s 3ms/step - loss: 16.2018 - val_loss: 39.1364\n",
            "Epoch 23/120\n",
            "5400/5400 [==============================] - 14s 3ms/step - loss: 15.9432 - val_loss: 41.8397\n",
            "Epoch 24/120\n",
            "5400/5400 [==============================] - 14s 3ms/step - loss: 15.5902 - val_loss: 45.9109\n",
            "Epoch 25/120\n",
            "5400/5400 [==============================] - 14s 3ms/step - loss: 15.4052 - val_loss: 45.5082\n",
            "Epoch 26/120\n",
            "5400/5400 [==============================] - 14s 3ms/step - loss: 15.1874 - val_loss: 46.1730\n",
            "Epoch 27/120\n",
            "5400/5400 [==============================] - 14s 3ms/step - loss: 14.7479 - val_loss: 52.4740\n",
            "Epoch 28/120\n",
            "5400/5400 [==============================] - 14s 3ms/step - loss: 14.3369 - val_loss: 50.0231\n",
            "Epoch 29/120\n",
            "5400/5400 [==============================] - 14s 3ms/step - loss: 14.0043 - val_loss: 51.9086\n",
            "Epoch 30/120\n",
            "5400/5400 [==============================] - 14s 3ms/step - loss: 13.9994 - val_loss: 64.7191\n",
            "Epoch 31/120\n",
            "5400/5400 [==============================] - 14s 3ms/step - loss: 14.0303 - val_loss: 72.4947\n",
            "Epoch 32/120\n",
            "5400/5400 [==============================] - 14s 3ms/step - loss: 13.4791 - val_loss: 65.7308\n",
            "Epoch 33/120\n",
            "5400/5400 [==============================] - 14s 3ms/step - loss: 12.9879 - val_loss: 67.8199\n",
            "Epoch 34/120\n",
            "5400/5400 [==============================] - 14s 3ms/step - loss: 12.5119 - val_loss: 61.9889\n",
            "Epoch 35/120\n",
            "5400/5400 [==============================] - 14s 3ms/step - loss: 12.2152 - val_loss: 69.6951\n",
            "Epoch 36/120\n",
            "5400/5400 [==============================] - 14s 3ms/step - loss: 11.9130 - val_loss: 75.1977\n",
            "Epoch 37/120\n",
            "5400/5400 [==============================] - 14s 3ms/step - loss: 11.6119 - val_loss: 70.2856\n",
            "Epoch 38/120\n",
            "5400/5400 [==============================] - 14s 3ms/step - loss: 11.3228 - val_loss: 63.3552\n",
            "Epoch 39/120\n",
            "5400/5400 [==============================] - 14s 3ms/step - loss: 11.0953 - val_loss: 62.8905\n",
            "Epoch 40/120\n",
            "5400/5400 [==============================] - 14s 3ms/step - loss: 10.7739 - val_loss: 61.2574\n",
            "Epoch 41/120\n",
            "5400/5400 [==============================] - 14s 3ms/step - loss: 10.5546 - val_loss: 63.9641\n",
            "Epoch 42/120\n",
            "5400/5400 [==============================] - 14s 3ms/step - loss: 10.4949 - val_loss: 70.5522\n",
            "Epoch 43/120\n",
            "5400/5400 [==============================] - 14s 3ms/step - loss: 10.4549 - val_loss: 54.4021\n",
            "Epoch 44/120\n",
            "5400/5400 [==============================] - 14s 3ms/step - loss: 10.2589 - val_loss: 55.5045\n",
            "Epoch 45/120\n",
            "5400/5400 [==============================] - 14s 3ms/step - loss: 10.6061 - val_loss: 42.1759\n",
            "Epoch 46/120\n",
            "5400/5400 [==============================] - 14s 3ms/step - loss: 9.5179 - val_loss: 44.3036\n",
            "Epoch 47/120\n",
            "5400/5400 [==============================] - 14s 3ms/step - loss: 9.4522 - val_loss: 43.2383\n",
            "Epoch 48/120\n",
            "5400/5400 [==============================] - 14s 3ms/step - loss: 9.3683 - val_loss: 51.6961\n",
            "Epoch 49/120\n",
            "5400/5400 [==============================] - 14s 3ms/step - loss: 9.0340 - val_loss: 46.3197\n",
            "Epoch 50/120\n",
            "5400/5400 [==============================] - 14s 3ms/step - loss: 8.7158 - val_loss: 41.4155\n",
            "Epoch 51/120\n",
            "5400/5400 [==============================] - 14s 3ms/step - loss: 8.0864 - val_loss: 42.8793\n",
            "Epoch 52/120\n",
            "5400/5400 [==============================] - 14s 3ms/step - loss: 8.1167 - val_loss: 43.0720\n",
            "Epoch 53/120\n",
            "5400/5400 [==============================] - 14s 3ms/step - loss: 7.5279 - val_loss: 37.5042\n",
            "Epoch 54/120\n",
            "5400/5400 [==============================] - 14s 3ms/step - loss: 7.2829 - val_loss: 43.3142\n",
            "Epoch 55/120\n",
            "5400/5400 [==============================] - 14s 3ms/step - loss: 7.4719 - val_loss: 32.0106\n",
            "Epoch 56/120\n",
            "5400/5400 [==============================] - 14s 3ms/step - loss: 6.5732 - val_loss: 40.5906\n",
            "Epoch 57/120\n",
            "5400/5400 [==============================] - 14s 3ms/step - loss: 6.4437 - val_loss: 23.2846\n",
            "Epoch 58/120\n",
            "5400/5400 [==============================] - 14s 3ms/step - loss: 6.7107 - val_loss: 30.6661\n",
            "Epoch 59/120\n",
            "5400/5400 [==============================] - 14s 3ms/step - loss: 6.0356 - val_loss: 18.2039\n",
            "Epoch 60/120\n",
            "5400/5400 [==============================] - 14s 3ms/step - loss: 5.4700 - val_loss: 24.3574\n",
            "Epoch 61/120\n",
            "5400/5400 [==============================] - 14s 3ms/step - loss: 5.1816 - val_loss: 25.5697\n",
            "Epoch 62/120\n",
            "5400/5400 [==============================] - 14s 3ms/step - loss: 5.0450 - val_loss: 21.0943\n",
            "Epoch 63/120\n",
            "5400/5400 [==============================] - 14s 3ms/step - loss: 4.9856 - val_loss: 19.8442\n",
            "Epoch 64/120\n",
            "5400/5400 [==============================] - 14s 3ms/step - loss: 6.1877 - val_loss: 18.9232\n",
            "Epoch 65/120\n",
            "5400/5400 [==============================] - 14s 3ms/step - loss: 5.4766 - val_loss: 16.2694\n",
            "Epoch 66/120\n",
            "5400/5400 [==============================] - 14s 3ms/step - loss: 4.8425 - val_loss: 17.1163\n",
            "Epoch 67/120\n",
            "5400/5400 [==============================] - 14s 3ms/step - loss: 4.8116 - val_loss: 12.6957\n",
            "Epoch 68/120\n",
            "5400/5400 [==============================] - 14s 3ms/step - loss: 4.4638 - val_loss: 17.0229\n",
            "Epoch 69/120\n",
            "5400/5400 [==============================] - 14s 3ms/step - loss: 4.5189 - val_loss: 13.8272\n",
            "Epoch 70/120\n",
            "5400/5400 [==============================] - 14s 3ms/step - loss: 4.5962 - val_loss: 14.3636\n",
            "Epoch 71/120\n",
            "5400/5400 [==============================] - 14s 3ms/step - loss: 4.3232 - val_loss: 12.4839\n",
            "Epoch 72/120\n",
            "5400/5400 [==============================] - 14s 3ms/step - loss: 5.0922 - val_loss: 11.5686\n",
            "Epoch 73/120\n",
            "5400/5400 [==============================] - 14s 3ms/step - loss: 4.6805 - val_loss: 17.0064\n",
            "Epoch 74/120\n",
            "5400/5400 [==============================] - 14s 3ms/step - loss: 4.5457 - val_loss: 13.6456\n",
            "Epoch 75/120\n",
            "5400/5400 [==============================] - 14s 3ms/step - loss: 4.2758 - val_loss: 15.5970\n",
            "Epoch 76/120\n",
            "5400/5400 [==============================] - 14s 3ms/step - loss: 3.9727 - val_loss: 12.0565\n",
            "Epoch 77/120\n",
            "5400/5400 [==============================] - 14s 3ms/step - loss: 4.2642 - val_loss: 11.7085\n",
            "Epoch 78/120\n",
            "5400/5400 [==============================] - 14s 3ms/step - loss: 4.5079 - val_loss: 12.1721\n",
            "Epoch 79/120\n",
            "5400/5400 [==============================] - 14s 3ms/step - loss: 4.6232 - val_loss: 11.4976\n",
            "Epoch 80/120\n",
            "5400/5400 [==============================] - 14s 3ms/step - loss: 4.2566 - val_loss: 12.5611\n",
            "Epoch 81/120\n",
            "5400/5400 [==============================] - 14s 3ms/step - loss: 3.9523 - val_loss: 11.1512\n",
            "Epoch 82/120\n",
            "5400/5400 [==============================] - 14s 3ms/step - loss: 3.6453 - val_loss: 11.8669\n",
            "Epoch 83/120\n",
            "5400/5400 [==============================] - 14s 3ms/step - loss: 3.8591 - val_loss: 11.7819\n",
            "Epoch 84/120\n",
            "5400/5400 [==============================] - 14s 3ms/step - loss: 3.7360 - val_loss: 11.9430\n",
            "Epoch 85/120\n",
            "5400/5400 [==============================] - 14s 3ms/step - loss: 3.7964 - val_loss: 11.5401\n",
            "Epoch 86/120\n",
            "5400/5400 [==============================] - 14s 3ms/step - loss: 3.9117 - val_loss: 12.3157\n",
            "Epoch 87/120\n",
            "5400/5400 [==============================] - 14s 3ms/step - loss: 3.9308 - val_loss: 11.6821\n",
            "Epoch 88/120\n",
            "5400/5400 [==============================] - 14s 3ms/step - loss: 3.9670 - val_loss: 11.3744\n",
            "Epoch 89/120\n",
            "5400/5400 [==============================] - 14s 3ms/step - loss: 3.6247 - val_loss: 12.1237\n",
            "Epoch 90/120\n",
            "5400/5400 [==============================] - 14s 3ms/step - loss: 3.6778 - val_loss: 11.3305\n",
            "Epoch 91/120\n",
            "5400/5400 [==============================] - 14s 3ms/step - loss: 3.6571 - val_loss: 11.2871\n",
            "Epoch 92/120\n",
            "5400/5400 [==============================] - 14s 3ms/step - loss: 3.5220 - val_loss: 11.6655\n",
            "Epoch 93/120\n",
            "5400/5400 [==============================] - 14s 3ms/step - loss: 3.5160 - val_loss: 11.7037\n",
            "Epoch 94/120\n",
            "5400/5400 [==============================] - 14s 3ms/step - loss: 3.9786 - val_loss: 11.5130\n",
            "Epoch 95/120\n",
            "5400/5400 [==============================] - 14s 3ms/step - loss: 3.8017 - val_loss: 12.0216\n",
            "Epoch 96/120\n",
            "5400/5400 [==============================] - 14s 3ms/step - loss: 3.6253 - val_loss: 10.9589\n",
            "Epoch 97/120\n",
            "5400/5400 [==============================] - 14s 3ms/step - loss: 3.4728 - val_loss: 10.8874\n",
            "Epoch 98/120\n",
            "5400/5400 [==============================] - 14s 3ms/step - loss: 3.1440 - val_loss: 10.8040\n",
            "Epoch 99/120\n",
            "5400/5400 [==============================] - 14s 3ms/step - loss: 3.2066 - val_loss: 11.0233\n",
            "Epoch 100/120\n",
            "5400/5400 [==============================] - 14s 3ms/step - loss: 3.3491 - val_loss: 11.6607\n",
            "Epoch 101/120\n",
            "5400/5400 [==============================] - 14s 3ms/step - loss: 4.2573 - val_loss: 11.7684\n",
            "Epoch 102/120\n",
            "5400/5400 [==============================] - 14s 3ms/step - loss: 3.6477 - val_loss: 11.5447\n",
            "Epoch 103/120\n",
            "5400/5400 [==============================] - 14s 3ms/step - loss: 3.3176 - val_loss: 11.3809\n",
            "Epoch 104/120\n",
            "5400/5400 [==============================] - 14s 3ms/step - loss: 3.2560 - val_loss: 10.9846\n",
            "Epoch 105/120\n",
            "5400/5400 [==============================] - 14s 3ms/step - loss: 3.0285 - val_loss: 11.7268\n",
            "Epoch 106/120\n",
            "5400/5400 [==============================] - 14s 3ms/step - loss: 3.2403 - val_loss: 11.6063\n",
            "Epoch 107/120\n",
            "5400/5400 [==============================] - 14s 3ms/step - loss: 4.6254 - val_loss: 13.6624\n",
            "Epoch 108/120\n",
            "5400/5400 [==============================] - 14s 3ms/step - loss: 3.3984 - val_loss: 10.7158\n",
            "Epoch 109/120\n",
            "5400/5400 [==============================] - 14s 3ms/step - loss: 3.0314 - val_loss: 11.4824\n",
            "Epoch 110/120\n",
            "5400/5400 [==============================] - 14s 3ms/step - loss: 2.8627 - val_loss: 10.7725\n",
            "Epoch 111/120\n",
            "5400/5400 [==============================] - 14s 3ms/step - loss: 2.9576 - val_loss: 10.9344\n",
            "Epoch 112/120\n",
            "5400/5400 [==============================] - 14s 3ms/step - loss: 2.9723 - val_loss: 12.1311\n",
            "Epoch 113/120\n",
            "5400/5400 [==============================] - 14s 3ms/step - loss: 3.0191 - val_loss: 10.7683\n",
            "Epoch 114/120\n",
            "5400/5400 [==============================] - 14s 3ms/step - loss: 2.8846 - val_loss: 10.6722\n",
            "Epoch 115/120\n",
            "5400/5400 [==============================] - 14s 3ms/step - loss: 2.7743 - val_loss: 10.9747\n",
            "Epoch 116/120\n",
            "5400/5400 [==============================] - 14s 3ms/step - loss: 2.9964 - val_loss: 11.7896\n",
            "Epoch 117/120\n",
            "5400/5400 [==============================] - 14s 3ms/step - loss: 3.2798 - val_loss: 11.3675\n",
            "Epoch 118/120\n",
            "5400/5400 [==============================] - 14s 3ms/step - loss: 2.8713 - val_loss: 10.6177\n",
            "Epoch 119/120\n",
            "5400/5400 [==============================] - 14s 3ms/step - loss: 2.7152 - val_loss: 10.6870\n",
            "Epoch 120/120\n",
            "5400/5400 [==============================] - 14s 3ms/step - loss: 3.7357 - val_loss: 14.5240\n"
          ],
          "name": "stdout"
        },
        {
          "output_type": "execute_result",
          "data": {
            "text/plain": [
              "<keras.callbacks.History at 0x7fcf14562d30>"
            ]
          },
          "metadata": {
            "tags": []
          },
          "execution_count": 22
        }
      ]
    },
    {
      "metadata": {
        "colab_type": "code",
        "outputId": "887e15f4-8105-4f69-c9a0-29792588839f",
        "id": "key4ZppYXch-",
        "colab": {
          "base_uri": "https://localhost:8080/",
          "height": 5028
        }
      },
      "cell_type": "code",
      "source": [
        "model.fit(X_train, y_train, batch_size=512, epochs=240, verbose=1, validation_data=(X_test, y_test), initial_epoch=120)"
      ],
      "execution_count": 19,
      "outputs": [
        {
          "output_type": "stream",
          "text": [
            "Train on 5400 samples, validate on 600 samples\n",
            "Epoch 121/240\n",
            "5400/5400 [==============================] - 14s 3ms/step - loss: 2.9775 - val_loss: 12.6330\n",
            "Epoch 122/240\n",
            "5400/5400 [==============================] - 14s 3ms/step - loss: 3.0225 - val_loss: 12.6021\n",
            "Epoch 123/240\n",
            "5400/5400 [==============================] - 14s 3ms/step - loss: 2.9944 - val_loss: 13.5605\n",
            "Epoch 124/240\n",
            "5400/5400 [==============================] - 14s 3ms/step - loss: 3.0323 - val_loss: 12.3422\n",
            "Epoch 125/240\n",
            "5400/5400 [==============================] - 14s 3ms/step - loss: 2.9250 - val_loss: 12.3138\n",
            "Epoch 126/240\n",
            "5400/5400 [==============================] - 14s 3ms/step - loss: 2.9259 - val_loss: 12.4471\n",
            "Epoch 127/240\n",
            "5400/5400 [==============================] - 14s 3ms/step - loss: 2.8935 - val_loss: 12.5576\n",
            "Epoch 128/240\n",
            "5400/5400 [==============================] - 14s 3ms/step - loss: 2.8427 - val_loss: 12.4503\n",
            "Epoch 129/240\n",
            "5400/5400 [==============================] - 14s 3ms/step - loss: 2.9897 - val_loss: 12.6378\n",
            "Epoch 130/240\n",
            "5400/5400 [==============================] - 14s 3ms/step - loss: 3.0241 - val_loss: 12.6852\n",
            "Epoch 131/240\n",
            "5400/5400 [==============================] - 14s 3ms/step - loss: 2.8525 - val_loss: 12.6551\n",
            "Epoch 132/240\n",
            "5400/5400 [==============================] - 14s 3ms/step - loss: 2.8023 - val_loss: 12.7773\n",
            "Epoch 133/240\n",
            "5400/5400 [==============================] - 14s 3ms/step - loss: 2.7553 - val_loss: 12.4505\n",
            "Epoch 134/240\n",
            "5400/5400 [==============================] - 14s 3ms/step - loss: 2.7575 - val_loss: 12.3844\n",
            "Epoch 135/240\n",
            "5400/5400 [==============================] - 14s 3ms/step - loss: 2.8610 - val_loss: 12.3684\n",
            "Epoch 136/240\n",
            "5400/5400 [==============================] - 14s 3ms/step - loss: 2.8020 - val_loss: 12.5150\n",
            "Epoch 137/240\n",
            "5400/5400 [==============================] - 14s 3ms/step - loss: 2.7026 - val_loss: 12.4852\n",
            "Epoch 138/240\n",
            "5400/5400 [==============================] - 14s 3ms/step - loss: 2.7181 - val_loss: 12.5998\n",
            "Epoch 139/240\n",
            "5400/5400 [==============================] - 14s 3ms/step - loss: 2.7184 - val_loss: 12.5112\n",
            "Epoch 140/240\n",
            "5400/5400 [==============================] - 14s 3ms/step - loss: 2.7009 - val_loss: 12.3632\n",
            "Epoch 141/240\n",
            "5400/5400 [==============================] - 14s 3ms/step - loss: 2.6315 - val_loss: 12.4319\n",
            "Epoch 142/240\n",
            "5400/5400 [==============================] - 14s 3ms/step - loss: 2.6159 - val_loss: 12.4705\n",
            "Epoch 143/240\n",
            "5400/5400 [==============================] - 14s 3ms/step - loss: 2.6694 - val_loss: 12.3957\n",
            "Epoch 144/240\n",
            "5400/5400 [==============================] - 14s 3ms/step - loss: 2.5714 - val_loss: 12.6794\n",
            "Epoch 145/240\n",
            "5400/5400 [==============================] - 14s 3ms/step - loss: 2.5773 - val_loss: 12.8222\n",
            "Epoch 146/240\n",
            "5400/5400 [==============================] - 14s 3ms/step - loss: 2.6318 - val_loss: 12.3126\n",
            "Epoch 147/240\n",
            "5400/5400 [==============================] - 14s 3ms/step - loss: 2.6203 - val_loss: 12.3789\n",
            "Epoch 148/240\n",
            "5400/5400 [==============================] - 14s 3ms/step - loss: 2.4996 - val_loss: 12.2818\n",
            "Epoch 149/240\n",
            "5400/5400 [==============================] - 14s 3ms/step - loss: 2.4822 - val_loss: 12.2782\n",
            "Epoch 150/240\n",
            "5400/5400 [==============================] - 14s 3ms/step - loss: 2.5026 - val_loss: 12.5045\n",
            "Epoch 151/240\n",
            "5400/5400 [==============================] - 14s 3ms/step - loss: 2.4496 - val_loss: 12.4699\n",
            "Epoch 152/240\n",
            "5400/5400 [==============================] - 14s 3ms/step - loss: 2.4384 - val_loss: 13.1706\n",
            "Epoch 153/240\n",
            "5400/5400 [==============================] - 14s 3ms/step - loss: 2.4576 - val_loss: 12.2516\n",
            "Epoch 154/240\n",
            "5400/5400 [==============================] - 14s 3ms/step - loss: 2.4439 - val_loss: 12.5990\n",
            "Epoch 155/240\n",
            "5400/5400 [==============================] - 14s 3ms/step - loss: 2.4173 - val_loss: 12.1995\n",
            "Epoch 156/240\n",
            "5400/5400 [==============================] - 14s 3ms/step - loss: 2.4035 - val_loss: 12.6188\n",
            "Epoch 157/240\n",
            "5400/5400 [==============================] - 14s 3ms/step - loss: 2.5652 - val_loss: 12.5804\n",
            "Epoch 158/240\n",
            "5400/5400 [==============================] - 14s 3ms/step - loss: 2.3979 - val_loss: 12.3745\n",
            "Epoch 159/240\n",
            "5400/5400 [==============================] - 14s 3ms/step - loss: 2.4302 - val_loss: 12.7247\n",
            "Epoch 160/240\n",
            "5400/5400 [==============================] - 14s 3ms/step - loss: 2.3206 - val_loss: 12.3926\n",
            "Epoch 161/240\n",
            "5400/5400 [==============================] - 14s 3ms/step - loss: 2.3101 - val_loss: 12.3244\n",
            "Epoch 162/240\n",
            "5400/5400 [==============================] - 14s 3ms/step - loss: 2.5170 - val_loss: 12.5181\n",
            "Epoch 163/240\n",
            "5400/5400 [==============================] - 14s 3ms/step - loss: 2.5499 - val_loss: 12.8247\n",
            "Epoch 164/240\n",
            "5400/5400 [==============================] - 14s 3ms/step - loss: 2.4684 - val_loss: 12.4194\n",
            "Epoch 165/240\n",
            "5400/5400 [==============================] - 14s 3ms/step - loss: 2.2704 - val_loss: 12.8439\n",
            "Epoch 166/240\n",
            "5400/5400 [==============================] - 14s 3ms/step - loss: 2.2781 - val_loss: 13.7366\n",
            "Epoch 167/240\n",
            "5400/5400 [==============================] - 14s 3ms/step - loss: 2.2707 - val_loss: 12.8270\n",
            "Epoch 168/240\n",
            "5400/5400 [==============================] - 14s 3ms/step - loss: 2.2313 - val_loss: 12.4759\n",
            "Epoch 169/240\n",
            "5400/5400 [==============================] - 14s 3ms/step - loss: 2.1989 - val_loss: 12.4184\n",
            "Epoch 170/240\n",
            "5400/5400 [==============================] - 14s 3ms/step - loss: 2.2976 - val_loss: 12.3779\n",
            "Epoch 171/240\n",
            "5400/5400 [==============================] - 14s 3ms/step - loss: 2.2783 - val_loss: 12.3322\n",
            "Epoch 172/240\n",
            "5400/5400 [==============================] - 14s 3ms/step - loss: 2.3353 - val_loss: 12.5218\n",
            "Epoch 173/240\n",
            "5400/5400 [==============================] - 14s 3ms/step - loss: 2.2670 - val_loss: 12.2123\n",
            "Epoch 174/240\n",
            "5400/5400 [==============================] - 14s 3ms/step - loss: 2.3084 - val_loss: 13.7882\n",
            "Epoch 175/240\n",
            "5400/5400 [==============================] - 14s 3ms/step - loss: 2.2533 - val_loss: 12.5768\n",
            "Epoch 176/240\n",
            "5400/5400 [==============================] - 14s 3ms/step - loss: 2.1722 - val_loss: 12.2844\n",
            "Epoch 177/240\n",
            "5400/5400 [==============================] - 14s 3ms/step - loss: 2.1152 - val_loss: 12.3197\n",
            "Epoch 178/240\n",
            "5400/5400 [==============================] - 14s 3ms/step - loss: 2.1283 - val_loss: 12.9678\n",
            "Epoch 179/240\n",
            "5400/5400 [==============================] - 14s 3ms/step - loss: 2.1082 - val_loss: 12.2671\n",
            "Epoch 180/240\n",
            "5400/5400 [==============================] - 14s 3ms/step - loss: 2.0778 - val_loss: 12.2173\n",
            "Epoch 181/240\n",
            "5400/5400 [==============================] - 14s 3ms/step - loss: 2.1105 - val_loss: 12.4490\n",
            "Epoch 182/240\n",
            "5400/5400 [==============================] - 14s 3ms/step - loss: 2.0708 - val_loss: 12.1788\n",
            "Epoch 183/240\n",
            "5400/5400 [==============================] - 14s 3ms/step - loss: 2.0570 - val_loss: 12.2313\n",
            "Epoch 184/240\n",
            "5400/5400 [==============================] - 14s 3ms/step - loss: 2.1679 - val_loss: 12.5788\n",
            "Epoch 185/240\n",
            "5400/5400 [==============================] - 14s 3ms/step - loss: 2.1243 - val_loss: 12.3858\n",
            "Epoch 186/240\n",
            "5400/5400 [==============================] - 14s 3ms/step - loss: 2.0568 - val_loss: 12.8682\n",
            "Epoch 187/240\n",
            "5400/5400 [==============================] - 14s 3ms/step - loss: 2.0934 - val_loss: 12.6507\n",
            "Epoch 188/240\n",
            "5400/5400 [==============================] - 14s 3ms/step - loss: 2.1131 - val_loss: 12.2142\n",
            "Epoch 189/240\n",
            "5400/5400 [==============================] - 14s 3ms/step - loss: 2.0439 - val_loss: 12.3278\n",
            "Epoch 190/240\n",
            "5400/5400 [==============================] - 14s 3ms/step - loss: 1.9926 - val_loss: 12.9814\n",
            "Epoch 191/240\n",
            "5400/5400 [==============================] - 14s 3ms/step - loss: 2.1185 - val_loss: 12.5914\n",
            "Epoch 192/240\n",
            "5400/5400 [==============================] - 14s 3ms/step - loss: 2.1788 - val_loss: 12.9291\n",
            "Epoch 193/240\n",
            "5400/5400 [==============================] - 14s 3ms/step - loss: 2.1123 - val_loss: 12.1736\n",
            "Epoch 194/240\n",
            "5400/5400 [==============================] - 14s 3ms/step - loss: 1.9437 - val_loss: 12.2273\n",
            "Epoch 195/240\n",
            "5400/5400 [==============================] - 14s 3ms/step - loss: 2.0520 - val_loss: 12.3094\n",
            "Epoch 196/240\n",
            "5400/5400 [==============================] - 14s 3ms/step - loss: 1.9768 - val_loss: 12.4949\n",
            "Epoch 197/240\n",
            "5400/5400 [==============================] - 14s 3ms/step - loss: 1.9469 - val_loss: 12.2851\n",
            "Epoch 198/240\n",
            "5400/5400 [==============================] - 14s 3ms/step - loss: 1.9709 - val_loss: 12.2098\n",
            "Epoch 199/240\n",
            "5400/5400 [==============================] - 14s 3ms/step - loss: 1.9725 - val_loss: 12.1813\n",
            "Epoch 200/240\n",
            "5400/5400 [==============================] - 14s 3ms/step - loss: 1.9871 - val_loss: 12.3954\n",
            "Epoch 201/240\n",
            "5400/5400 [==============================] - 14s 3ms/step - loss: 1.9221 - val_loss: 12.1494\n",
            "Epoch 202/240\n",
            "5400/5400 [==============================] - 14s 3ms/step - loss: 1.9073 - val_loss: 12.1864\n",
            "Epoch 203/240\n",
            "5400/5400 [==============================] - 14s 3ms/step - loss: 1.8918 - val_loss: 12.2712\n",
            "Epoch 204/240\n",
            "5400/5400 [==============================] - 14s 3ms/step - loss: 1.9235 - val_loss: 12.1199\n",
            "Epoch 205/240\n",
            "5400/5400 [==============================] - 14s 3ms/step - loss: 1.9640 - val_loss: 12.5371\n",
            "Epoch 206/240\n",
            "5400/5400 [==============================] - 14s 3ms/step - loss: 2.0237 - val_loss: 12.5959\n",
            "Epoch 207/240\n",
            "5400/5400 [==============================] - 14s 3ms/step - loss: 2.0388 - val_loss: 12.8001\n",
            "Epoch 208/240\n",
            "5400/5400 [==============================] - 14s 3ms/step - loss: 1.9080 - val_loss: 12.3380\n",
            "Epoch 209/240\n",
            "5400/5400 [==============================] - 14s 3ms/step - loss: 1.8569 - val_loss: 13.1164\n",
            "Epoch 210/240\n",
            "5400/5400 [==============================] - 14s 3ms/step - loss: 1.8789 - val_loss: 13.0244\n",
            "Epoch 211/240\n",
            "5400/5400 [==============================] - 14s 3ms/step - loss: 1.8553 - val_loss: 12.2204\n",
            "Epoch 212/240\n",
            "5400/5400 [==============================] - 14s 3ms/step - loss: 1.9085 - val_loss: 12.3546\n",
            "Epoch 213/240\n",
            "5400/5400 [==============================] - 14s 3ms/step - loss: 1.8881 - val_loss: 12.3293\n",
            "Epoch 214/240\n",
            "5400/5400 [==============================] - 14s 3ms/step - loss: 1.8744 - val_loss: 12.2201\n",
            "Epoch 215/240\n",
            "5400/5400 [==============================] - 14s 3ms/step - loss: 1.9046 - val_loss: 12.6193\n",
            "Epoch 216/240\n",
            "5400/5400 [==============================] - 14s 3ms/step - loss: 1.8070 - val_loss: 12.7174\n",
            "Epoch 217/240\n",
            "5400/5400 [==============================] - 14s 3ms/step - loss: 1.7446 - val_loss: 12.1674\n",
            "Epoch 218/240\n",
            "5400/5400 [==============================] - 14s 3ms/step - loss: 1.7220 - val_loss: 12.1525\n",
            "Epoch 219/240\n",
            "5400/5400 [==============================] - 14s 3ms/step - loss: 1.8691 - val_loss: 12.3131\n",
            "Epoch 220/240\n",
            "5400/5400 [==============================] - 14s 3ms/step - loss: 1.8475 - val_loss: 13.0522\n",
            "Epoch 221/240\n",
            "5400/5400 [==============================] - 14s 3ms/step - loss: 1.7907 - val_loss: 12.1002\n",
            "Epoch 222/240\n",
            "5400/5400 [==============================] - 14s 3ms/step - loss: 1.7755 - val_loss: 12.3958\n",
            "Epoch 223/240\n",
            "5400/5400 [==============================] - 14s 3ms/step - loss: 1.8049 - val_loss: 12.2205\n",
            "Epoch 224/240\n",
            "5400/5400 [==============================] - 14s 3ms/step - loss: 1.7457 - val_loss: 12.0811\n",
            "Epoch 225/240\n",
            "5400/5400 [==============================] - 14s 3ms/step - loss: 1.8280 - val_loss: 12.7710\n",
            "Epoch 226/240\n",
            "5400/5400 [==============================] - 14s 3ms/step - loss: 1.7524 - val_loss: 12.1782\n",
            "Epoch 227/240\n",
            "2048/5400 [==========>...................] - ETA: 8s - loss: 1.7526"
          ],
          "name": "stdout"
        },
        {
          "output_type": "error",
          "ename": "KeyboardInterrupt",
          "evalue": "ignored",
          "traceback": [
            "\u001b[0;31m---------------------------------------------------------------------------\u001b[0m",
            "\u001b[0;31mKeyboardInterrupt\u001b[0m                         Traceback (most recent call last)",
            "\u001b[0;32m<ipython-input-19-73acece3a4f2>\u001b[0m in \u001b[0;36m<module>\u001b[0;34m()\u001b[0m\n\u001b[0;32m----> 1\u001b[0;31m \u001b[0mmodel\u001b[0m\u001b[0;34m.\u001b[0m\u001b[0mfit\u001b[0m\u001b[0;34m(\u001b[0m\u001b[0mX_train\u001b[0m\u001b[0;34m,\u001b[0m \u001b[0my_train\u001b[0m\u001b[0;34m,\u001b[0m \u001b[0mbatch_size\u001b[0m\u001b[0;34m=\u001b[0m\u001b[0;36m512\u001b[0m\u001b[0;34m,\u001b[0m \u001b[0mepochs\u001b[0m\u001b[0;34m=\u001b[0m\u001b[0;36m240\u001b[0m\u001b[0;34m,\u001b[0m \u001b[0mverbose\u001b[0m\u001b[0;34m=\u001b[0m\u001b[0;36m1\u001b[0m\u001b[0;34m,\u001b[0m \u001b[0mvalidation_data\u001b[0m\u001b[0;34m=\u001b[0m\u001b[0;34m(\u001b[0m\u001b[0mX_test\u001b[0m\u001b[0;34m,\u001b[0m \u001b[0my_test\u001b[0m\u001b[0;34m)\u001b[0m\u001b[0;34m,\u001b[0m \u001b[0minitial_epoch\u001b[0m\u001b[0;34m=\u001b[0m\u001b[0;36m120\u001b[0m\u001b[0;34m)\u001b[0m\u001b[0;34m\u001b[0m\u001b[0m\n\u001b[0m",
            "\u001b[0;32m/usr/local/lib/python3.6/dist-packages/keras/models.py\u001b[0m in \u001b[0;36mfit\u001b[0;34m(self, x, y, batch_size, epochs, verbose, callbacks, validation_split, validation_data, shuffle, class_weight, sample_weight, initial_epoch, steps_per_epoch, validation_steps, **kwargs)\u001b[0m\n\u001b[1;32m   1000\u001b[0m                               \u001b[0minitial_epoch\u001b[0m\u001b[0;34m=\u001b[0m\u001b[0minitial_epoch\u001b[0m\u001b[0;34m,\u001b[0m\u001b[0;34m\u001b[0m\u001b[0m\n\u001b[1;32m   1001\u001b[0m                               \u001b[0msteps_per_epoch\u001b[0m\u001b[0;34m=\u001b[0m\u001b[0msteps_per_epoch\u001b[0m\u001b[0;34m,\u001b[0m\u001b[0;34m\u001b[0m\u001b[0m\n\u001b[0;32m-> 1002\u001b[0;31m                               validation_steps=validation_steps)\n\u001b[0m\u001b[1;32m   1003\u001b[0m \u001b[0;34m\u001b[0m\u001b[0m\n\u001b[1;32m   1004\u001b[0m     def evaluate(self, x=None, y=None,\n",
            "\u001b[0;32m/usr/local/lib/python3.6/dist-packages/keras/engine/training.py\u001b[0m in \u001b[0;36mfit\u001b[0;34m(self, x, y, batch_size, epochs, verbose, callbacks, validation_split, validation_data, shuffle, class_weight, sample_weight, initial_epoch, steps_per_epoch, validation_steps, **kwargs)\u001b[0m\n\u001b[1;32m   1703\u001b[0m                               \u001b[0minitial_epoch\u001b[0m\u001b[0;34m=\u001b[0m\u001b[0minitial_epoch\u001b[0m\u001b[0;34m,\u001b[0m\u001b[0;34m\u001b[0m\u001b[0m\n\u001b[1;32m   1704\u001b[0m                               \u001b[0msteps_per_epoch\u001b[0m\u001b[0;34m=\u001b[0m\u001b[0msteps_per_epoch\u001b[0m\u001b[0;34m,\u001b[0m\u001b[0;34m\u001b[0m\u001b[0m\n\u001b[0;32m-> 1705\u001b[0;31m                               validation_steps=validation_steps)\n\u001b[0m\u001b[1;32m   1706\u001b[0m \u001b[0;34m\u001b[0m\u001b[0m\n\u001b[1;32m   1707\u001b[0m     def evaluate(self, x=None, y=None,\n",
            "\u001b[0;32m/usr/local/lib/python3.6/dist-packages/keras/engine/training.py\u001b[0m in \u001b[0;36m_fit_loop\u001b[0;34m(self, f, ins, out_labels, batch_size, epochs, verbose, callbacks, val_f, val_ins, shuffle, callback_metrics, initial_epoch, steps_per_epoch, validation_steps)\u001b[0m\n\u001b[1;32m   1234\u001b[0m                         \u001b[0mins_batch\u001b[0m\u001b[0;34m[\u001b[0m\u001b[0mi\u001b[0m\u001b[0;34m]\u001b[0m \u001b[0;34m=\u001b[0m \u001b[0mins_batch\u001b[0m\u001b[0;34m[\u001b[0m\u001b[0mi\u001b[0m\u001b[0;34m]\u001b[0m\u001b[0;34m.\u001b[0m\u001b[0mtoarray\u001b[0m\u001b[0;34m(\u001b[0m\u001b[0;34m)\u001b[0m\u001b[0;34m\u001b[0m\u001b[0m\n\u001b[1;32m   1235\u001b[0m \u001b[0;34m\u001b[0m\u001b[0m\n\u001b[0;32m-> 1236\u001b[0;31m                     \u001b[0mouts\u001b[0m \u001b[0;34m=\u001b[0m \u001b[0mf\u001b[0m\u001b[0;34m(\u001b[0m\u001b[0mins_batch\u001b[0m\u001b[0;34m)\u001b[0m\u001b[0;34m\u001b[0m\u001b[0m\n\u001b[0m\u001b[1;32m   1237\u001b[0m                     \u001b[0;32mif\u001b[0m \u001b[0;32mnot\u001b[0m \u001b[0misinstance\u001b[0m\u001b[0;34m(\u001b[0m\u001b[0mouts\u001b[0m\u001b[0;34m,\u001b[0m \u001b[0mlist\u001b[0m\u001b[0;34m)\u001b[0m\u001b[0;34m:\u001b[0m\u001b[0;34m\u001b[0m\u001b[0m\n\u001b[1;32m   1238\u001b[0m                         \u001b[0mouts\u001b[0m \u001b[0;34m=\u001b[0m \u001b[0;34m[\u001b[0m\u001b[0mouts\u001b[0m\u001b[0;34m]\u001b[0m\u001b[0;34m\u001b[0m\u001b[0m\n",
            "\u001b[0;32m/usr/local/lib/python3.6/dist-packages/keras/backend/tensorflow_backend.py\u001b[0m in \u001b[0;36m__call__\u001b[0;34m(self, inputs)\u001b[0m\n\u001b[1;32m   2480\u001b[0m         \u001b[0msession\u001b[0m \u001b[0;34m=\u001b[0m \u001b[0mget_session\u001b[0m\u001b[0;34m(\u001b[0m\u001b[0;34m)\u001b[0m\u001b[0;34m\u001b[0m\u001b[0m\n\u001b[1;32m   2481\u001b[0m         updated = session.run(fetches=fetches, feed_dict=feed_dict,\n\u001b[0;32m-> 2482\u001b[0;31m                               **self.session_kwargs)\n\u001b[0m\u001b[1;32m   2483\u001b[0m         \u001b[0;32mreturn\u001b[0m \u001b[0mupdated\u001b[0m\u001b[0;34m[\u001b[0m\u001b[0;34m:\u001b[0m\u001b[0mlen\u001b[0m\u001b[0;34m(\u001b[0m\u001b[0mself\u001b[0m\u001b[0;34m.\u001b[0m\u001b[0moutputs\u001b[0m\u001b[0;34m)\u001b[0m\u001b[0;34m]\u001b[0m\u001b[0;34m\u001b[0m\u001b[0m\n\u001b[1;32m   2484\u001b[0m \u001b[0;34m\u001b[0m\u001b[0m\n",
            "\u001b[0;32m/usr/local/lib/python3.6/dist-packages/tensorflow/python/client/session.py\u001b[0m in \u001b[0;36mrun\u001b[0;34m(self, fetches, feed_dict, options, run_metadata)\u001b[0m\n\u001b[1;32m    927\u001b[0m     \u001b[0;32mtry\u001b[0m\u001b[0;34m:\u001b[0m\u001b[0;34m\u001b[0m\u001b[0m\n\u001b[1;32m    928\u001b[0m       result = self._run(None, fetches, feed_dict, options_ptr,\n\u001b[0;32m--> 929\u001b[0;31m                          run_metadata_ptr)\n\u001b[0m\u001b[1;32m    930\u001b[0m       \u001b[0;32mif\u001b[0m \u001b[0mrun_metadata\u001b[0m\u001b[0;34m:\u001b[0m\u001b[0;34m\u001b[0m\u001b[0m\n\u001b[1;32m    931\u001b[0m         \u001b[0mproto_data\u001b[0m \u001b[0;34m=\u001b[0m \u001b[0mtf_session\u001b[0m\u001b[0;34m.\u001b[0m\u001b[0mTF_GetBuffer\u001b[0m\u001b[0;34m(\u001b[0m\u001b[0mrun_metadata_ptr\u001b[0m\u001b[0;34m)\u001b[0m\u001b[0;34m\u001b[0m\u001b[0m\n",
            "\u001b[0;32m/usr/local/lib/python3.6/dist-packages/tensorflow/python/client/session.py\u001b[0m in \u001b[0;36m_run\u001b[0;34m(self, handle, fetches, feed_dict, options, run_metadata)\u001b[0m\n\u001b[1;32m   1150\u001b[0m     \u001b[0;32mif\u001b[0m \u001b[0mfinal_fetches\u001b[0m \u001b[0;32mor\u001b[0m \u001b[0mfinal_targets\u001b[0m \u001b[0;32mor\u001b[0m \u001b[0;34m(\u001b[0m\u001b[0mhandle\u001b[0m \u001b[0;32mand\u001b[0m \u001b[0mfeed_dict_tensor\u001b[0m\u001b[0;34m)\u001b[0m\u001b[0;34m:\u001b[0m\u001b[0;34m\u001b[0m\u001b[0m\n\u001b[1;32m   1151\u001b[0m       results = self._do_run(handle, final_targets, final_fetches,\n\u001b[0;32m-> 1152\u001b[0;31m                              feed_dict_tensor, options, run_metadata)\n\u001b[0m\u001b[1;32m   1153\u001b[0m     \u001b[0;32melse\u001b[0m\u001b[0;34m:\u001b[0m\u001b[0;34m\u001b[0m\u001b[0m\n\u001b[1;32m   1154\u001b[0m       \u001b[0mresults\u001b[0m \u001b[0;34m=\u001b[0m \u001b[0;34m[\u001b[0m\u001b[0;34m]\u001b[0m\u001b[0;34m\u001b[0m\u001b[0m\n",
            "\u001b[0;32m/usr/local/lib/python3.6/dist-packages/tensorflow/python/client/session.py\u001b[0m in \u001b[0;36m_do_run\u001b[0;34m(self, handle, target_list, fetch_list, feed_dict, options, run_metadata)\u001b[0m\n\u001b[1;32m   1326\u001b[0m     \u001b[0;32mif\u001b[0m \u001b[0mhandle\u001b[0m \u001b[0;32mis\u001b[0m \u001b[0;32mNone\u001b[0m\u001b[0;34m:\u001b[0m\u001b[0;34m\u001b[0m\u001b[0m\n\u001b[1;32m   1327\u001b[0m       return self._do_call(_run_fn, feeds, fetches, targets, options,\n\u001b[0;32m-> 1328\u001b[0;31m                            run_metadata)\n\u001b[0m\u001b[1;32m   1329\u001b[0m     \u001b[0;32melse\u001b[0m\u001b[0;34m:\u001b[0m\u001b[0;34m\u001b[0m\u001b[0m\n\u001b[1;32m   1330\u001b[0m       \u001b[0;32mreturn\u001b[0m \u001b[0mself\u001b[0m\u001b[0;34m.\u001b[0m\u001b[0m_do_call\u001b[0m\u001b[0;34m(\u001b[0m\u001b[0m_prun_fn\u001b[0m\u001b[0;34m,\u001b[0m \u001b[0mhandle\u001b[0m\u001b[0;34m,\u001b[0m \u001b[0mfeeds\u001b[0m\u001b[0;34m,\u001b[0m \u001b[0mfetches\u001b[0m\u001b[0;34m)\u001b[0m\u001b[0;34m\u001b[0m\u001b[0m\n",
            "\u001b[0;32m/usr/local/lib/python3.6/dist-packages/tensorflow/python/client/session.py\u001b[0m in \u001b[0;36m_do_call\u001b[0;34m(self, fn, *args)\u001b[0m\n\u001b[1;32m   1332\u001b[0m   \u001b[0;32mdef\u001b[0m \u001b[0m_do_call\u001b[0m\u001b[0;34m(\u001b[0m\u001b[0mself\u001b[0m\u001b[0;34m,\u001b[0m \u001b[0mfn\u001b[0m\u001b[0;34m,\u001b[0m \u001b[0;34m*\u001b[0m\u001b[0margs\u001b[0m\u001b[0;34m)\u001b[0m\u001b[0;34m:\u001b[0m\u001b[0;34m\u001b[0m\u001b[0m\n\u001b[1;32m   1333\u001b[0m     \u001b[0;32mtry\u001b[0m\u001b[0;34m:\u001b[0m\u001b[0;34m\u001b[0m\u001b[0m\n\u001b[0;32m-> 1334\u001b[0;31m       \u001b[0;32mreturn\u001b[0m \u001b[0mfn\u001b[0m\u001b[0;34m(\u001b[0m\u001b[0;34m*\u001b[0m\u001b[0margs\u001b[0m\u001b[0;34m)\u001b[0m\u001b[0;34m\u001b[0m\u001b[0m\n\u001b[0m\u001b[1;32m   1335\u001b[0m     \u001b[0;32mexcept\u001b[0m \u001b[0merrors\u001b[0m\u001b[0;34m.\u001b[0m\u001b[0mOpError\u001b[0m \u001b[0;32mas\u001b[0m \u001b[0me\u001b[0m\u001b[0;34m:\u001b[0m\u001b[0;34m\u001b[0m\u001b[0m\n\u001b[1;32m   1336\u001b[0m       \u001b[0mmessage\u001b[0m \u001b[0;34m=\u001b[0m \u001b[0mcompat\u001b[0m\u001b[0;34m.\u001b[0m\u001b[0mas_text\u001b[0m\u001b[0;34m(\u001b[0m\u001b[0me\u001b[0m\u001b[0;34m.\u001b[0m\u001b[0mmessage\u001b[0m\u001b[0;34m)\u001b[0m\u001b[0;34m\u001b[0m\u001b[0m\n",
            "\u001b[0;32m/usr/local/lib/python3.6/dist-packages/tensorflow/python/client/session.py\u001b[0m in \u001b[0;36m_run_fn\u001b[0;34m(feed_dict, fetch_list, target_list, options, run_metadata)\u001b[0m\n\u001b[1;32m   1317\u001b[0m       \u001b[0mself\u001b[0m\u001b[0;34m.\u001b[0m\u001b[0m_extend_graph\u001b[0m\u001b[0;34m(\u001b[0m\u001b[0;34m)\u001b[0m\u001b[0;34m\u001b[0m\u001b[0m\n\u001b[1;32m   1318\u001b[0m       return self._call_tf_sessionrun(\n\u001b[0;32m-> 1319\u001b[0;31m           options, feed_dict, fetch_list, target_list, run_metadata)\n\u001b[0m\u001b[1;32m   1320\u001b[0m \u001b[0;34m\u001b[0m\u001b[0m\n\u001b[1;32m   1321\u001b[0m     \u001b[0;32mdef\u001b[0m \u001b[0m_prun_fn\u001b[0m\u001b[0;34m(\u001b[0m\u001b[0mhandle\u001b[0m\u001b[0;34m,\u001b[0m \u001b[0mfeed_dict\u001b[0m\u001b[0;34m,\u001b[0m \u001b[0mfetch_list\u001b[0m\u001b[0;34m)\u001b[0m\u001b[0;34m:\u001b[0m\u001b[0;34m\u001b[0m\u001b[0m\n",
            "\u001b[0;32m/usr/local/lib/python3.6/dist-packages/tensorflow/python/client/session.py\u001b[0m in \u001b[0;36m_call_tf_sessionrun\u001b[0;34m(self, options, feed_dict, fetch_list, target_list, run_metadata)\u001b[0m\n\u001b[1;32m   1405\u001b[0m     return tf_session.TF_SessionRun_wrapper(\n\u001b[1;32m   1406\u001b[0m         \u001b[0mself\u001b[0m\u001b[0;34m.\u001b[0m\u001b[0m_session\u001b[0m\u001b[0;34m,\u001b[0m \u001b[0moptions\u001b[0m\u001b[0;34m,\u001b[0m \u001b[0mfeed_dict\u001b[0m\u001b[0;34m,\u001b[0m \u001b[0mfetch_list\u001b[0m\u001b[0;34m,\u001b[0m \u001b[0mtarget_list\u001b[0m\u001b[0;34m,\u001b[0m\u001b[0;34m\u001b[0m\u001b[0m\n\u001b[0;32m-> 1407\u001b[0;31m         run_metadata)\n\u001b[0m\u001b[1;32m   1408\u001b[0m \u001b[0;34m\u001b[0m\u001b[0m\n\u001b[1;32m   1409\u001b[0m   \u001b[0;32mdef\u001b[0m \u001b[0m_call_tf_sessionprun\u001b[0m\u001b[0;34m(\u001b[0m\u001b[0mself\u001b[0m\u001b[0;34m,\u001b[0m \u001b[0mhandle\u001b[0m\u001b[0;34m,\u001b[0m \u001b[0mfeed_dict\u001b[0m\u001b[0;34m,\u001b[0m \u001b[0mfetch_list\u001b[0m\u001b[0;34m)\u001b[0m\u001b[0;34m:\u001b[0m\u001b[0;34m\u001b[0m\u001b[0m\n",
            "\u001b[0;31mKeyboardInterrupt\u001b[0m: "
          ]
        }
      ]
    },
    {
      "metadata": {
        "id": "oan37rCGZEGr",
        "colab_type": "code",
        "colab": {}
      },
      "cell_type": "code",
      "source": [
        "model.compile(keras.optimizers.Adam(), loss='mse')"
      ],
      "execution_count": 0,
      "outputs": []
    },
    {
      "metadata": {
        "id": "HKxvwuYLa92r",
        "colab_type": "code",
        "colab": {
          "base_uri": "https://localhost:8080/",
          "height": 119
        },
        "outputId": "80438421-6561-49af-eff4-d77397816a37"
      },
      "cell_type": "code",
      "source": [
        "X_train, X_test, y_train, y_test, shape_train, shape_test = train_test_split(images, points, shapes, test_size=0.1)\n",
        "X_train.shape, X_test.shape, y_train.shape, y_test.shape, shape_train.shape, shape_test.shape"
      ],
      "execution_count": 95,
      "outputs": [
        {
          "output_type": "execute_result",
          "data": {
            "text/plain": [
              "((5400, 100, 100, 3),\n",
              " (600, 100, 100, 3),\n",
              " (5400, 28),\n",
              " (600, 28),\n",
              " (5400, 2),\n",
              " (600, 2))"
            ]
          },
          "metadata": {
            "tags": []
          },
          "execution_count": 95
        }
      ]
    },
    {
      "metadata": {
        "id": "hWIc4bFTZKG3",
        "colab_type": "code",
        "colab": {
          "base_uri": "https://localhost:8080/",
          "height": 2104
        },
        "outputId": "3283bd9f-4980-4aa1-d57b-c5afdf9cdf6a"
      },
      "cell_type": "code",
      "source": [
        "model.fit(X_train, y_train, batch_size=256, epochs=98, verbose=1, validation_data=(X_test, y_test))"
      ],
      "execution_count": 96,
      "outputs": [
        {
          "output_type": "stream",
          "text": [
            "Train on 5400 samples, validate on 600 samples\n",
            "Epoch 1/98\n",
            "5400/5400 [==============================] - 24s 4ms/step - loss: 37.0524 - val_loss: 694.3705\n",
            "Epoch 2/98\n",
            "5400/5400 [==============================] - 16s 3ms/step - loss: 8.1859 - val_loss: 35.6170\n",
            "Epoch 3/98\n",
            "5400/5400 [==============================] - 17s 3ms/step - loss: 4.9971 - val_loss: 11.0100\n",
            "Epoch 4/98\n",
            "5400/5400 [==============================] - 16s 3ms/step - loss: 3.8979 - val_loss: 14.6874\n",
            "Epoch 5/98\n",
            "5400/5400 [==============================] - 16s 3ms/step - loss: 2.9919 - val_loss: 26.6359\n",
            "Epoch 6/98\n",
            "5400/5400 [==============================] - 16s 3ms/step - loss: 2.7654 - val_loss: 14.1308\n",
            "Epoch 7/98\n",
            "5400/5400 [==============================] - 16s 3ms/step - loss: 2.2250 - val_loss: 9.4205\n",
            "Epoch 8/98\n",
            "5400/5400 [==============================] - 16s 3ms/step - loss: 2.0815 - val_loss: 8.8571\n",
            "Epoch 9/98\n",
            "5400/5400 [==============================] - 16s 3ms/step - loss: 2.2173 - val_loss: 7.5156\n",
            "Epoch 10/98\n",
            "5400/5400 [==============================] - 16s 3ms/step - loss: 1.8908 - val_loss: 7.7511\n",
            "Epoch 11/98\n",
            "5400/5400 [==============================] - 16s 3ms/step - loss: 1.7337 - val_loss: 7.6362\n",
            "Epoch 12/98\n",
            "5400/5400 [==============================] - 17s 3ms/step - loss: 1.8625 - val_loss: 3.6141\n",
            "Epoch 13/98\n",
            "5400/5400 [==============================] - 16s 3ms/step - loss: 1.8043 - val_loss: 3.6337\n",
            "Epoch 14/98\n",
            "5400/5400 [==============================] - 16s 3ms/step - loss: 1.7070 - val_loss: 8.5464\n",
            "Epoch 15/98\n",
            "5400/5400 [==============================] - 16s 3ms/step - loss: 2.0934 - val_loss: 5.0463\n",
            "Epoch 16/98\n",
            "5400/5400 [==============================] - 15s 3ms/step - loss: 1.9048 - val_loss: 2.4039\n",
            "Epoch 17/98\n",
            "5400/5400 [==============================] - 16s 3ms/step - loss: 1.5971 - val_loss: 2.7633\n",
            "Epoch 18/98\n",
            "5400/5400 [==============================] - 16s 3ms/step - loss: 1.9196 - val_loss: 2.5806\n",
            "Epoch 19/98\n",
            "5400/5400 [==============================] - 17s 3ms/step - loss: 1.9230 - val_loss: 3.6105\n",
            "Epoch 20/98\n",
            "5400/5400 [==============================] - 16s 3ms/step - loss: 1.9807 - val_loss: 2.3551\n",
            "Epoch 21/98\n",
            "1280/5400 [======>.......................] - ETA: 11s - loss: 1.6587"
          ],
          "name": "stdout"
        },
        {
          "output_type": "error",
          "ename": "KeyboardInterrupt",
          "evalue": "ignored",
          "traceback": [
            "\u001b[0;31m---------------------------------------------------------------------------\u001b[0m",
            "\u001b[0;31mKeyboardInterrupt\u001b[0m                         Traceback (most recent call last)",
            "\u001b[0;32m<ipython-input-96-e75c6ab67ef2>\u001b[0m in \u001b[0;36m<module>\u001b[0;34m()\u001b[0m\n\u001b[0;32m----> 1\u001b[0;31m \u001b[0mmodel\u001b[0m\u001b[0;34m.\u001b[0m\u001b[0mfit\u001b[0m\u001b[0;34m(\u001b[0m\u001b[0mX_train\u001b[0m\u001b[0;34m,\u001b[0m \u001b[0my_train\u001b[0m\u001b[0;34m,\u001b[0m \u001b[0mbatch_size\u001b[0m\u001b[0;34m=\u001b[0m\u001b[0;36m256\u001b[0m\u001b[0;34m,\u001b[0m \u001b[0mepochs\u001b[0m\u001b[0;34m=\u001b[0m\u001b[0;36m98\u001b[0m\u001b[0;34m,\u001b[0m \u001b[0mverbose\u001b[0m\u001b[0;34m=\u001b[0m\u001b[0;36m1\u001b[0m\u001b[0;34m,\u001b[0m \u001b[0mvalidation_data\u001b[0m\u001b[0;34m=\u001b[0m\u001b[0;34m(\u001b[0m\u001b[0mX_test\u001b[0m\u001b[0;34m,\u001b[0m \u001b[0my_test\u001b[0m\u001b[0;34m)\u001b[0m\u001b[0;34m)\u001b[0m\u001b[0;34m\u001b[0m\u001b[0m\n\u001b[0m",
            "\u001b[0;32m/usr/local/lib/python3.6/dist-packages/keras/models.py\u001b[0m in \u001b[0;36mfit\u001b[0;34m(self, x, y, batch_size, epochs, verbose, callbacks, validation_split, validation_data, shuffle, class_weight, sample_weight, initial_epoch, steps_per_epoch, validation_steps, **kwargs)\u001b[0m\n\u001b[1;32m   1000\u001b[0m                               \u001b[0minitial_epoch\u001b[0m\u001b[0;34m=\u001b[0m\u001b[0minitial_epoch\u001b[0m\u001b[0;34m,\u001b[0m\u001b[0;34m\u001b[0m\u001b[0m\n\u001b[1;32m   1001\u001b[0m                               \u001b[0msteps_per_epoch\u001b[0m\u001b[0;34m=\u001b[0m\u001b[0msteps_per_epoch\u001b[0m\u001b[0;34m,\u001b[0m\u001b[0;34m\u001b[0m\u001b[0m\n\u001b[0;32m-> 1002\u001b[0;31m                               validation_steps=validation_steps)\n\u001b[0m\u001b[1;32m   1003\u001b[0m \u001b[0;34m\u001b[0m\u001b[0m\n\u001b[1;32m   1004\u001b[0m     def evaluate(self, x=None, y=None,\n",
            "\u001b[0;32m/usr/local/lib/python3.6/dist-packages/keras/engine/training.py\u001b[0m in \u001b[0;36mfit\u001b[0;34m(self, x, y, batch_size, epochs, verbose, callbacks, validation_split, validation_data, shuffle, class_weight, sample_weight, initial_epoch, steps_per_epoch, validation_steps, **kwargs)\u001b[0m\n\u001b[1;32m   1703\u001b[0m                               \u001b[0minitial_epoch\u001b[0m\u001b[0;34m=\u001b[0m\u001b[0minitial_epoch\u001b[0m\u001b[0;34m,\u001b[0m\u001b[0;34m\u001b[0m\u001b[0m\n\u001b[1;32m   1704\u001b[0m                               \u001b[0msteps_per_epoch\u001b[0m\u001b[0;34m=\u001b[0m\u001b[0msteps_per_epoch\u001b[0m\u001b[0;34m,\u001b[0m\u001b[0;34m\u001b[0m\u001b[0m\n\u001b[0;32m-> 1705\u001b[0;31m                               validation_steps=validation_steps)\n\u001b[0m\u001b[1;32m   1706\u001b[0m \u001b[0;34m\u001b[0m\u001b[0m\n\u001b[1;32m   1707\u001b[0m     def evaluate(self, x=None, y=None,\n",
            "\u001b[0;32m/usr/local/lib/python3.6/dist-packages/keras/engine/training.py\u001b[0m in \u001b[0;36m_fit_loop\u001b[0;34m(self, f, ins, out_labels, batch_size, epochs, verbose, callbacks, val_f, val_ins, shuffle, callback_metrics, initial_epoch, steps_per_epoch, validation_steps)\u001b[0m\n\u001b[1;32m   1234\u001b[0m                         \u001b[0mins_batch\u001b[0m\u001b[0;34m[\u001b[0m\u001b[0mi\u001b[0m\u001b[0;34m]\u001b[0m \u001b[0;34m=\u001b[0m \u001b[0mins_batch\u001b[0m\u001b[0;34m[\u001b[0m\u001b[0mi\u001b[0m\u001b[0;34m]\u001b[0m\u001b[0;34m.\u001b[0m\u001b[0mtoarray\u001b[0m\u001b[0;34m(\u001b[0m\u001b[0;34m)\u001b[0m\u001b[0;34m\u001b[0m\u001b[0m\n\u001b[1;32m   1235\u001b[0m \u001b[0;34m\u001b[0m\u001b[0m\n\u001b[0;32m-> 1236\u001b[0;31m                     \u001b[0mouts\u001b[0m \u001b[0;34m=\u001b[0m \u001b[0mf\u001b[0m\u001b[0;34m(\u001b[0m\u001b[0mins_batch\u001b[0m\u001b[0;34m)\u001b[0m\u001b[0;34m\u001b[0m\u001b[0m\n\u001b[0m\u001b[1;32m   1237\u001b[0m                     \u001b[0;32mif\u001b[0m \u001b[0;32mnot\u001b[0m \u001b[0misinstance\u001b[0m\u001b[0;34m(\u001b[0m\u001b[0mouts\u001b[0m\u001b[0;34m,\u001b[0m \u001b[0mlist\u001b[0m\u001b[0;34m)\u001b[0m\u001b[0;34m:\u001b[0m\u001b[0;34m\u001b[0m\u001b[0m\n\u001b[1;32m   1238\u001b[0m                         \u001b[0mouts\u001b[0m \u001b[0;34m=\u001b[0m \u001b[0;34m[\u001b[0m\u001b[0mouts\u001b[0m\u001b[0;34m]\u001b[0m\u001b[0;34m\u001b[0m\u001b[0m\n",
            "\u001b[0;32m/usr/local/lib/python3.6/dist-packages/keras/backend/tensorflow_backend.py\u001b[0m in \u001b[0;36m__call__\u001b[0;34m(self, inputs)\u001b[0m\n\u001b[1;32m   2480\u001b[0m         \u001b[0msession\u001b[0m \u001b[0;34m=\u001b[0m \u001b[0mget_session\u001b[0m\u001b[0;34m(\u001b[0m\u001b[0;34m)\u001b[0m\u001b[0;34m\u001b[0m\u001b[0m\n\u001b[1;32m   2481\u001b[0m         updated = session.run(fetches=fetches, feed_dict=feed_dict,\n\u001b[0;32m-> 2482\u001b[0;31m                               **self.session_kwargs)\n\u001b[0m\u001b[1;32m   2483\u001b[0m         \u001b[0;32mreturn\u001b[0m \u001b[0mupdated\u001b[0m\u001b[0;34m[\u001b[0m\u001b[0;34m:\u001b[0m\u001b[0mlen\u001b[0m\u001b[0;34m(\u001b[0m\u001b[0mself\u001b[0m\u001b[0;34m.\u001b[0m\u001b[0moutputs\u001b[0m\u001b[0;34m)\u001b[0m\u001b[0;34m]\u001b[0m\u001b[0;34m\u001b[0m\u001b[0m\n\u001b[1;32m   2484\u001b[0m \u001b[0;34m\u001b[0m\u001b[0m\n",
            "\u001b[0;32m/usr/local/lib/python3.6/dist-packages/tensorflow/python/client/session.py\u001b[0m in \u001b[0;36mrun\u001b[0;34m(self, fetches, feed_dict, options, run_metadata)\u001b[0m\n\u001b[1;32m    927\u001b[0m     \u001b[0;32mtry\u001b[0m\u001b[0;34m:\u001b[0m\u001b[0;34m\u001b[0m\u001b[0m\n\u001b[1;32m    928\u001b[0m       result = self._run(None, fetches, feed_dict, options_ptr,\n\u001b[0;32m--> 929\u001b[0;31m                          run_metadata_ptr)\n\u001b[0m\u001b[1;32m    930\u001b[0m       \u001b[0;32mif\u001b[0m \u001b[0mrun_metadata\u001b[0m\u001b[0;34m:\u001b[0m\u001b[0;34m\u001b[0m\u001b[0m\n\u001b[1;32m    931\u001b[0m         \u001b[0mproto_data\u001b[0m \u001b[0;34m=\u001b[0m \u001b[0mtf_session\u001b[0m\u001b[0;34m.\u001b[0m\u001b[0mTF_GetBuffer\u001b[0m\u001b[0;34m(\u001b[0m\u001b[0mrun_metadata_ptr\u001b[0m\u001b[0;34m)\u001b[0m\u001b[0;34m\u001b[0m\u001b[0m\n",
            "\u001b[0;32m/usr/local/lib/python3.6/dist-packages/tensorflow/python/client/session.py\u001b[0m in \u001b[0;36m_run\u001b[0;34m(self, handle, fetches, feed_dict, options, run_metadata)\u001b[0m\n\u001b[1;32m   1150\u001b[0m     \u001b[0;32mif\u001b[0m \u001b[0mfinal_fetches\u001b[0m \u001b[0;32mor\u001b[0m \u001b[0mfinal_targets\u001b[0m \u001b[0;32mor\u001b[0m \u001b[0;34m(\u001b[0m\u001b[0mhandle\u001b[0m \u001b[0;32mand\u001b[0m \u001b[0mfeed_dict_tensor\u001b[0m\u001b[0;34m)\u001b[0m\u001b[0;34m:\u001b[0m\u001b[0;34m\u001b[0m\u001b[0m\n\u001b[1;32m   1151\u001b[0m       results = self._do_run(handle, final_targets, final_fetches,\n\u001b[0;32m-> 1152\u001b[0;31m                              feed_dict_tensor, options, run_metadata)\n\u001b[0m\u001b[1;32m   1153\u001b[0m     \u001b[0;32melse\u001b[0m\u001b[0;34m:\u001b[0m\u001b[0;34m\u001b[0m\u001b[0m\n\u001b[1;32m   1154\u001b[0m       \u001b[0mresults\u001b[0m \u001b[0;34m=\u001b[0m \u001b[0;34m[\u001b[0m\u001b[0;34m]\u001b[0m\u001b[0;34m\u001b[0m\u001b[0m\n",
            "\u001b[0;32m/usr/local/lib/python3.6/dist-packages/tensorflow/python/client/session.py\u001b[0m in \u001b[0;36m_do_run\u001b[0;34m(self, handle, target_list, fetch_list, feed_dict, options, run_metadata)\u001b[0m\n\u001b[1;32m   1326\u001b[0m     \u001b[0;32mif\u001b[0m \u001b[0mhandle\u001b[0m \u001b[0;32mis\u001b[0m \u001b[0;32mNone\u001b[0m\u001b[0;34m:\u001b[0m\u001b[0;34m\u001b[0m\u001b[0m\n\u001b[1;32m   1327\u001b[0m       return self._do_call(_run_fn, feeds, fetches, targets, options,\n\u001b[0;32m-> 1328\u001b[0;31m                            run_metadata)\n\u001b[0m\u001b[1;32m   1329\u001b[0m     \u001b[0;32melse\u001b[0m\u001b[0;34m:\u001b[0m\u001b[0;34m\u001b[0m\u001b[0m\n\u001b[1;32m   1330\u001b[0m       \u001b[0;32mreturn\u001b[0m \u001b[0mself\u001b[0m\u001b[0;34m.\u001b[0m\u001b[0m_do_call\u001b[0m\u001b[0;34m(\u001b[0m\u001b[0m_prun_fn\u001b[0m\u001b[0;34m,\u001b[0m \u001b[0mhandle\u001b[0m\u001b[0;34m,\u001b[0m \u001b[0mfeeds\u001b[0m\u001b[0;34m,\u001b[0m \u001b[0mfetches\u001b[0m\u001b[0;34m)\u001b[0m\u001b[0;34m\u001b[0m\u001b[0m\n",
            "\u001b[0;32m/usr/local/lib/python3.6/dist-packages/tensorflow/python/client/session.py\u001b[0m in \u001b[0;36m_do_call\u001b[0;34m(self, fn, *args)\u001b[0m\n\u001b[1;32m   1332\u001b[0m   \u001b[0;32mdef\u001b[0m \u001b[0m_do_call\u001b[0m\u001b[0;34m(\u001b[0m\u001b[0mself\u001b[0m\u001b[0;34m,\u001b[0m \u001b[0mfn\u001b[0m\u001b[0;34m,\u001b[0m \u001b[0;34m*\u001b[0m\u001b[0margs\u001b[0m\u001b[0;34m)\u001b[0m\u001b[0;34m:\u001b[0m\u001b[0;34m\u001b[0m\u001b[0m\n\u001b[1;32m   1333\u001b[0m     \u001b[0;32mtry\u001b[0m\u001b[0;34m:\u001b[0m\u001b[0;34m\u001b[0m\u001b[0m\n\u001b[0;32m-> 1334\u001b[0;31m       \u001b[0;32mreturn\u001b[0m \u001b[0mfn\u001b[0m\u001b[0;34m(\u001b[0m\u001b[0;34m*\u001b[0m\u001b[0margs\u001b[0m\u001b[0;34m)\u001b[0m\u001b[0;34m\u001b[0m\u001b[0m\n\u001b[0m\u001b[1;32m   1335\u001b[0m     \u001b[0;32mexcept\u001b[0m \u001b[0merrors\u001b[0m\u001b[0;34m.\u001b[0m\u001b[0mOpError\u001b[0m \u001b[0;32mas\u001b[0m \u001b[0me\u001b[0m\u001b[0;34m:\u001b[0m\u001b[0;34m\u001b[0m\u001b[0m\n\u001b[1;32m   1336\u001b[0m       \u001b[0mmessage\u001b[0m \u001b[0;34m=\u001b[0m \u001b[0mcompat\u001b[0m\u001b[0;34m.\u001b[0m\u001b[0mas_text\u001b[0m\u001b[0;34m(\u001b[0m\u001b[0me\u001b[0m\u001b[0;34m.\u001b[0m\u001b[0mmessage\u001b[0m\u001b[0;34m)\u001b[0m\u001b[0;34m\u001b[0m\u001b[0m\n",
            "\u001b[0;32m/usr/local/lib/python3.6/dist-packages/tensorflow/python/client/session.py\u001b[0m in \u001b[0;36m_run_fn\u001b[0;34m(feed_dict, fetch_list, target_list, options, run_metadata)\u001b[0m\n\u001b[1;32m   1317\u001b[0m       \u001b[0mself\u001b[0m\u001b[0;34m.\u001b[0m\u001b[0m_extend_graph\u001b[0m\u001b[0;34m(\u001b[0m\u001b[0;34m)\u001b[0m\u001b[0;34m\u001b[0m\u001b[0m\n\u001b[1;32m   1318\u001b[0m       return self._call_tf_sessionrun(\n\u001b[0;32m-> 1319\u001b[0;31m           options, feed_dict, fetch_list, target_list, run_metadata)\n\u001b[0m\u001b[1;32m   1320\u001b[0m \u001b[0;34m\u001b[0m\u001b[0m\n\u001b[1;32m   1321\u001b[0m     \u001b[0;32mdef\u001b[0m \u001b[0m_prun_fn\u001b[0m\u001b[0;34m(\u001b[0m\u001b[0mhandle\u001b[0m\u001b[0;34m,\u001b[0m \u001b[0mfeed_dict\u001b[0m\u001b[0;34m,\u001b[0m \u001b[0mfetch_list\u001b[0m\u001b[0;34m)\u001b[0m\u001b[0;34m:\u001b[0m\u001b[0;34m\u001b[0m\u001b[0m\n",
            "\u001b[0;32m/usr/local/lib/python3.6/dist-packages/tensorflow/python/client/session.py\u001b[0m in \u001b[0;36m_call_tf_sessionrun\u001b[0;34m(self, options, feed_dict, fetch_list, target_list, run_metadata)\u001b[0m\n\u001b[1;32m   1405\u001b[0m     return tf_session.TF_SessionRun_wrapper(\n\u001b[1;32m   1406\u001b[0m         \u001b[0mself\u001b[0m\u001b[0;34m.\u001b[0m\u001b[0m_session\u001b[0m\u001b[0;34m,\u001b[0m \u001b[0moptions\u001b[0m\u001b[0;34m,\u001b[0m \u001b[0mfeed_dict\u001b[0m\u001b[0;34m,\u001b[0m \u001b[0mfetch_list\u001b[0m\u001b[0;34m,\u001b[0m \u001b[0mtarget_list\u001b[0m\u001b[0;34m,\u001b[0m\u001b[0;34m\u001b[0m\u001b[0m\n\u001b[0;32m-> 1407\u001b[0;31m         run_metadata)\n\u001b[0m\u001b[1;32m   1408\u001b[0m \u001b[0;34m\u001b[0m\u001b[0m\n\u001b[1;32m   1409\u001b[0m   \u001b[0;32mdef\u001b[0m \u001b[0m_call_tf_sessionprun\u001b[0m\u001b[0;34m(\u001b[0m\u001b[0mself\u001b[0m\u001b[0;34m,\u001b[0m \u001b[0mhandle\u001b[0m\u001b[0;34m,\u001b[0m \u001b[0mfeed_dict\u001b[0m\u001b[0;34m,\u001b[0m \u001b[0mfetch_list\u001b[0m\u001b[0;34m)\u001b[0m\u001b[0;34m:\u001b[0m\u001b[0;34m\u001b[0m\u001b[0m\n",
            "\u001b[0;31mKeyboardInterrupt\u001b[0m: "
          ]
        }
      ]
    },
    {
      "metadata": {
        "id": "AWY0aRr-e0RX",
        "colab_type": "code",
        "colab": {}
      },
      "cell_type": "code",
      "source": [
        "model.save(PATH + 'stupid_model_2.hdf5')"
      ],
      "execution_count": 0,
      "outputs": []
    }
  ]
}